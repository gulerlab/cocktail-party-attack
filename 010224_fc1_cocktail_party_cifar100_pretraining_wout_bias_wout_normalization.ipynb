{
 "cells": [
  {
   "cell_type": "code",
   "execution_count": 1,
   "outputs": [],
   "source": [
    "from train import train_all\n",
    "from data import load_cifar100_dataloaders\n",
    "import torchvision.transforms as transforms"
   ],
   "metadata": {
    "collapsed": false,
    "ExecuteTime": {
     "end_time": "2024-01-02T20:23:03.713135999Z",
     "start_time": "2024-01-02T20:23:02.615290140Z"
    }
   },
   "id": "c6a348ba109107b5"
  },
  {
   "cell_type": "code",
   "execution_count": 2,
   "outputs": [],
   "source": [
    "batch_size = 64\n",
    "data_path = './data'\n",
    "\n",
    "model_config = './model_config/fc1_cocktail_party_cifar100_instance.json'\n",
    "optimizer_type = 'Adam'\n",
    "learning_rate = 0.001\n",
    "criterion_type = 'CrossEntropyLoss'\n",
    "num_epochs = 20\n",
    "save_path = './checkpoints/010224_fc1_cocktail_party_cifar100_pretraining_wout_bias_wout_normalization.pth'\n",
    "save_interval = 100\n",
    "linearize = True"
   ],
   "metadata": {
    "collapsed": false,
    "ExecuteTime": {
     "end_time": "2024-01-02T20:23:04.707442438Z",
     "start_time": "2024-01-02T20:23:04.704340574Z"
    }
   },
   "id": "75b482cb3415ff10"
  },
  {
   "cell_type": "code",
   "execution_count": 3,
   "outputs": [],
   "source": [
    "transform = transforms.Compose([\n",
    "    transforms.ToTensor(),\n",
    "])"
   ],
   "metadata": {
    "collapsed": false,
    "ExecuteTime": {
     "end_time": "2024-01-02T20:23:05.913259130Z",
     "start_time": "2024-01-02T20:23:05.911035332Z"
    }
   },
   "id": "f4942066bc53047b"
  },
  {
   "cell_type": "code",
   "execution_count": 4,
   "outputs": [
    {
     "name": "stdout",
     "output_type": "stream",
     "text": [
      "Downloading https://www.cs.toronto.edu/~kriz/cifar-100-python.tar.gz to ./data/cifar-100-python.tar.gz\n"
     ]
    },
    {
     "name": "stderr",
     "output_type": "stream",
     "text": [
      "100%|██████████| 169001437/169001437 [00:22<00:00, 7477324.84it/s] \n"
     ]
    },
    {
     "name": "stdout",
     "output_type": "stream",
     "text": [
      "Extracting ./data/cifar-100-python.tar.gz to ./data\n",
      "Files already downloaded and verified\n"
     ]
    }
   ],
   "source": [
    "train_loader, val_loader = load_cifar100_dataloaders(data_path, batch_size, transform)"
   ],
   "metadata": {
    "collapsed": false,
    "ExecuteTime": {
     "end_time": "2024-01-02T20:23:32.184461Z",
     "start_time": "2024-01-02T20:23:06.821880448Z"
    }
   },
   "id": "36484cfaf87561f7"
  },
  {
   "cell_type": "code",
   "execution_count": 5,
   "outputs": [
    {
     "name": "stdout",
     "output_type": "stream",
     "text": [
      "Saving model...\n",
      "epoch: 1, iter: 100/782, train_loss: 4.2342, val_loss: 4.5941, val_accuracy: 4.4904\n",
      "Saving model...\n",
      "epoch: 1, iter: 200/782, train_loss: 4.4323, val_loss: 4.2290, val_accuracy: 5.0573\n",
      "Saving model...\n",
      "epoch: 1, iter: 300/782, train_loss: 4.0782, val_loss: 4.1954, val_accuracy: 6.2166\n",
      "Saving model...\n",
      "epoch: 1, iter: 400/782, train_loss: 4.1733, val_loss: 4.2686, val_accuracy: 6.5987\n",
      "Saving model...\n",
      "epoch: 1, iter: 500/782, train_loss: 4.0362, val_loss: 4.1877, val_accuracy: 6.7898\n",
      "Saving model...\n",
      "epoch: 1, iter: 600/782, train_loss: 3.8914, val_loss: 4.0984, val_accuracy: 7.5223\n",
      "epoch: 1, iter: 700/782, train_loss: 3.9955, val_loss: 4.1102, val_accuracy: 6.7516\n",
      "Restoring model...\n",
      "epoch: 2, iter: 100/782, train_loss: 4.2004, val_loss: 4.1424, val_accuracy: 7.5096\n",
      "Saving model...\n",
      "epoch: 2, iter: 200/782, train_loss: 3.6630, val_loss: 4.0994, val_accuracy: 7.6433\n",
      "epoch: 2, iter: 300/782, train_loss: 3.8963, val_loss: 4.1205, val_accuracy: 7.5159\n",
      "epoch: 2, iter: 400/782, train_loss: 4.3581, val_loss: 4.1725, val_accuracy: 6.9682\n",
      "Saving model...\n",
      "epoch: 2, iter: 500/782, train_loss: 3.7534, val_loss: 4.0876, val_accuracy: 8.1975\n",
      "epoch: 2, iter: 600/782, train_loss: 3.9948, val_loss: 4.1431, val_accuracy: 7.4841\n",
      "epoch: 2, iter: 700/782, train_loss: 3.9675, val_loss: 4.0797, val_accuracy: 7.4395\n",
      "Restoring model...\n",
      "epoch: 3, iter: 100/782, train_loss: 4.1348, val_loss: 4.1211, val_accuracy: 7.5223\n",
      "epoch: 3, iter: 200/782, train_loss: 4.1547, val_loss: 4.0368, val_accuracy: 8.0064\n",
      "Saving model...\n",
      "epoch: 3, iter: 300/782, train_loss: 3.8008, val_loss: 4.0758, val_accuracy: 8.5159\n",
      "epoch: 3, iter: 400/782, train_loss: 4.0675, val_loss: 4.0998, val_accuracy: 7.6306\n",
      "epoch: 3, iter: 500/782, train_loss: 4.3750, val_loss: 4.0918, val_accuracy: 8.3057\n",
      "epoch: 3, iter: 600/782, train_loss: 4.1878, val_loss: 4.1976, val_accuracy: 7.7771\n",
      "epoch: 3, iter: 700/782, train_loss: 3.9935, val_loss: 4.2162, val_accuracy: 7.0701\n",
      "Restoring model...\n",
      "epoch: 4, iter: 100/782, train_loss: 3.8604, val_loss: 4.1739, val_accuracy: 7.5414\n",
      "epoch: 4, iter: 200/782, train_loss: 4.0547, val_loss: 4.0530, val_accuracy: 7.9618\n",
      "epoch: 4, iter: 300/782, train_loss: 4.0422, val_loss: 4.0883, val_accuracy: 7.9490\n",
      "epoch: 4, iter: 400/782, train_loss: 4.3575, val_loss: 4.1012, val_accuracy: 7.7771\n",
      "Saving model...\n",
      "epoch: 4, iter: 500/782, train_loss: 3.7005, val_loss: 4.0596, val_accuracy: 8.5414\n",
      "epoch: 4, iter: 600/782, train_loss: 4.1613, val_loss: 4.0980, val_accuracy: 8.2611\n",
      "epoch: 4, iter: 700/782, train_loss: 3.7246, val_loss: 4.0907, val_accuracy: 7.5287\n",
      "Restoring model...\n",
      "epoch: 5, iter: 100/782, train_loss: 3.7965, val_loss: 4.0601, val_accuracy: 8.3758\n",
      "epoch: 5, iter: 200/782, train_loss: 3.8657, val_loss: 4.1502, val_accuracy: 7.4076\n",
      "epoch: 5, iter: 300/782, train_loss: 4.0803, val_loss: 4.0862, val_accuracy: 8.4140\n",
      "epoch: 5, iter: 400/782, train_loss: 4.0984, val_loss: 4.0945, val_accuracy: 7.4904\n",
      "epoch: 5, iter: 500/782, train_loss: 3.9304, val_loss: 4.1580, val_accuracy: 8.5096\n",
      "epoch: 5, iter: 600/782, train_loss: 3.9983, val_loss: 4.0892, val_accuracy: 8.2611\n",
      "epoch: 5, iter: 700/782, train_loss: 3.7335, val_loss: 4.1738, val_accuracy: 7.9172\n",
      "Restoring model...\n",
      "epoch: 6, iter: 100/782, train_loss: 3.4834, val_loss: 4.0549, val_accuracy: 8.0255\n",
      "epoch: 6, iter: 200/782, train_loss: 4.2853, val_loss: 4.1590, val_accuracy: 7.1656\n",
      "epoch: 6, iter: 300/782, train_loss: 3.7576, val_loss: 4.1695, val_accuracy: 7.1592\n",
      "epoch: 6, iter: 400/782, train_loss: 3.5091, val_loss: 4.1060, val_accuracy: 8.0255\n",
      "epoch: 6, iter: 500/782, train_loss: 3.9220, val_loss: 4.0919, val_accuracy: 8.0000\n",
      "epoch: 6, iter: 600/782, train_loss: 3.4362, val_loss: 4.1239, val_accuracy: 8.2484\n",
      "epoch: 6, iter: 700/782, train_loss: 4.0451, val_loss: 4.1124, val_accuracy: 8.1210\n",
      "Restoring model...\n",
      "Saving model...\n",
      "epoch: 7, iter: 100/782, train_loss: 3.7999, val_loss: 4.1451, val_accuracy: 8.8535\n",
      "epoch: 7, iter: 200/782, train_loss: 3.8953, val_loss: 4.1797, val_accuracy: 7.6051\n",
      "epoch: 7, iter: 300/782, train_loss: 3.8732, val_loss: 4.0630, val_accuracy: 8.1465\n",
      "epoch: 7, iter: 400/782, train_loss: 4.4164, val_loss: 4.0416, val_accuracy: 8.2548\n",
      "Saving model...\n",
      "epoch: 7, iter: 500/782, train_loss: 3.5638, val_loss: 4.0506, val_accuracy: 8.9936\n",
      "epoch: 7, iter: 600/782, train_loss: 4.0052, val_loss: 4.0247, val_accuracy: 8.5541\n",
      "epoch: 7, iter: 700/782, train_loss: 3.7599, val_loss: 4.0418, val_accuracy: 8.6369\n",
      "Restoring model...\n",
      "epoch: 8, iter: 100/782, train_loss: 4.0294, val_loss: 4.0437, val_accuracy: 8.7962\n",
      "epoch: 8, iter: 200/782, train_loss: 3.5636, val_loss: 4.0729, val_accuracy: 8.4841\n",
      "epoch: 8, iter: 300/782, train_loss: 3.7227, val_loss: 4.1491, val_accuracy: 8.2484\n",
      "epoch: 8, iter: 400/782, train_loss: 3.8503, val_loss: 4.0512, val_accuracy: 8.8153\n",
      "Saving model...\n",
      "epoch: 8, iter: 500/782, train_loss: 3.6017, val_loss: 4.0188, val_accuracy: 9.0191\n",
      "epoch: 8, iter: 600/782, train_loss: 3.7622, val_loss: 4.0753, val_accuracy: 8.0955\n",
      "epoch: 8, iter: 700/782, train_loss: 3.8320, val_loss: 4.0220, val_accuracy: 8.6497\n",
      "Restoring model...\n",
      "epoch: 9, iter: 100/782, train_loss: 4.3406, val_loss: 4.1081, val_accuracy: 8.2739\n",
      "epoch: 9, iter: 200/782, train_loss: 3.9440, val_loss: 4.0652, val_accuracy: 8.3376\n",
      "epoch: 9, iter: 300/782, train_loss: 3.7804, val_loss: 4.0441, val_accuracy: 8.6115\n",
      "epoch: 9, iter: 400/782, train_loss: 3.9084, val_loss: 4.0839, val_accuracy: 8.5350\n",
      "epoch: 9, iter: 500/782, train_loss: 3.9832, val_loss: 4.0852, val_accuracy: 8.2675\n",
      "epoch: 9, iter: 600/782, train_loss: 4.1164, val_loss: 4.0541, val_accuracy: 8.9363\n",
      "epoch: 9, iter: 700/782, train_loss: 3.8925, val_loss: 4.0678, val_accuracy: 8.2038\n",
      "Restoring model...\n",
      "epoch: 10, iter: 100/782, train_loss: 3.9302, val_loss: 4.0240, val_accuracy: 8.5732\n",
      "epoch: 10, iter: 200/782, train_loss: 3.7657, val_loss: 4.0772, val_accuracy: 8.8917\n",
      "epoch: 10, iter: 300/782, train_loss: 3.5856, val_loss: 4.0895, val_accuracy: 8.8153\n",
      "epoch: 10, iter: 400/782, train_loss: 3.6712, val_loss: 4.0502, val_accuracy: 8.2675\n",
      "epoch: 10, iter: 500/782, train_loss: 3.9923, val_loss: 4.0123, val_accuracy: 8.9427\n",
      "epoch: 10, iter: 600/782, train_loss: 3.6501, val_loss: 4.0696, val_accuracy: 8.4013\n",
      "epoch: 10, iter: 700/782, train_loss: 3.9197, val_loss: 4.0725, val_accuracy: 8.1210\n",
      "Restoring model...\n",
      "epoch: 11, iter: 100/782, train_loss: 3.4666, val_loss: 4.0464, val_accuracy: 8.4140\n",
      "epoch: 11, iter: 200/782, train_loss: 3.6899, val_loss: 4.0446, val_accuracy: 8.6943\n",
      "Saving model...\n",
      "epoch: 11, iter: 300/782, train_loss: 3.8400, val_loss: 4.0509, val_accuracy: 9.0701\n",
      "epoch: 11, iter: 400/782, train_loss: 4.2507, val_loss: 4.2397, val_accuracy: 7.8662\n",
      "epoch: 11, iter: 500/782, train_loss: 3.6559, val_loss: 4.1096, val_accuracy: 8.4459\n",
      "Saving model...\n",
      "epoch: 11, iter: 600/782, train_loss: 3.8107, val_loss: 3.9922, val_accuracy: 9.2803\n",
      "epoch: 11, iter: 700/782, train_loss: 3.5189, val_loss: 4.0182, val_accuracy: 8.7643\n",
      "Restoring model...\n",
      "epoch: 12, iter: 100/782, train_loss: 3.5387, val_loss: 4.0640, val_accuracy: 8.6178\n",
      "epoch: 12, iter: 200/782, train_loss: 3.7151, val_loss: 4.0978, val_accuracy: 8.7070\n",
      "epoch: 12, iter: 300/782, train_loss: 3.4288, val_loss: 3.9532, val_accuracy: 9.1210\n",
      "epoch: 12, iter: 400/782, train_loss: 3.3834, val_loss: 4.0067, val_accuracy: 8.7643\n",
      "epoch: 12, iter: 500/782, train_loss: 3.9277, val_loss: 4.1419, val_accuracy: 8.5669\n",
      "epoch: 12, iter: 600/782, train_loss: 3.9856, val_loss: 4.1985, val_accuracy: 7.9873\n",
      "epoch: 12, iter: 700/782, train_loss: 3.7405, val_loss: 4.0222, val_accuracy: 9.1720\n",
      "Restoring model...\n",
      "epoch: 13, iter: 100/782, train_loss: 3.7438, val_loss: 3.9655, val_accuracy: 8.8917\n",
      "epoch: 13, iter: 200/782, train_loss: 3.8791, val_loss: 4.0690, val_accuracy: 8.7707\n",
      "Saving model...\n",
      "epoch: 13, iter: 300/782, train_loss: 3.6091, val_loss: 4.0237, val_accuracy: 9.4650\n",
      "epoch: 13, iter: 400/782, train_loss: 3.4089, val_loss: 4.0138, val_accuracy: 8.6688\n",
      "epoch: 13, iter: 500/782, train_loss: 3.5828, val_loss: 4.0579, val_accuracy: 9.1911\n",
      "epoch: 13, iter: 600/782, train_loss: 4.1629, val_loss: 4.0920, val_accuracy: 8.5860\n",
      "epoch: 13, iter: 700/782, train_loss: 3.7041, val_loss: 4.2376, val_accuracy: 7.9108\n",
      "Restoring model...\n",
      "epoch: 14, iter: 100/782, train_loss: 3.7518, val_loss: 4.1507, val_accuracy: 8.9490\n",
      "epoch: 14, iter: 200/782, train_loss: 3.6192, val_loss: 4.1087, val_accuracy: 8.5478\n",
      "epoch: 14, iter: 300/782, train_loss: 3.4464, val_loss: 4.1007, val_accuracy: 8.4013\n",
      "epoch: 14, iter: 400/782, train_loss: 3.6017, val_loss: 4.0419, val_accuracy: 8.6943\n",
      "epoch: 14, iter: 500/782, train_loss: 3.3669, val_loss: 4.0926, val_accuracy: 8.3949\n",
      "epoch: 14, iter: 600/782, train_loss: 3.7403, val_loss: 4.1250, val_accuracy: 8.3694\n",
      "epoch: 14, iter: 700/782, train_loss: 4.0078, val_loss: 4.1547, val_accuracy: 8.6943\n",
      "Restoring model...\n",
      "epoch: 15, iter: 100/782, train_loss: 3.6397, val_loss: 4.0426, val_accuracy: 8.6051\n",
      "epoch: 15, iter: 200/782, train_loss: 3.7059, val_loss: 4.0750, val_accuracy: 8.5860\n",
      "epoch: 15, iter: 300/782, train_loss: 3.7414, val_loss: 4.1541, val_accuracy: 8.2357\n",
      "epoch: 15, iter: 400/782, train_loss: 4.1574, val_loss: 4.1602, val_accuracy: 8.3949\n",
      "epoch: 15, iter: 500/782, train_loss: 4.0390, val_loss: 4.0914, val_accuracy: 8.5223\n",
      "epoch: 15, iter: 600/782, train_loss: 3.6859, val_loss: 4.1293, val_accuracy: 8.6306\n",
      "epoch: 15, iter: 700/782, train_loss: 4.0827, val_loss: 4.2128, val_accuracy: 8.5350\n",
      "Restoring model...\n",
      "epoch: 16, iter: 100/782, train_loss: 3.7939, val_loss: 4.0645, val_accuracy: 8.4522\n",
      "epoch: 16, iter: 200/782, train_loss: 3.8599, val_loss: 4.1260, val_accuracy: 7.9172\n",
      "epoch: 16, iter: 300/782, train_loss: 4.1018, val_loss: 4.0278, val_accuracy: 8.5669\n",
      "epoch: 16, iter: 400/782, train_loss: 4.1755, val_loss: 4.0209, val_accuracy: 9.0127\n",
      "epoch: 16, iter: 500/782, train_loss: 3.8561, val_loss: 4.1217, val_accuracy: 8.4522\n",
      "epoch: 16, iter: 600/782, train_loss: 4.2006, val_loss: 4.0605, val_accuracy: 8.8471\n",
      "epoch: 16, iter: 700/782, train_loss: 4.0864, val_loss: 4.1081, val_accuracy: 9.2166\n",
      "Restoring model...\n",
      "epoch: 17, iter: 100/782, train_loss: 4.3115, val_loss: 4.1266, val_accuracy: 8.4777\n",
      "epoch: 17, iter: 200/782, train_loss: 3.6497, val_loss: 4.1447, val_accuracy: 8.1210\n",
      "epoch: 17, iter: 300/782, train_loss: 3.6230, val_loss: 4.1378, val_accuracy: 8.2930\n",
      "epoch: 17, iter: 400/782, train_loss: 4.0448, val_loss: 4.0555, val_accuracy: 9.1529\n",
      "epoch: 17, iter: 500/782, train_loss: 4.4717, val_loss: 4.2401, val_accuracy: 8.1210\n",
      "epoch: 17, iter: 600/782, train_loss: 3.9968, val_loss: 4.0722, val_accuracy: 8.6369\n",
      "epoch: 17, iter: 700/782, train_loss: 3.6284, val_loss: 4.0103, val_accuracy: 8.7834\n",
      "Restoring model...\n",
      "epoch: 18, iter: 100/782, train_loss: 3.5887, val_loss: 4.0666, val_accuracy: 8.3503\n",
      "epoch: 18, iter: 200/782, train_loss: 3.7590, val_loss: 3.9971, val_accuracy: 9.2739\n",
      "epoch: 18, iter: 300/782, train_loss: 3.8055, val_loss: 4.1662, val_accuracy: 7.7516\n",
      "epoch: 18, iter: 400/782, train_loss: 3.6577, val_loss: 4.0157, val_accuracy: 8.1656\n",
      "epoch: 18, iter: 500/782, train_loss: 3.8017, val_loss: 4.1614, val_accuracy: 8.5860\n",
      "epoch: 18, iter: 600/782, train_loss: 3.5848, val_loss: 3.9976, val_accuracy: 9.2611\n",
      "epoch: 18, iter: 700/782, train_loss: 4.0893, val_loss: 4.0640, val_accuracy: 8.5350\n",
      "Restoring model...\n",
      "epoch: 19, iter: 100/782, train_loss: 3.5266, val_loss: 4.1217, val_accuracy: 8.3185\n",
      "epoch: 19, iter: 200/782, train_loss: 3.7494, val_loss: 4.1012, val_accuracy: 9.1401\n",
      "epoch: 19, iter: 300/782, train_loss: 3.2707, val_loss: 4.0669, val_accuracy: 8.9299\n",
      "epoch: 19, iter: 400/782, train_loss: 3.8463, val_loss: 4.0589, val_accuracy: 8.9873\n",
      "epoch: 19, iter: 500/782, train_loss: 4.1036, val_loss: 4.1220, val_accuracy: 8.3885\n",
      "epoch: 19, iter: 600/782, train_loss: 3.8751, val_loss: 4.0823, val_accuracy: 8.4777\n",
      "epoch: 19, iter: 700/782, train_loss: 3.7854, val_loss: 4.0664, val_accuracy: 8.7516\n",
      "Restoring model...\n",
      "epoch: 20, iter: 100/782, train_loss: 4.1263, val_loss: 4.0005, val_accuracy: 9.1083\n",
      "epoch: 20, iter: 200/782, train_loss: 3.6608, val_loss: 4.2028, val_accuracy: 8.4268\n",
      "epoch: 20, iter: 300/782, train_loss: 3.3447, val_loss: 4.1946, val_accuracy: 8.2675\n",
      "epoch: 20, iter: 400/782, train_loss: 3.7054, val_loss: 4.0710, val_accuracy: 8.8854\n",
      "epoch: 20, iter: 500/782, train_loss: 3.3294, val_loss: 4.0544, val_accuracy: 8.6624\n",
      "epoch: 20, iter: 600/782, train_loss: 4.0324, val_loss: 4.0715, val_accuracy: 8.3949\n",
      "epoch: 20, iter: 700/782, train_loss: 3.3980, val_loss: 4.1655, val_accuracy: 8.3758\n",
      "Training log is saved to ./checkpoints/010224_fc1_cocktail_party_cifar100_pretraining_wout_bias_wout_normalization.pth\n"
     ]
    }
   ],
   "source": [
    "train_loss_arr, val_loss_arr, val_accuracy_arr = train_all(model_config, optimizer_type, learning_rate, criterion_type, num_epochs, train_loader, val_loader=val_loader, save_path=save_path, save_interval=save_interval, linearize=linearize)"
   ],
   "metadata": {
    "collapsed": false,
    "ExecuteTime": {
     "end_time": "2024-01-02T20:25:56.017749662Z",
     "start_time": "2024-01-02T20:24:12.187959011Z"
    }
   },
   "id": "12439c4eb3573f2d"
  }
 ],
 "metadata": {
  "kernelspec": {
   "display_name": "Python 3",
   "language": "python",
   "name": "python3"
  },
  "language_info": {
   "codemirror_mode": {
    "name": "ipython",
    "version": 2
   },
   "file_extension": ".py",
   "mimetype": "text/x-python",
   "name": "python",
   "nbconvert_exporter": "python",
   "pygments_lexer": "ipython2",
   "version": "2.7.6"
  }
 },
 "nbformat": 4,
 "nbformat_minor": 5
}
