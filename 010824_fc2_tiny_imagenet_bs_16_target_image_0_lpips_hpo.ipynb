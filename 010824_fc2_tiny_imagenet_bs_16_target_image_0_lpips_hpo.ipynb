{
 "cells": [
  {
   "cell_type": "code",
   "execution_count": null,
   "id": "initial_id",
   "metadata": {
    "collapsed": true
   },
   "outputs": [],
   "source": [
    "from hyperparameter_optimization import minimize_lpips_for_specific_image_with_id"
   ]
  },
  {
   "cell_type": "code",
   "outputs": [],
   "source": [
    "batch_size = 16\n",
    "num_of_trials = 200\n",
    "minimize_lpips_for_specific_image_with_id('./model_config/fc2_cocktail_party_tiny_imagenet_instance.json', './checkpoints/010424_fc2_cocktail_party_tiny_imagenet_pretraining_wout_bias_wout_normalization.pth', 'tiny-imagenet', './data', batch_size, 200, 0, height=64, width=64, device_number=1)"
   ],
   "metadata": {
    "collapsed": false
   },
   "id": "f9e46a7e4114bb9e"
  }
 ],
 "metadata": {
  "kernelspec": {
   "display_name": "Python 3",
   "language": "python",
   "name": "python3"
  },
  "language_info": {
   "codemirror_mode": {
    "name": "ipython",
    "version": 2
   },
   "file_extension": ".py",
   "mimetype": "text/x-python",
   "name": "python",
   "nbconvert_exporter": "python",
   "pygments_lexer": "ipython2",
   "version": "2.7.6"
  }
 },
 "nbformat": 4,
 "nbformat_minor": 5
}
