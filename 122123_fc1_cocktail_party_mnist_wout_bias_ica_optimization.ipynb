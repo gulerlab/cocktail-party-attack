{
 "cells": [
  {
   "cell_type": "code",
   "execution_count": 1,
   "outputs": [
    {
     "name": "stderr",
     "output_type": "stream",
     "text": [
      "/home/umityigitbsrn/miniconda3/envs/pytorch-stable/lib/python3.10/site-packages/scipy/__init__.py:146: UserWarning: A NumPy version >=1.16.5 and <1.23.0 is required for this version of SciPy (detected version 1.24.3\n",
      "  warnings.warn(f\"A NumPy version >={np_minversion} and <{np_maxversion}\"\n"
     ]
    }
   ],
   "source": [
    "from model import Network\n",
    "from data import load_mnist_dataloaders, whitening_transformation\n",
    "import torch\n",
    "import torchvision.transforms as transforms\n",
    "import torch.nn as nn\n",
    "from criterion import ReconstructImageFromFCLoss"
   ],
   "metadata": {
    "collapsed": false,
    "ExecuteTime": {
     "end_time": "2023-12-21T20:41:26.895605257Z",
     "start_time": "2023-12-21T20:41:26.015557583Z"
    }
   },
   "id": "42eb36ed57ad71e5"
  },
  {
   "cell_type": "code",
   "execution_count": 2,
   "id": "initial_id",
   "metadata": {
    "collapsed": true,
    "ExecuteTime": {
     "end_time": "2023-12-21T20:41:27.674559449Z",
     "start_time": "2023-12-21T20:41:26.946154027Z"
    }
   },
   "outputs": [],
   "source": [
    "# load to model\n",
    "model_config = './model_config/fc1_cocktail_party_mnist_instance.json'\n",
    "checkpoint_path = './checkpoints/122123_fc1_cocktail_party_mnist_pretraining_wout_bias.pth'\n",
    "device = 'cuda' if torch.cuda.is_available() else 'cpu'\n",
    "model = Network(model_config)\n",
    "checkpoint = torch.load(checkpoint_path)\n",
    "model.load_state_dict(checkpoint['state_dict'])\n",
    "model = model.to(device)\n",
    "\n",
    "# get val loader\n",
    "normalize_mean, normalize_std = (0.1307,), (0.3081,)\n",
    "batch_size = 4\n",
    "data_path = './data'\n",
    "transform = transforms.Compose([\n",
    "    transforms.ToTensor(),\n",
    "    transforms.Normalize(normalize_mean, normalize_std),\n",
    "])\n",
    "\n",
    "_, val_dataloader = load_mnist_dataloaders(data_path, batch_size, transform)\n",
    "selected_val_batch_data, selected_val_batch_label = next(iter(val_dataloader))\n",
    "selected_val_batch_data = selected_val_batch_data.to(device)\n",
    "selected_val_batch_label = selected_val_batch_label.to(device)"
   ]
  },
  {
   "cell_type": "code",
   "execution_count": 3,
   "outputs": [
    {
     "name": "stdout",
     "output_type": "stream",
     "text": [
      "[torch.Size([10, 784])]\n"
     ]
    }
   ],
   "source": [
    "# receiving gradients\n",
    "model.zero_grad()\n",
    "criterion = nn.CrossEntropyLoss()\n",
    "output = model(selected_val_batch_data.reshape(batch_size, -1))\n",
    "loss = criterion(output, selected_val_batch_label)\n",
    "loss.backward()\n",
    "gradient_of_layers = []\n",
    "for param in model.parameters():\n",
    "    gradient_of_layers.append(param.grad.data.clone().to('cpu'))\n",
    "print([x.size() for x in gradient_of_layers])"
   ],
   "metadata": {
    "collapsed": false,
    "ExecuteTime": {
     "end_time": "2023-12-21T20:41:28.204954976Z",
     "start_time": "2023-12-21T20:41:27.675553033Z"
    }
   },
   "id": "9fd43b89714d7e39"
  },
  {
   "cell_type": "code",
   "execution_count": 4,
   "outputs": [],
   "source": [
    "pca_whitened_gradients = []\n",
    "zca_whitened_gradients = []\n",
    "for gradient in gradient_of_layers:\n",
    "    pca_whitened_gradient, zca_whitened_gradient = whitening_transformation(gradient)\n",
    "    pca_whitened_gradients.append(pca_whitened_gradient)\n",
    "    zca_whitened_gradients.append(zca_whitened_gradient)"
   ],
   "metadata": {
    "collapsed": false,
    "ExecuteTime": {
     "end_time": "2023-12-21T20:42:46.090438961Z",
     "start_time": "2023-12-21T20:41:31.931772522Z"
    }
   },
   "id": "bca16f196cda4d87"
  },
  {
   "cell_type": "code",
   "execution_count": 8,
   "outputs": [
    {
     "data": {
      "text/plain": "tensor([[ 1.7965e-03,  4.8222e-04, -9.1254e-05,  ...,  0.0000e+00,\n          0.0000e+00,  0.0000e+00],\n        [-8.8423e-03, -6.6276e-02, -2.4433e+00,  ...,  0.0000e+00,\n          0.0000e+00,  0.0000e+00],\n        [ 9.5630e-03,  6.7600e-02,  7.8493e-01,  ...,  0.0000e+00,\n          0.0000e+00,  0.0000e+00],\n        ...,\n        [-9.4683e-02, -2.1576e+00,  8.3856e-02,  ...,  0.0000e+00,\n          0.0000e+00,  0.0000e+00],\n        [ 1.0718e-01,  7.6387e-02,  1.5459e+00,  ...,  0.0000e+00,\n          0.0000e+00,  0.0000e+00],\n        [ 9.1241e-02,  2.0765e+00, -7.7356e-02,  ...,  0.0000e+00,\n          0.0000e+00,  0.0000e+00]])"
     },
     "execution_count": 8,
     "metadata": {},
     "output_type": "execute_result"
    }
   ],
   "source": [
    "pca_whitened_gradients[0].real"
   ],
   "metadata": {
    "collapsed": false,
    "ExecuteTime": {
     "end_time": "2023-12-21T20:43:09.158613164Z",
     "start_time": "2023-12-21T20:43:09.156085357Z"
    }
   },
   "id": "fc28a571ef24787"
  },
  {
   "cell_type": "code",
   "execution_count": 9,
   "outputs": [
    {
     "name": "stdout",
     "output_type": "stream",
     "text": [
      "loss: 2.221757650375366\n",
      "loss: 1.298161506652832\n",
      "loss: 1.2820384502410889\n",
      "loss: 1.267505407333374\n",
      "loss: 1.2630513906478882\n",
      "loss: 1.2488138675689697\n",
      "loss: 1.2305573225021362\n",
      "loss: 1.1980507373809814\n",
      "loss: 1.1889417171478271\n",
      "loss: 1.1802971363067627\n",
      "loss: 1.1714259386062622\n",
      "loss: 1.1722252368927002\n",
      "loss: 1.1698486804962158\n",
      "loss: 1.1612379550933838\n",
      "loss: 1.160032868385315\n",
      "loss: 1.160524606704712\n",
      "loss: 1.1516461372375488\n",
      "loss: 1.1472995281219482\n",
      "loss: 1.1492469310760498\n",
      "loss: 1.1450276374816895\n",
      "loss: 1.1400073766708374\n",
      "loss: 1.1437129974365234\n",
      "loss: 1.1454581022262573\n",
      "loss: 1.1385128498077393\n",
      "loss: 1.1335762739181519\n",
      "loss: 1.1267268657684326\n"
     ]
    }
   ],
   "source": [
    "# criterion output testing\n",
    "unmixing_matrix = torch.rand((selected_val_batch_data.size(0), gradient_of_layers[0].size(0)), requires_grad=True)\n",
    "reconstruction_loss = ReconstructImageFromFCLoss(28, 28, 1, 1, 1, 1)\n",
    "optimizer = torch.optim.Adam([unmixing_matrix])\n",
    "\n",
    "for iter_idx in range(25000):\n",
    "    optimizer.zero_grad()\n",
    "    # out_score, non_gaussianity_score, total_variance_score, mutual_independence_score\n",
    "    loss, _, _, _ = reconstruction_loss(unmixing_matrix, pca_whitened_gradients[0].real)\n",
    "    loss.backward()\n",
    "    optimizer.step()\n",
    "    \n",
    "    if (iter_idx + 1) % 1000 == 0 or iter_idx == 0:\n",
    "        print('loss: {}'.format(loss.item()))"
   ],
   "metadata": {
    "collapsed": false,
    "ExecuteTime": {
     "end_time": "2023-12-21T20:44:06.133046850Z",
     "start_time": "2023-12-21T20:43:36.261809704Z"
    }
   },
   "id": "d74e4a85e6c0a2e7"
  },
  {
   "cell_type": "code",
   "execution_count": 13,
   "outputs": [],
   "source": [
    "with torch.no_grad():\n",
    "    estimated_img = unmixing_matrix @ pca_whitened_gradients[0].real\n",
    "    img = transforms.ToPILImage()(torch.clamp(estimated_img[3].reshape(1, 28, 28), min=-1, max=1))\n",
    "    img.show()\n",
    "    img = transforms.ToPILImage()(torch.clamp(selected_val_batch_data[3].reshape(1, 28, 28), min=-1, max=1))\n",
    "    img.show()\n",
    "    # print(estimated_img[0])"
   ],
   "metadata": {
    "collapsed": false,
    "ExecuteTime": {
     "end_time": "2023-12-21T20:45:03.663720497Z",
     "start_time": "2023-12-21T20:45:03.620853062Z"
    }
   },
   "id": "807441fb5cebe1d6"
  },
  {
   "cell_type": "code",
   "execution_count": 15,
   "outputs": [
    {
     "name": "stdout",
     "output_type": "stream",
     "text": [
      "torch.Size([0])\n",
      "torch.Size([0])\n"
     ]
    }
   ],
   "source": [
    "with torch.no_grad():\n",
    "    clamped_img = torch.clamp(estimated_img[0].reshape(3, 32, 32), min=-1, max=1)\n",
    "    print(clamped_img[clamped_img == -1].shape)\n",
    "    print(clamped_img[clamped_img == 1].shape)"
   ],
   "metadata": {
    "collapsed": false,
    "ExecuteTime": {
     "end_time": "2023-12-21T07:42:32.281807152Z",
     "start_time": "2023-12-21T07:42:32.238458793Z"
    }
   },
   "id": "7846d02b99aa5406"
  },
  {
   "cell_type": "code",
   "execution_count": 11,
   "outputs": [
    {
     "data": {
      "text/plain": "tensor([[[ 3.2783e-04,  2.9368e-04,  3.0880e-04,  ...,  4.9177e-04,\n           5.1527e-04,  5.2216e-04],\n         [ 2.7950e-04,  2.5961e-04,  2.6367e-04,  ...,  3.4911e-04,\n           3.9457e-04,  3.9479e-04],\n         [ 1.7792e-04,  1.3845e-04,  1.4941e-04,  ...,  3.0867e-04,\n           3.8751e-04,  4.5424e-04],\n         ...,\n         [-4.8327e-05, -1.1369e-05,  5.7595e-05,  ..., -9.0523e-05,\n          -4.6151e-05, -5.3062e-05],\n         [-2.3185e-04, -1.5868e-04, -4.3910e-05,  ..., -1.1516e-04,\n          -1.0162e-04, -5.3834e-05],\n         [-2.3476e-04, -2.0716e-04, -1.7674e-04,  ..., -1.2411e-04,\n          -1.1664e-04, -2.0626e-05]],\n\n        [[ 2.6655e-04,  2.6097e-04,  2.8234e-04,  ...,  5.3675e-04,\n           5.4891e-04,  5.5572e-04],\n         [ 2.3377e-04,  2.4697e-04,  2.6934e-04,  ...,  4.1941e-04,\n           4.3809e-04,  4.2729e-04],\n         [ 1.4929e-04,  1.5777e-04,  1.9760e-04,  ...,  3.4826e-04,\n           4.1596e-04,  4.6848e-04],\n         ...,\n         [-5.0159e-05, -2.1224e-05,  4.4790e-05,  ..., -1.6359e-04,\n          -1.1424e-04, -1.1485e-04],\n         [-2.0826e-04, -1.3613e-04, -3.3480e-05,  ..., -1.6975e-04,\n          -1.5772e-04, -1.0461e-04],\n         [-2.1862e-04, -1.7460e-04, -1.5209e-04,  ..., -1.5777e-04,\n          -1.5806e-04, -6.8794e-05]],\n\n        [[ 1.1957e-04,  1.2168e-04,  1.3567e-04,  ...,  3.9465e-04,\n           3.9260e-04,  3.9234e-04],\n         [ 1.1818e-04,  1.2998e-04,  1.6207e-04,  ...,  2.8986e-04,\n           3.0188e-04,  2.8690e-04],\n         [ 5.3605e-05,  6.4105e-05,  1.3124e-04,  ...,  2.7036e-04,\n           3.0166e-04,  3.4027e-04],\n         ...,\n         [-2.7832e-05, -9.4176e-06,  4.0080e-05,  ..., -1.6859e-04,\n          -1.2478e-04, -1.2051e-04],\n         [-1.6574e-04, -1.0742e-04, -2.3264e-05,  ..., -1.6234e-04,\n          -1.5775e-04, -1.1367e-04],\n         [-1.9830e-04, -1.6510e-04, -1.4574e-04,  ..., -1.5202e-04,\n          -1.6098e-04, -9.1396e-05]]])"
     },
     "execution_count": 11,
     "metadata": {},
     "output_type": "execute_result"
    }
   ],
   "source": [
    "estimated_img[0].reshape(3, 32, 32)"
   ],
   "metadata": {
    "collapsed": false,
    "ExecuteTime": {
     "end_time": "2023-12-21T08:19:43.314232006Z",
     "start_time": "2023-12-21T08:19:43.271663887Z"
    }
   },
   "id": "59cce114b947013b"
  },
  {
   "cell_type": "code",
   "execution_count": 19,
   "outputs": [
    {
     "ename": "AttributeError",
     "evalue": "module 'scipy.stats' has no attribute 'Covariance'",
     "output_type": "error",
     "traceback": [
      "\u001B[0;31m---------------------------------------------------------------------------\u001B[0m",
      "\u001B[0;31mAttributeError\u001B[0m                            Traceback (most recent call last)",
      "Cell \u001B[0;32mIn[19], line 15\u001B[0m\n\u001B[1;32m     11\u001B[0m cov_array \u001B[38;5;241m=\u001B[39m A \u001B[38;5;241m@\u001B[39m A\u001B[38;5;241m.\u001B[39mT  \u001B[38;5;66;03m# make matrix symmetric positive definite\u001B[39;00m\n\u001B[1;32m     13\u001B[0m precision \u001B[38;5;241m=\u001B[39m np\u001B[38;5;241m.\u001B[39mlinalg\u001B[38;5;241m.\u001B[39minv(cov_array)\n\u001B[0;32m---> 15\u001B[0m cov_object \u001B[38;5;241m=\u001B[39m \u001B[43mstats\u001B[49m\u001B[38;5;241;43m.\u001B[39;49m\u001B[43mCovariance\u001B[49m\u001B[38;5;241m.\u001B[39mfrom_precision(precision)\n\u001B[1;32m     17\u001B[0m x \u001B[38;5;241m=\u001B[39m rng\u001B[38;5;241m.\u001B[39mmultivariate_normal(np\u001B[38;5;241m.\u001B[39mzeros(n), cov_array, size\u001B[38;5;241m=\u001B[39m(\u001B[38;5;241m10000\u001B[39m))\n\u001B[1;32m     19\u001B[0m x_ \u001B[38;5;241m=\u001B[39m cov_object\u001B[38;5;241m.\u001B[39mwhiten(x)\n",
      "\u001B[0;31mAttributeError\u001B[0m: module 'scipy.stats' has no attribute 'Covariance'"
     ]
    }
   ],
   "source": [
    "import numpy as np\n",
    "\n",
    "from scipy import stats\n",
    "\n",
    "rng = np.random.default_rng()\n",
    "\n",
    "n = 3\n",
    "\n",
    "A = rng.random(size=(n, n))\n",
    "\n",
    "cov_array = A @ A.T  # make matrix symmetric positive definite\n",
    "\n",
    "precision = np.linalg.inv(cov_array)\n",
    "\n",
    "cov_object = stats.Covariance.from_precision(precision)\n",
    "\n",
    "x = rng.multivariate_normal(np.zeros(n), cov_array, size=(10000))\n",
    "\n",
    "x_ = cov_object.whiten(x)\n",
    "\n",
    "np.cov(x_, rowvar=False)"
   ],
   "metadata": {
    "collapsed": false,
    "ExecuteTime": {
     "end_time": "2023-12-21T20:49:18.426675545Z",
     "start_time": "2023-12-21T20:49:18.240473135Z"
    }
   },
   "id": "88ef380cfc805f9c"
  },
  {
   "cell_type": "code",
   "execution_count": 18,
   "outputs": [
    {
     "data": {
      "text/plain": "array([[0.06502751, 0.41818084, 0.34031409, 0.68974631, 0.583228  ],\n       [0.35283933, 0.70921727, 0.67365035, 0.47174336, 0.56917156],\n       [0.9907613 , 0.15305781, 0.23506229, 0.75293318, 0.47001596],\n       [0.49764115, 0.64438953, 0.818335  , 0.44351651, 0.05026389],\n       [0.58473874, 0.43702655, 0.69170254, 0.00476943, 0.47568853]])"
     },
     "execution_count": 18,
     "metadata": {},
     "output_type": "execute_result"
    }
   ],
   "source": [
    "P"
   ],
   "metadata": {
    "collapsed": false,
    "ExecuteTime": {
     "end_time": "2023-12-21T20:48:36.084584187Z",
     "start_time": "2023-12-21T20:48:36.081330507Z"
    }
   },
   "id": "aaa502ad8b0f523c"
  }
 ],
 "metadata": {
  "kernelspec": {
   "display_name": "Python 3",
   "language": "python",
   "name": "python3"
  },
  "language_info": {
   "codemirror_mode": {
    "name": "ipython",
    "version": 2
   },
   "file_extension": ".py",
   "mimetype": "text/x-python",
   "name": "python",
   "nbconvert_exporter": "python",
   "pygments_lexer": "ipython2",
   "version": "2.7.6"
  }
 },
 "nbformat": 4,
 "nbformat_minor": 5
}
