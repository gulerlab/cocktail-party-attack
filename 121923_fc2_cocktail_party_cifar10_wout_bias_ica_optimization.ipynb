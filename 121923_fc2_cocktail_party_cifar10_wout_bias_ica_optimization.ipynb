{
 "cells": [
  {
   "cell_type": "code",
   "execution_count": 1,
   "outputs": [
    {
     "name": "stderr",
     "output_type": "stream",
     "text": [
      "/home/umityigitbsrn/miniconda3/envs/pytorch-stable/lib/python3.10/site-packages/scipy/__init__.py:146: UserWarning: A NumPy version >=1.16.5 and <1.23.0 is required for this version of SciPy (detected version 1.24.3\n",
      "  warnings.warn(f\"A NumPy version >={np_minversion} and <{np_maxversion}\"\n"
     ]
    }
   ],
   "source": [
    "from model import Network\n",
    "from data import load_cifar10_dataloaders\n",
    "import torch\n",
    "import torchvision.transforms as transforms\n",
    "import torch.nn as nn\n",
    "from criterion import NonGaussianityLoss, TotalVariationLoss, MutualIndependenceLoss, ReconstructImageFromFCLoss"
   ],
   "metadata": {
    "collapsed": false,
    "ExecuteTime": {
     "end_time": "2023-12-20T10:00:29.288149435Z",
     "start_time": "2023-12-20T10:00:28.397360472Z"
    }
   },
   "id": "42eb36ed57ad71e5"
  },
  {
   "cell_type": "code",
   "execution_count": 2,
   "id": "initial_id",
   "metadata": {
    "collapsed": true,
    "ExecuteTime": {
     "end_time": "2023-12-20T10:00:31.921564958Z",
     "start_time": "2023-12-20T10:00:30.173916947Z"
    }
   },
   "outputs": [
    {
     "name": "stdout",
     "output_type": "stream",
     "text": [
      "Files already downloaded and verified\n",
      "Files already downloaded and verified\n"
     ]
    }
   ],
   "source": [
    "# load to model\n",
    "model_config = './model_config/fc2_cocktail_party_instance_wout_bias.json'\n",
    "checkpoint_path = './checkpoints/121923_fc2_cocktail_party_cifar10_pretraining_wout_bias.pth'\n",
    "device = 'cuda' if torch.cuda.is_available() else 'cpu'\n",
    "model = Network(model_config)\n",
    "checkpoint = torch.load(checkpoint_path)\n",
    "model.load_state_dict(checkpoint['state_dict'])\n",
    "model = model.to(device)\n",
    "\n",
    "# get val loader\n",
    "normalize_mean, normalize_std = (0.4914, 0.4822, 0.4465), (0.247, 0.243, 0.261)\n",
    "batch_size = 8\n",
    "data_path = './data'\n",
    "transform = transforms.Compose([\n",
    "    transforms.ToTensor(),\n",
    "    transforms.Normalize(normalize_mean, normalize_std),\n",
    "])\n",
    "\n",
    "_, val_dataloader = load_cifar10_dataloaders(data_path, batch_size, transform)\n",
    "selected_val_batch_data, selected_val_batch_label = next(iter(val_dataloader))\n",
    "selected_val_batch_data = selected_val_batch_data.to(device)\n",
    "selected_val_batch_label = selected_val_batch_label.to(device)"
   ]
  },
  {
   "cell_type": "code",
   "execution_count": 3,
   "outputs": [],
   "source": [
    "# receiving gradients\n",
    "model.zero_grad()\n",
    "criterion = nn.CrossEntropyLoss()\n",
    "output = model(selected_val_batch_data.reshape(batch_size, -1))\n",
    "loss = criterion(output, selected_val_batch_label)\n",
    "loss.backward()\n",
    "gradient_of_layers = []\n",
    "for param in model.parameters():\n",
    "    gradient_of_layers.append(param.grad.data.clone().to('cpu'))"
   ],
   "metadata": {
    "collapsed": false,
    "ExecuteTime": {
     "end_time": "2023-12-20T10:00:32.421892935Z",
     "start_time": "2023-12-20T10:00:31.921349029Z"
    }
   },
   "id": "9fd43b89714d7e39"
  },
  {
   "cell_type": "code",
   "execution_count": 4,
   "outputs": [
    {
     "name": "stdout",
     "output_type": "stream",
     "text": [
      "[torch.Size([256, 3072]), torch.Size([10, 256])]\n"
     ]
    }
   ],
   "source": [
    "print([x.size() for x in gradient_of_layers])"
   ],
   "metadata": {
    "collapsed": false,
    "ExecuteTime": {
     "end_time": "2023-12-20T10:00:32.757128874Z",
     "start_time": "2023-12-20T10:00:32.751495102Z"
    }
   },
   "id": "bca16f196cda4d87"
  },
  {
   "cell_type": "code",
   "execution_count": 5,
   "outputs": [
    {
     "name": "stdout",
     "output_type": "stream",
     "text": [
      "loss: 1.8976237773895264\n",
      "loss: 0.8755009174346924\n",
      "loss: 0.8752057552337646\n",
      "loss: 0.8751492500305176\n",
      "loss: 0.8751644492149353\n",
      "loss: 0.8751627206802368\n",
      "loss: 0.8751421570777893\n",
      "loss: 0.8751373887062073\n",
      "loss: 0.8751441240310669\n",
      "loss: 0.8751401305198669\n",
      "loss: 0.875136137008667\n"
     ]
    }
   ],
   "source": [
    "# criterion output testing\n",
    "unmixing_matrix = torch.rand((selected_val_batch_data.size(0), gradient_of_layers[0].size(0)), requires_grad=True)\n",
    "reconstruction_loss = ReconstructImageFromFCLoss(32, 32, 3, 1, 1, 1)\n",
    "optimizer = torch.optim.Adam([unmixing_matrix])\n",
    "\n",
    "for iter_idx in range(10000):\n",
    "    optimizer.zero_grad()\n",
    "    loss = reconstruction_loss(unmixing_matrix, gradient_of_layers[0])\n",
    "    loss.backward()\n",
    "    optimizer.step()\n",
    "    \n",
    "    if (iter_idx + 1) % 1000 == 0 or iter_idx == 0:\n",
    "        print('loss: {}'.format(loss.item()))"
   ],
   "metadata": {
    "collapsed": false,
    "ExecuteTime": {
     "end_time": "2023-12-20T10:00:44.285335487Z",
     "start_time": "2023-12-20T10:00:33.705265022Z"
    }
   },
   "id": "538db88e10010686"
  },
  {
   "cell_type": "code",
   "execution_count": 6,
   "outputs": [],
   "source": [
    "estimated_imgs = unmixing_matrix @ gradient_of_layers[0]"
   ],
   "metadata": {
    "collapsed": false
   },
   "id": "655d69f766fe6b7f"
  },
  {
   "cell_type": "code",
   "execution_count": 8,
   "outputs": [],
   "source": [
    "imgs = estimated_imgs.reshape(estimated_imgs.size(0), 3, 32, 32)"
   ],
   "metadata": {
    "collapsed": false
   },
   "id": "36995c0487705f4f"
  },
  {
   "cell_type": "code",
   "execution_count": 13,
   "outputs": [
    {
     "data": {
      "text/plain": "tensor([[[[ 4.8460e-05,  4.9524e-05,  5.1156e-05,  ..., -2.3359e-05,\n           -1.6787e-05, -1.8177e-05],\n          [ 4.8267e-05,  4.8632e-05,  4.8591e-05,  ..., -1.0638e-05,\n           -1.2272e-05, -1.4980e-05],\n          [ 4.7672e-05,  4.9267e-05,  4.9029e-05,  ..., -2.5022e-07,\n           -8.1814e-06, -1.1367e-05],\n          ...,\n          [-3.0382e-05, -3.1026e-05, -3.1281e-05,  ..., -1.6945e-05,\n           -1.4008e-05, -1.2181e-05],\n          [-3.3678e-05, -3.2953e-05, -3.2148e-05,  ..., -1.4746e-05,\n           -1.3227e-05, -1.0206e-05],\n          [-3.5266e-05, -3.4505e-05, -3.3083e-05,  ..., -1.5124e-05,\n           -1.0981e-05, -1.6106e-05]],\n\n         [[ 4.8727e-05,  4.9562e-05,  5.1071e-05,  ..., -2.0755e-05,\n           -1.4296e-05, -1.6014e-05],\n          [ 4.7368e-05,  4.8341e-05,  4.9048e-05,  ..., -8.5515e-06,\n           -1.0653e-05, -1.3530e-05],\n          [ 4.5459e-05,  4.8267e-05,  4.9450e-05,  ...,  1.0017e-06,\n           -7.7515e-06, -1.0736e-05],\n          ...,\n          [-2.4360e-05, -2.3656e-05, -2.3255e-05,  ..., -1.1650e-05,\n           -9.0469e-06, -7.4369e-06],\n          [-2.8339e-05, -2.6839e-05, -2.6148e-05,  ..., -1.1076e-05,\n           -9.9574e-06, -7.1932e-06],\n          [-3.2798e-05, -3.1937e-05, -3.0151e-05,  ..., -1.2195e-05,\n           -8.6865e-06, -1.4047e-05]],\n\n         [[ 4.4587e-05,  4.5712e-05,  4.7476e-05,  ..., -1.5103e-05,\n           -8.3215e-06, -9.6427e-06],\n          [ 4.3389e-05,  4.4565e-05,  4.5248e-05,  ..., -5.1723e-06,\n           -6.4055e-06, -7.9987e-06],\n          [ 4.2073e-05,  4.4783e-05,  4.6108e-05,  ...,  3.3277e-06,\n           -3.8340e-06, -5.1243e-06],\n          ...,\n          [-1.5737e-05, -1.4840e-05, -1.4397e-05,  ..., -4.5775e-06,\n           -2.0979e-06, -8.8015e-07],\n          [-2.0119e-05, -1.7999e-05, -1.7847e-05,  ..., -3.9456e-06,\n           -3.3866e-06, -1.4133e-06],\n          [-2.5216e-05, -2.3701e-05, -2.2271e-05,  ..., -6.1383e-06,\n           -3.2904e-06, -8.9370e-06]]],\n\n\n        [[[ 4.1620e-05,  4.2913e-05,  4.5726e-05,  ..., -1.9580e-05,\n           -1.3099e-05, -1.3020e-05],\n          [ 4.1240e-05,  4.2123e-05,  4.2303e-05,  ..., -6.2489e-06,\n           -7.7378e-06, -9.6447e-06],\n          [ 4.0747e-05,  4.3396e-05,  4.2974e-05,  ...,  4.1498e-06,\n           -3.2795e-06, -5.7734e-06],\n          ...,\n          [-2.9895e-05, -3.0930e-05, -3.0640e-05,  ..., -1.5214e-05,\n           -1.2173e-05, -9.9920e-06],\n          [-3.3036e-05, -3.2220e-05, -3.0435e-05,  ..., -1.1989e-05,\n           -1.0612e-05, -7.8138e-06],\n          [-3.3654e-05, -3.3357e-05, -3.0987e-05,  ..., -1.1812e-05,\n           -7.7650e-06, -1.3080e-05]],\n\n         [[ 4.2712e-05,  4.3889e-05,  4.6987e-05,  ..., -1.5326e-05,\n           -8.7527e-06, -9.1411e-06],\n          [ 4.1054e-05,  4.2773e-05,  4.3957e-05,  ..., -2.7636e-06,\n           -4.4408e-06, -6.6405e-06],\n          [ 3.9748e-05,  4.3833e-05,  4.4972e-05,  ...,  6.5120e-06,\n           -1.3499e-06, -3.8408e-06],\n          ...,\n          [-2.1052e-05, -2.0595e-05, -2.0141e-05,  ..., -8.5858e-06,\n           -6.0213e-06, -4.1936e-06],\n          [-2.4818e-05, -2.2960e-05, -2.1973e-05,  ..., -6.8111e-06,\n           -6.1549e-06, -3.4952e-06],\n          [-2.8242e-05, -2.7730e-05, -2.5160e-05,  ..., -7.4538e-06,\n           -4.2288e-06, -9.7056e-06]],\n\n         [[ 4.0386e-05,  4.1903e-05,  4.5289e-05,  ..., -8.4168e-06,\n           -1.3930e-06, -1.5996e-06],\n          [ 3.9244e-05,  4.0985e-05,  4.2197e-05,  ...,  1.3926e-06,\n            6.8877e-07, -4.0920e-07],\n          [ 3.9121e-05,  4.2740e-05,  4.3733e-05,  ...,  9.3241e-06,\n            3.0510e-06,  2.1366e-06],\n          ...,\n          [-9.8513e-06, -9.2607e-06, -8.9430e-06,  ..., -8.4835e-07,\n            1.8821e-06,  3.3426e-06],\n          [-1.3908e-05, -1.1685e-05, -1.1626e-05,  ...,  6.6980e-07,\n            1.0395e-06,  2.9989e-06],\n          [-1.8186e-05, -1.7088e-05, -1.5394e-05,  ..., -8.8982e-07,\n            1.6256e-06, -4.0227e-06]]],\n\n\n        [[[ 4.8065e-05,  4.7284e-05,  4.6878e-05,  ..., -1.8944e-05,\n           -1.5547e-05, -1.9673e-05],\n          [ 4.7625e-05,  4.6230e-05,  4.5833e-05,  ..., -1.2879e-05,\n           -1.4411e-05, -1.7324e-05],\n          [ 4.6623e-05,  4.6290e-05,  4.6247e-05,  ..., -5.1159e-06,\n           -1.0266e-05, -1.3876e-05],\n          ...,\n          [-2.1351e-05, -2.2383e-05, -2.4332e-05,  ..., -1.5423e-05,\n           -1.1912e-05, -1.0526e-05],\n          [-2.3800e-05, -2.3683e-05, -2.4989e-05,  ..., -1.4194e-05,\n           -1.1991e-05, -9.3514e-06],\n          [-2.4750e-05, -2.4520e-05, -2.5156e-05,  ..., -1.3646e-05,\n           -1.0246e-05, -1.3202e-05]],\n\n         [[ 4.7944e-05,  4.6885e-05,  4.5693e-05,  ..., -1.7350e-05,\n           -1.4433e-05, -1.8854e-05],\n          [ 4.6367e-05,  4.5158e-05,  4.4826e-05,  ..., -1.1305e-05,\n           -1.3831e-05, -1.6799e-05],\n          [ 4.3583e-05,  4.3817e-05,  4.4549e-05,  ..., -4.0882e-06,\n           -1.0505e-05, -1.3652e-05],\n          ...,\n          [-1.9458e-05, -1.9168e-05, -1.9560e-05,  ..., -1.1357e-05,\n           -7.7919e-06, -6.4966e-06],\n          [-2.2353e-05, -2.1516e-05, -2.2214e-05,  ..., -1.1487e-05,\n           -9.1280e-06, -6.7698e-06],\n          [-2.5178e-05, -2.4672e-05, -2.4889e-05,  ..., -1.1563e-05,\n           -8.2625e-06, -1.1348e-05]],\n\n         [[ 4.3156e-05,  4.2250e-05,  4.1450e-05,  ..., -1.4127e-05,\n           -1.1109e-05, -1.4966e-05],\n          [ 4.1435e-05,  4.0541e-05,  4.0308e-05,  ..., -9.3402e-06,\n           -1.1430e-05, -1.3173e-05],\n          [ 3.8940e-05,  3.9356e-05,  4.0250e-05,  ..., -2.2776e-06,\n           -7.7992e-06, -9.2501e-06],\n          ...,\n          [-1.4095e-05, -1.3145e-05, -1.3102e-05,  ..., -4.6163e-06,\n           -1.3340e-06, -3.4824e-07],\n          [-1.7251e-05, -1.5498e-05, -1.5877e-05,  ..., -4.3260e-06,\n           -2.6214e-06, -8.9155e-07],\n          [-2.0862e-05, -1.9650e-05, -1.9339e-05,  ..., -5.6542e-06,\n           -2.8069e-06, -6.2422e-06]]],\n\n\n        ...,\n\n\n        [[[-1.7816e-05, -1.6236e-05, -1.7254e-05,  ...,  9.7113e-06,\n            9.4697e-06,  1.2643e-05],\n          [-1.9731e-05, -1.7173e-05, -1.5605e-05,  ...,  1.0469e-05,\n            1.2516e-05,  1.3225e-05],\n          [-2.3547e-05, -1.9786e-05, -1.6942e-05,  ...,  6.6643e-06,\n            9.0365e-06,  1.0876e-05],\n          ...,\n          [ 4.5340e-06,  6.8967e-06,  9.2028e-06,  ...,  9.9187e-06,\n            7.6437e-06,  5.6822e-06],\n          [ 5.3064e-06,  7.3409e-06,  7.1220e-06,  ...,  7.9518e-06,\n            7.0470e-06,  5.9415e-06],\n          [ 4.2299e-06,  5.5404e-06,  3.3833e-06,  ...,  5.7612e-06,\n            4.0115e-06,  5.3886e-06]],\n\n         [[-2.2111e-05, -2.0615e-05, -2.0417e-05,  ...,  5.3819e-06,\n            5.8446e-06,  9.6384e-06],\n          [-2.3372e-05, -2.0827e-05, -1.8516e-05,  ...,  6.8011e-06,\n            9.4607e-06,  9.9098e-06],\n          [-2.5935e-05, -2.2108e-05, -1.8952e-05,  ...,  3.5409e-06,\n            6.4382e-06,  7.2598e-06],\n          ...,\n          [ 2.0476e-06,  2.9027e-06,  4.3689e-06,  ...,  4.5066e-06,\n            1.6538e-06, -4.2752e-07],\n          [ 3.5931e-06,  4.4794e-06,  3.4175e-06,  ...,  2.9629e-06,\n            1.4237e-06,  3.7679e-07],\n          [ 3.3259e-06,  3.6236e-06,  8.3381e-07,  ...,  8.7316e-07,\n           -9.9764e-07,  5.7081e-07]],\n\n         [[-2.5390e-05, -2.4166e-05, -2.4345e-05,  ..., -1.2655e-06,\n           -1.1775e-06,  2.0961e-06],\n          [-2.7020e-05, -2.4957e-05, -2.2836e-05,  ...,  7.7825e-07,\n            2.5596e-06,  1.9189e-06],\n          [-2.9512e-05, -2.6265e-05, -2.3212e-05,  ..., -2.2711e-06,\n           -4.0896e-07, -1.3659e-06],\n          ...,\n          [-4.3957e-06, -4.6537e-06, -4.6087e-06,  ..., -5.4702e-06,\n           -8.2239e-06, -9.9008e-06],\n          [-3.1785e-06, -3.4617e-06, -5.0176e-06,  ..., -6.8460e-06,\n           -8.3930e-06, -9.1380e-06],\n          [-2.6946e-06, -3.3214e-06, -5.5826e-06,  ..., -7.7703e-06,\n           -9.5128e-06, -7.8490e-06]]],\n\n\n        [[[-4.9646e-05, -4.8493e-05, -4.8165e-05,  ...,  2.4654e-05,\n            1.8812e-05,  2.1072e-05],\n          [-4.9227e-05, -4.7335e-05, -4.6029e-05,  ...,  1.2332e-05,\n            1.3391e-05,  1.8194e-05],\n          [-4.8090e-05, -4.7186e-05, -4.6172e-05,  ...,  3.7047e-06,\n            1.0005e-05,  1.5586e-05],\n          ...,\n          [ 1.9267e-05,  2.0568e-05,  2.3996e-05,  ...,  1.3151e-05,\n            8.3232e-06,  4.9137e-06],\n          [ 2.2267e-05,  2.2450e-05,  2.4012e-05,  ...,  1.1127e-05,\n            8.1658e-06,  3.5977e-06],\n          [ 2.4706e-05,  2.4245e-05,  2.4388e-05,  ...,  1.2055e-05,\n            7.1945e-06,  9.7086e-06]],\n\n         [[-4.9307e-05, -4.7594e-05, -4.6868e-05,  ...,  2.1465e-05,\n            1.5849e-05,  1.8620e-05],\n          [-4.7850e-05, -4.6124e-05, -4.5239e-05,  ...,  9.6890e-06,\n            1.1244e-05,  1.6423e-05],\n          [-4.5604e-05, -4.5404e-05, -4.5427e-05,  ...,  1.6871e-06,\n            8.7633e-06,  1.4509e-05],\n          ...,\n          [ 1.8080e-05,  1.7650e-05,  1.8807e-05,  ...,  8.7929e-06,\n            3.8093e-06,  6.1002e-07],\n          [ 2.1611e-05,  2.0815e-05,  2.1199e-05,  ...,  8.1101e-06,\n            4.9483e-06,  6.7428e-07],\n          [ 2.6165e-05,  2.5353e-05,  2.4557e-05,  ...,  9.6238e-06,\n            4.9014e-06,  7.6273e-06]],\n\n         [[-4.4676e-05, -4.3375e-05, -4.2954e-05,  ...,  1.4367e-05,\n            9.0078e-06,  1.1880e-05],\n          [-4.3016e-05, -4.1714e-05, -4.0872e-05,  ...,  4.4433e-06,\n            5.8722e-06,  1.0292e-05],\n          [-4.0939e-05, -4.0973e-05, -4.1185e-05,  ..., -2.4801e-06,\n            3.7523e-06,  8.5421e-06],\n          ...,\n          [ 1.2588e-05,  1.1528e-05,  1.1522e-05,  ...,  1.4603e-06,\n           -3.4720e-06, -6.1821e-06],\n          [ 1.6676e-05,  1.5019e-05,  1.4903e-05,  ...,  9.2480e-07,\n           -1.6503e-06, -5.0636e-06],\n          [ 2.1722e-05,  2.0249e-05,  1.9033e-05,  ...,  3.3900e-06,\n           -8.0932e-07,  2.4280e-06]]],\n\n\n        [[[ 2.7969e-05,  3.0490e-05,  3.1542e-05,  ..., -1.7254e-05,\n           -1.1850e-05, -1.2154e-05],\n          [ 2.8439e-05,  2.9922e-05,  3.0376e-05,  ..., -8.4694e-06,\n           -9.5945e-06, -1.1034e-05],\n          [ 2.8871e-05,  3.0059e-05,  3.0160e-05,  ..., -1.8263e-06,\n           -8.4471e-06, -9.4213e-06],\n          ...,\n          [-2.2113e-05, -2.1031e-05, -1.9360e-05,  ..., -1.0226e-05,\n           -1.0712e-05, -1.0939e-05],\n          [-2.4322e-05, -2.3138e-05, -2.1826e-05,  ..., -1.0248e-05,\n           -1.0574e-05, -9.5833e-06],\n          [-2.6792e-05, -2.5060e-05, -2.3739e-05,  ..., -1.1869e-05,\n           -9.9447e-06, -1.4469e-05]],\n\n         [[ 2.7396e-05,  2.9821e-05,  3.0663e-05,  ..., -1.8552e-05,\n           -1.3094e-05, -1.3260e-05],\n          [ 2.7630e-05,  2.9430e-05,  3.0201e-05,  ..., -9.8739e-06,\n           -1.1092e-05, -1.2349e-05],\n          [ 2.6934e-05,  2.8919e-05,  2.9992e-05,  ..., -3.2727e-06,\n           -1.0397e-05, -1.1081e-05],\n          ...,\n          [-1.9282e-05, -1.8179e-05, -1.6825e-05,  ..., -9.0804e-06,\n           -9.8627e-06, -9.9866e-06],\n          [-2.2167e-05, -2.1098e-05, -1.9770e-05,  ..., -1.0142e-05,\n           -1.0801e-05, -1.0056e-05],\n          [-2.6783e-05, -2.5388e-05, -2.4004e-05,  ..., -1.2049e-05,\n           -1.0667e-05, -1.5551e-05]],\n\n         [[ 2.5455e-05,  2.7884e-05,  2.8644e-05,  ..., -1.5447e-05,\n           -9.6587e-06, -9.1791e-06],\n          [ 2.5671e-05,  2.7582e-05,  2.8323e-05,  ..., -7.8557e-06,\n           -8.1975e-06, -8.4899e-06],\n          [ 2.4829e-05,  2.6911e-05,  2.8420e-05,  ..., -1.8468e-06,\n           -7.4748e-06, -7.1148e-06],\n          ...,\n          [-1.5830e-05, -1.5134e-05, -1.4159e-05,  ..., -6.5789e-06,\n           -7.7877e-06, -8.1457e-06],\n          [-1.9057e-05, -1.7812e-05, -1.6975e-05,  ..., -7.3463e-06,\n           -8.4711e-06, -8.2157e-06],\n          [-2.3326e-05, -2.1760e-05, -2.0539e-05,  ..., -9.6904e-06,\n           -8.6246e-06, -1.3565e-05]]]], grad_fn=<ReshapeAliasBackward0>)"
     },
     "execution_count": 13,
     "metadata": {},
     "output_type": "execute_result"
    }
   ],
   "source": [
    "imgs"
   ],
   "metadata": {
    "collapsed": false
   },
   "id": "688a936c70a76084"
  },
  {
   "cell_type": "code",
   "execution_count": 28,
   "outputs": [],
   "source": [
    "invTrans = transforms.Compose([ transforms.Normalize(mean = [ 0., 0., 0. ],\n",
    "                                                     std = [ 1/0.247, 1/0.243, 1/0.261 ]),\n",
    "                                transforms.Normalize(mean = [ -0.4914, -0.4822, -0.4465 ],\n",
    "                                                     std = [ 1., 1., 1. ]),\n",
    "                               ])"
   ],
   "metadata": {
    "collapsed": false
   },
   "id": "4e3cfd6193690f3c"
  },
  {
   "cell_type": "code",
   "execution_count": 29,
   "outputs": [],
   "source": [
    "img = transforms.ToPILImage()(invTrans(imgs[0] * 10000))"
   ],
   "metadata": {
    "collapsed": false
   },
   "id": "7432fefeadebfb1e"
  },
  {
   "cell_type": "code",
   "execution_count": 30,
   "outputs": [],
   "source": [
    "img.show()"
   ],
   "metadata": {
    "collapsed": false
   },
   "id": "72ab7c5d7dae402c"
  },
  {
   "cell_type": "code",
   "execution_count": 26,
   "outputs": [],
   "source": [
    "\n",
    "# normalize_mean, normalize_std = (0.4914, 0.4822, 0.4465), (0.247, 0.243, 0.261)\n",
    "img = transforms.ToPILImage()(invTrans(selected_val_batch_data[0].to('cpu')))"
   ],
   "metadata": {
    "collapsed": false
   },
   "id": "4c2dffe0dd832593"
  }
 ],
 "metadata": {
  "kernelspec": {
   "display_name": "Python 3",
   "language": "python",
   "name": "python3"
  },
  "language_info": {
   "codemirror_mode": {
    "name": "ipython",
    "version": 2
   },
   "file_extension": ".py",
   "mimetype": "text/x-python",
   "name": "python",
   "nbconvert_exporter": "python",
   "pygments_lexer": "ipython2",
   "version": "2.7.6"
  }
 },
 "nbformat": 4,
 "nbformat_minor": 5
}
