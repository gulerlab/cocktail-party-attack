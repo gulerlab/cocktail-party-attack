{
 "cells": [
  {
   "cell_type": "code",
   "execution_count": 1,
   "id": "42eb36ed57ad71e5",
   "metadata": {
    "ExecuteTime": {
     "end_time": "2023-12-25T10:41:56.566300741Z",
     "start_time": "2023-12-25T10:41:55.237537245Z"
    },
    "collapsed": false
   },
   "outputs": [],
   "source": [
    "from model import Network\n",
    "from data import load_cifar100_dataloaders, WhiteningTransformation\n",
    "import torch\n",
    "import torchvision.transforms as transforms\n",
    "import torch.nn as nn\n",
    "from criterion import ReconstructImageFromFCLoss\n",
    "import numpy as np\n",
    "from metrics import lpips_gpu\n",
    "\n",
    "# reproducibility\n",
    "random_seed = 2024\n",
    "\n",
    "torch.manual_seed(random_seed)\n",
    "torch.cuda.manual_seed(random_seed)\n",
    "torch.backends.cudnn.deterministic = True\n",
    "torch.backends.cudnn.benchmark = False\n",
    "\n",
    "np.random.seed(random_seed)\n",
    "\n",
    "import optuna"
   ]
  },
  {
   "cell_type": "code",
   "execution_count": 2,
   "id": "714cfbc39e833e47",
   "metadata": {
    "ExecuteTime": {
     "end_time": "2023-12-25T10:41:56.573365575Z",
     "start_time": "2023-12-25T10:41:56.567194206Z"
    },
    "collapsed": false
   },
   "outputs": [],
   "source": [
    "def objective(trial):\n",
    "    # load to model\n",
    "    model_config = './model_config/fc1_cocktail_party_cifar100_instance.json'\n",
    "    checkpoint_path = './checkpoints/010224_fc1_cocktail_party_cifar100_pretraining_wout_bias_wout_normalization.pth'\n",
    "    device = 'cuda' if torch.cuda.is_available() else 'cpu'\n",
    "    model = Network(model_config)\n",
    "    checkpoint = torch.load(checkpoint_path)\n",
    "    model.load_state_dict(checkpoint['state_dict'])\n",
    "    model = model.to(device)\n",
    "    \n",
    "    # get val loader\n",
    "    batch_size = 64\n",
    "    data_path = './data'\n",
    "    transform = transforms.Compose([\n",
    "        transforms.ToTensor(),\n",
    "    ])\n",
    "    \n",
    "    _, val_dataloader = load_cifar100_dataloaders(data_path, batch_size, transform)\n",
    "    selected_val_batch_data, selected_val_batch_label = next(iter(val_dataloader))\n",
    "    selected_val_batch_data = selected_val_batch_data.to(device)\n",
    "    selected_val_batch_label = selected_val_batch_label.to(device)\n",
    "    \n",
    "    # receiving gradients\n",
    "    model.zero_grad()\n",
    "    criterion = nn.CrossEntropyLoss()\n",
    "    output = model(selected_val_batch_data.reshape(batch_size, -1))\n",
    "    loss = criterion(output, selected_val_batch_label)\n",
    "    loss.backward()\n",
    "    gradient_of_layers = []\n",
    "    for param in model.parameters():\n",
    "        gradient_of_layers.append(param.grad.data.clone().to('cpu'))\n",
    "    print([x.size() for x in gradient_of_layers])\n",
    "    \n",
    "    whitening_transform = WhiteningTransformation()\n",
    "    whitened_gradient = torch.from_numpy(whitening_transform.transform(gradient_of_layers[0].detach().numpy().T)).to(torch.float32).T\n",
    "    whitened_gradient = whitened_gradient.to(device)\n",
    "    \n",
    "    # criterion output testing\n",
    "    unmixing_matrix = torch.rand((selected_val_batch_data.size(0), gradient_of_layers[0].size(0)), requires_grad=True, device=device)\n",
    "    t_param = trial.suggest_float('t_param', 0.00001, 10)\n",
    "    total_variance_loss_param = trial.suggest_float('total_variance_loss_param', 0.00001, 10)\n",
    "    mutual_independence_loss_param = trial.suggest_float('mutual_independence_loss_param', 0.00001, 10)\n",
    "    reconstruction_loss = ReconstructImageFromFCLoss(32, 32, 3, t_param, total_variance_loss_param, mutual_independence_loss_param)\n",
    "    optimizer = torch.optim.Adam([unmixing_matrix])\n",
    "    \n",
    "    for iter_idx in range(25000):\n",
    "        optimizer.zero_grad()\n",
    "        # out_score, non_gaussianity_score, total_variance_score, mutual_independence_score\n",
    "        loss, _, _, _ = reconstruction_loss(unmixing_matrix, whitened_gradient)\n",
    "        loss.backward()\n",
    "        optimizer.step()\n",
    "        \n",
    "        if (iter_idx + 1) % 1000 == 0 or iter_idx == 0:\n",
    "            print('loss: {}'.format(loss.item()))\n",
    "            \n",
    "    unmixing_matrix = unmixing_matrix.detach().to('cpu')\n",
    "    whitened_gradient = whitened_gradient.detach().to('cpu')\n",
    "    \n",
    "    with torch.no_grad():\n",
    "        lpips_match, lpips_is_positive, mean_lpips = lpips_gpu(unmixing_matrix @ whitened_gradient, selected_val_batch_data.detach().to('cpu'), return_matches=True)\n",
    "        return mean_lpips"
   ]
  },
  {
   "cell_type": "code",
   "execution_count": null,
   "id": "5b0aaa65641b90e4",
   "metadata": {
    "collapsed": false
   },
   "outputs": [],
   "source": [
    "num_of_trials = 100\n",
    "study = optuna.create_study(direction='minimize')\n",
    "study.optimize(objective, n_trials=num_of_trials)"
   ]
  }
 ],
 "metadata": {
  "kernelspec": {
   "display_name": "Python 3",
   "language": "python",
   "name": "python3"
  },
  "language_info": {
   "codemirror_mode": {
    "name": "ipython",
    "version": 3
   },
   "file_extension": ".py",
   "mimetype": "text/x-python",
   "name": "python",
   "nbconvert_exporter": "python",
   "pygments_lexer": "ipython3",
   "version": "3.9.18"
  }
 },
 "nbformat": 4,
 "nbformat_minor": 5
}
