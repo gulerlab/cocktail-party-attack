{
 "cells": [
  {
   "cell_type": "code",
   "execution_count": 1,
   "outputs": [],
   "source": [
    "from model import Network\n",
    "from data import load_mnist_dataloaders, WhiteningTransformation\n",
    "import torch\n",
    "import torchvision.transforms as transforms\n",
    "import torch.nn as nn\n",
    "from criterion import ReconstructImageFromFCLoss\n",
    "import numpy as np\n",
    "import matplotlib.pyplot as plt\n",
    "import matplotlib.colors as colors"
   ],
   "metadata": {
    "collapsed": false,
    "ExecuteTime": {
     "end_time": "2023-12-22T09:41:58.821282719Z",
     "start_time": "2023-12-22T09:41:57.757778162Z"
    }
   },
   "id": "42eb36ed57ad71e5"
  },
  {
   "cell_type": "code",
   "execution_count": 2,
   "id": "initial_id",
   "metadata": {
    "collapsed": true,
    "ExecuteTime": {
     "end_time": "2023-12-22T09:42:00.535114152Z",
     "start_time": "2023-12-22T09:41:59.809258047Z"
    }
   },
   "outputs": [],
   "source": [
    "# load to model\n",
    "model_config = './model_config/fc1_cocktail_party_mnist_instance.json'\n",
    "checkpoint_path = './checkpoints/122223_fc1_cocktail_party_mnist_pretraining_wout_bias_wout_normalization.pth'\n",
    "device = 'cuda' if torch.cuda.is_available() else 'cpu'\n",
    "model = Network(model_config)\n",
    "checkpoint = torch.load(checkpoint_path)\n",
    "model.load_state_dict(checkpoint['state_dict'])\n",
    "model = model.to(device)\n",
    "\n",
    "# get val loader\n",
    "batch_size = 4\n",
    "data_path = './data'\n",
    "transform = transforms.Compose([\n",
    "    transforms.ToTensor(),\n",
    "])\n",
    "\n",
    "_, val_dataloader = load_mnist_dataloaders(data_path, batch_size, transform)\n",
    "selected_val_batch_data, selected_val_batch_label = next(iter(val_dataloader))\n",
    "selected_val_batch_data = selected_val_batch_data.to(device)\n",
    "selected_val_batch_label = selected_val_batch_label.to(device)"
   ]
  },
  {
   "cell_type": "code",
   "execution_count": 3,
   "outputs": [
    {
     "name": "stdout",
     "output_type": "stream",
     "text": [
      "[torch.Size([10, 784])]\n"
     ]
    }
   ],
   "source": [
    "# receiving gradients\n",
    "model.zero_grad()\n",
    "criterion = nn.CrossEntropyLoss()\n",
    "output = model(selected_val_batch_data.reshape(batch_size, -1))\n",
    "loss = criterion(output, selected_val_batch_label)\n",
    "loss.backward()\n",
    "gradient_of_layers = []\n",
    "for param in model.parameters():\n",
    "    gradient_of_layers.append(param.grad.data.clone().to('cpu'))\n",
    "print([x.size() for x in gradient_of_layers])"
   ],
   "metadata": {
    "collapsed": false,
    "ExecuteTime": {
     "end_time": "2023-12-22T09:42:01.230914918Z",
     "start_time": "2023-12-22T09:42:00.577843838Z"
    }
   },
   "id": "9fd43b89714d7e39"
  },
  {
   "cell_type": "code",
   "execution_count": 4,
   "outputs": [],
   "source": [
    "whitening_transform = WhiteningTransformation()\n",
    "whitened_gradient = torch.from_numpy(whitening_transform.transform(gradient_of_layers[0].detach().numpy().T)).to(torch.float32).T\n",
    "whitened_gradient = whitened_gradient.to(device)"
   ],
   "metadata": {
    "collapsed": false,
    "ExecuteTime": {
     "end_time": "2023-12-22T09:42:01.242049132Z",
     "start_time": "2023-12-22T09:42:01.232401396Z"
    }
   },
   "id": "6db76726297c0ab2"
  },
  {
   "cell_type": "code",
   "execution_count": 5,
   "outputs": [
    {
     "name": "stdout",
     "output_type": "stream",
     "text": [
      "loss: 2.1399660110473633\n",
      "loss: 1.0505074262619019\n",
      "loss: 1.0431489944458008\n",
      "loss: 1.036197304725647\n",
      "loss: 1.0305606126785278\n",
      "loss: 1.0261468887329102\n",
      "loss: 1.023018479347229\n",
      "loss: 1.0203739404678345\n",
      "loss: 1.0186461210250854\n",
      "loss: 1.0170080661773682\n",
      "loss: 1.0162214040756226\n",
      "loss: 1.014397144317627\n",
      "loss: 1.0134204626083374\n",
      "loss: 1.0124506950378418\n",
      "loss: 1.0116270780563354\n",
      "loss: 1.010847568511963\n",
      "loss: 1.0098276138305664\n",
      "loss: 1.01015043258667\n",
      "loss: 1.0092982053756714\n",
      "loss: 1.009973406791687\n",
      "loss: 1.0081045627593994\n",
      "loss: 1.0086253881454468\n",
      "loss: 1.0089269876480103\n",
      "loss: 1.0079792737960815\n",
      "loss: 1.007064938545227\n",
      "loss: 1.0076767206192017\n"
     ]
    }
   ],
   "source": [
    "# criterion output testing\n",
    "unmixing_matrix = torch.rand((selected_val_batch_data.size(0), gradient_of_layers[0].size(0)), requires_grad=True, device=device)\n",
    "reconstruction_loss = ReconstructImageFromFCLoss(28, 28, 1, 1, 1, 1)\n",
    "optimizer = torch.optim.Adam([unmixing_matrix])\n",
    "\n",
    "for iter_idx in range(25000):\n",
    "    optimizer.zero_grad()\n",
    "    # out_score, non_gaussianity_score, total_variance_score, mutual_independence_score\n",
    "    loss, _, _, _ = reconstruction_loss(unmixing_matrix, whitened_gradient)\n",
    "    loss.backward()\n",
    "    optimizer.step()\n",
    "    \n",
    "    if (iter_idx + 1) % 1000 == 0 or iter_idx == 0:\n",
    "        print('loss: {}'.format(loss.item()))"
   ],
   "metadata": {
    "collapsed": false,
    "ExecuteTime": {
     "end_time": "2023-12-22T09:42:42.382500117Z",
     "start_time": "2023-12-22T09:42:03.135940588Z"
    }
   },
   "id": "271ed464941bfd3a"
  },
  {
   "cell_type": "markdown",
   "source": [
    "## Estimated images"
   ],
   "metadata": {
    "collapsed": false
   },
   "id": "4554820f3fb44cee"
  },
  {
   "cell_type": "code",
   "outputs": [
    {
     "data": {
      "text/plain": "<Figure size 640x480 with 4 Axes>",
      "image/png": "[encoded data removed]"
     },
     "metadata": {},
     "output_type": "display_data"
    }
   ],
   "source": [
    "with torch.no_grad():\n",
    "    unmixing_matrix = unmixing_matrix.detach().to('cpu')\n",
    "    whitened_gradient = whitened_gradient.detach().to('cpu')\n",
    "    estimated_img = unmixing_matrix @ whitened_gradient\n",
    "\n",
    "    fig, axes = plt.subplots(2, 2)\n",
    "\n",
    "    for estimate, ax in zip(estimated_img, axes.flatten()):\n",
    "        img = np.squeeze(colors.Normalize()(np.asarray(estimate)).reshape(1, 28, 28).transpose(1, 2, 0))\n",
    "        ax.imshow(img, cmap='gray')\n",
    "    plt.show()"
   ],
   "metadata": {
    "collapsed": false,
    "ExecuteTime": {
     "end_time": "2023-12-22T09:46:05.727090909Z",
     "start_time": "2023-12-22T09:46:05.538646522Z"
    }
   },
   "id": "6a98f3aed5bf5ca5",
   "execution_count": 15
  },
  {
   "cell_type": "markdown",
   "source": [
    "## Original images"
   ],
   "metadata": {
    "collapsed": false
   },
   "id": "74a112c7a21e3419"
  },
  {
   "cell_type": "code",
   "outputs": [
    {
     "data": {
      "text/plain": "<Figure size 640x480 with 4 Axes>",
      "image/png": "[encoded data removed]"
     },
     "metadata": {},
     "output_type": "display_data"
    }
   ],
   "source": [
    "with torch.no_grad():\n",
    "    fig, axes = plt.subplots(2, 2)\n",
    "    \n",
    "    for estimate, ax in zip(selected_val_batch_data, axes.flatten()):\n",
    "        img = transforms.ToPILImage()(estimate.reshape(1, 28, 28))\n",
    "        img = np.asarray(img)\n",
    "        ax.imshow(img, cmap='gray')\n",
    "    plt.show()"
   ],
   "metadata": {
    "collapsed": false,
    "ExecuteTime": {
     "end_time": "2023-12-22T09:45:53.403786613Z",
     "start_time": "2023-12-22T09:45:53.268583919Z"
    }
   },
   "id": "bb0693fb75c62547",
   "execution_count": 13
  }
 ],
 "metadata": {
  "kernelspec": {
   "display_name": "Python 3",
   "language": "python",
   "name": "python3"
  },
  "language_info": {
   "codemirror_mode": {
    "name": "ipython",
    "version": 2
   },
   "file_extension": ".py",
   "mimetype": "text/x-python",
   "name": "python",
   "nbconvert_exporter": "python",
   "pygments_lexer": "ipython2",
   "version": "2.7.6"
  }
 },
 "nbformat": 4,
 "nbformat_minor": 5
}
