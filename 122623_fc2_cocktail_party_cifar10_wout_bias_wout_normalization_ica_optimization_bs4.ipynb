{
 "cells": [
  {
   "cell_type": "code",
   "execution_count": 1,
   "outputs": [],
   "source": [
    "from model import Network\n",
    "from data import load_cifar10_dataloaders, WhiteningTransformation\n",
    "import torch\n",
    "import torchvision.transforms as transforms\n",
    "import torch.nn as nn\n",
    "from criterion import ReconstructImageFromFCLoss\n",
    "import numpy as np\n",
    "import matplotlib.pyplot as plt\n",
    "import matplotlib.colors as colors\n",
    "from metrics import lpips, psnr\n",
    "\n",
    "# TODO: for exact reproducibility the seed should be set after the network initialization\n",
    "\n",
    "# reproducibility\n",
    "random_seed = 2024\n",
    "\n",
    "torch.manual_seed(random_seed)\n",
    "torch.cuda.manual_seed(random_seed)\n",
    "torch.backends.cudnn.deterministic = True\n",
    "torch.backends.cudnn.benchmark = False\n",
    "\n",
    "np.random.seed(random_seed)"
   ],
   "metadata": {
    "collapsed": false,
    "ExecuteTime": {
     "end_time": "2023-12-26T09:55:14.839472325Z",
     "start_time": "2023-12-26T09:55:13.456841792Z"
    }
   },
   "id": "42eb36ed57ad71e5"
  },
  {
   "cell_type": "code",
   "execution_count": 2,
   "id": "initial_id",
   "metadata": {
    "collapsed": true,
    "ExecuteTime": {
     "end_time": "2023-12-26T09:55:18.547074539Z",
     "start_time": "2023-12-26T09:55:16.937937556Z"
    }
   },
   "outputs": [
    {
     "name": "stdout",
     "output_type": "stream",
     "text": [
      "Files already downloaded and verified\n",
      "Files already downloaded and verified\n"
     ]
    }
   ],
   "source": [
    "# load to model\n",
    "model_config = './model_config/fc2_cocktail_party_cifar10_instance.json'\n",
    "checkpoint_path = './checkpoints/122123_fc2_cocktail_party_cifar10_pretraining_wout_bias_wout_normalization.pth'\n",
    "device = 'cuda' if torch.cuda.is_available() else 'cpu'\n",
    "model = Network(model_config)\n",
    "checkpoint = torch.load(checkpoint_path)\n",
    "model.load_state_dict(checkpoint['state_dict'])\n",
    "model = model.to(device)\n",
    "\n",
    "# get val loader\n",
    "batch_size = 4\n",
    "data_path = './data'\n",
    "transform = transforms.Compose([\n",
    "    transforms.ToTensor(),\n",
    "])\n",
    "\n",
    "_, val_dataloader = load_cifar10_dataloaders(data_path, batch_size, transform)\n",
    "selected_val_batch_data, selected_val_batch_label = next(iter(val_dataloader))\n",
    "selected_val_batch_data = selected_val_batch_data.to(device)\n",
    "selected_val_batch_label = selected_val_batch_label.to(device)"
   ]
  },
  {
   "cell_type": "code",
   "execution_count": 3,
   "outputs": [
    {
     "name": "stdout",
     "output_type": "stream",
     "text": [
      "[torch.Size([256, 3072]), torch.Size([10, 256])]\n"
     ]
    }
   ],
   "source": [
    "# receiving gradients\n",
    "model.zero_grad()\n",
    "criterion = nn.CrossEntropyLoss()\n",
    "output = model(selected_val_batch_data.reshape(batch_size, -1))\n",
    "loss = criterion(output, selected_val_batch_label)\n",
    "loss.backward()\n",
    "gradient_of_layers = []\n",
    "for param in model.parameters():\n",
    "    gradient_of_layers.append(param.grad.data.clone().to('cpu'))\n",
    "print([x.size() for x in gradient_of_layers])"
   ],
   "metadata": {
    "collapsed": false,
    "ExecuteTime": {
     "end_time": "2023-12-26T09:55:20.243450916Z",
     "start_time": "2023-12-26T09:55:19.428922825Z"
    }
   },
   "id": "9fd43b89714d7e39"
  },
  {
   "cell_type": "code",
   "execution_count": 4,
   "outputs": [],
   "source": [
    "whitening_transform = WhiteningTransformation()\n",
    "whitened_gradient = torch.from_numpy(whitening_transform.transform(gradient_of_layers[0].detach().numpy().T)).to(torch.float32).T\n",
    "whitened_gradient = whitened_gradient.to(device)"
   ],
   "metadata": {
    "collapsed": false,
    "ExecuteTime": {
     "end_time": "2023-12-26T09:55:21.408470148Z",
     "start_time": "2023-12-26T09:55:21.048922044Z"
    }
   },
   "id": "6db76726297c0ab2"
  },
  {
   "cell_type": "code",
   "execution_count": 5,
   "outputs": [
    {
     "name": "stdout",
     "output_type": "stream",
     "text": [
      "loss: 2.2794291973114014\n",
      "loss: 1.0093843936920166\n",
      "loss: 1.0001440048217773\n",
      "loss: 1.00032377243042\n",
      "loss: 1.0002055168151855\n",
      "loss: 1.0003554821014404\n",
      "loss: 1.0003130435943604\n",
      "loss: 1.0002573728561401\n",
      "loss: 1.0003101825714111\n",
      "loss: 1.0002702474594116\n",
      "loss: 1.0002155303955078\n",
      "loss: 1.0002609491348267\n",
      "loss: 1.0003167390823364\n",
      "loss: 1.0003514289855957\n",
      "loss: 1.0003222227096558\n",
      "loss: 1.000275731086731\n",
      "loss: 1.0002224445343018\n",
      "loss: 1.000285267829895\n",
      "loss: 1.000245451927185\n",
      "loss: 1.000269889831543\n",
      "loss: 1.0003032684326172\n",
      "loss: 1.0002193450927734\n",
      "loss: 1.0002351999282837\n",
      "loss: 1.0002580881118774\n",
      "loss: 1.0002899169921875\n",
      "loss: 1.00028395652771\n"
     ]
    }
   ],
   "source": [
    "# criterion output testing\n",
    "unmixing_matrix = torch.rand((selected_val_batch_data.size(0), gradient_of_layers[0].size(0)), requires_grad=True, device=device)\n",
    "reconstruction_loss = ReconstructImageFromFCLoss(32, 32, 3, 1, 1, 1)\n",
    "optimizer = torch.optim.Adam([unmixing_matrix])\n",
    "\n",
    "for iter_idx in range(25000):\n",
    "    optimizer.zero_grad()\n",
    "    # out_score, non_gaussianity_score, total_variance_score, mutual_independence_score\n",
    "    loss, _, _, _ = reconstruction_loss(unmixing_matrix, whitened_gradient)\n",
    "    loss.backward()\n",
    "    optimizer.step()\n",
    "    \n",
    "    if (iter_idx + 1) % 1000 == 0 or iter_idx == 0:\n",
    "        print('loss: {}'.format(loss.item()))"
   ],
   "metadata": {
    "collapsed": false,
    "ExecuteTime": {
     "end_time": "2023-12-26T09:56:06.321733132Z",
     "start_time": "2023-12-26T09:55:22.230450495Z"
    }
   },
   "id": "271ed464941bfd3a"
  },
  {
   "cell_type": "code",
   "outputs": [],
   "source": [
    "unmixing_matrix = unmixing_matrix.detach().to('cpu')\n",
    "whitened_gradient = whitened_gradient.detach().to('cpu')"
   ],
   "metadata": {
    "collapsed": false,
    "ExecuteTime": {
     "end_time": "2023-12-26T09:56:34.661313193Z",
     "start_time": "2023-12-26T09:56:34.618569996Z"
    }
   },
   "id": "b0b41e7f681b30a2",
   "execution_count": 6
  },
  {
   "cell_type": "markdown",
   "source": [
    "## PSNR Values"
   ],
   "metadata": {
    "collapsed": false
   },
   "id": "1e6b1d6d0732f39d"
  },
  {
   "cell_type": "code",
   "outputs": [],
   "source": [
    "with torch.no_grad():\n",
    "    psnr_match, psnr_is_positive, mean_psnr = psnr(unmixing_matrix @ whitened_gradient, selected_val_batch_data.detach().to('cpu'), return_matches=True)"
   ],
   "metadata": {
    "collapsed": false,
    "ExecuteTime": {
     "end_time": "2023-12-26T09:56:35.837593367Z",
     "start_time": "2023-12-26T09:56:35.830292165Z"
    }
   },
   "id": "fbc0d8071ae95c9c",
   "execution_count": 7
  },
  {
   "cell_type": "code",
   "outputs": [
    {
     "data": {
      "text/plain": "[tensor([0, 2]), tensor([3, 0]), tensor([1, 3]), tensor([2, 1])]"
     },
     "execution_count": 8,
     "metadata": {},
     "output_type": "execute_result"
    }
   ],
   "source": [
    "psnr_match"
   ],
   "metadata": {
    "collapsed": false,
    "ExecuteTime": {
     "end_time": "2023-12-26T09:56:36.770491024Z",
     "start_time": "2023-12-26T09:56:36.765157713Z"
    }
   },
   "id": "a570a0ea38ed4d86",
   "execution_count": 8
  },
  {
   "cell_type": "code",
   "outputs": [
    {
     "data": {
      "text/plain": "8.210582852363586"
     },
     "execution_count": 9,
     "metadata": {},
     "output_type": "execute_result"
    }
   ],
   "source": [
    "mean_psnr"
   ],
   "metadata": {
    "collapsed": false,
    "ExecuteTime": {
     "end_time": "2023-12-26T09:56:37.822852240Z",
     "start_time": "2023-12-26T09:56:37.820340842Z"
    }
   },
   "id": "5610d401f9f94491",
   "execution_count": 9
  },
  {
   "cell_type": "code",
   "outputs": [
    {
     "data": {
      "text/plain": "[False, False, True, False]"
     },
     "execution_count": 10,
     "metadata": {},
     "output_type": "execute_result"
    }
   ],
   "source": [
    "psnr_is_positive"
   ],
   "metadata": {
    "collapsed": false,
    "ExecuteTime": {
     "end_time": "2023-12-26T09:56:38.741259039Z",
     "start_time": "2023-12-26T09:56:38.736363477Z"
    }
   },
   "id": "a2ea419c5ef06c82",
   "execution_count": 10
  },
  {
   "cell_type": "markdown",
   "source": [
    "## LPIPS"
   ],
   "metadata": {
    "collapsed": false
   },
   "id": "1aebdd6329ae8ecd"
  },
  {
   "cell_type": "code",
   "outputs": [],
   "source": [
    "with torch.no_grad():\n",
    "    lpips_match, lpips_is_positive, mean_lpips = lpips(unmixing_matrix @ whitened_gradient, selected_val_batch_data.detach().to('cpu'), return_matches=True)"
   ],
   "metadata": {
    "collapsed": false,
    "ExecuteTime": {
     "end_time": "2023-12-26T09:56:49.623356962Z",
     "start_time": "2023-12-26T09:56:39.791262757Z"
    }
   },
   "id": "74d2ffda28c9a17e",
   "execution_count": 11
  },
  {
   "cell_type": "code",
   "outputs": [
    {
     "data": {
      "text/plain": "[tensor([2, 1]), tensor([3, 3]), tensor([0, 0]), tensor([1, 2])]"
     },
     "execution_count": 12,
     "metadata": {},
     "output_type": "execute_result"
    }
   ],
   "source": [
    "lpips_match"
   ],
   "metadata": {
    "collapsed": false,
    "ExecuteTime": {
     "end_time": "2023-12-26T09:56:49.669928993Z",
     "start_time": "2023-12-26T09:56:49.668915935Z"
    }
   },
   "id": "3ff5e7c23781808c",
   "execution_count": 12
  },
  {
   "cell_type": "code",
   "outputs": [
    {
     "data": {
      "text/plain": "0.16022763215005398"
     },
     "execution_count": 13,
     "metadata": {},
     "output_type": "execute_result"
    }
   ],
   "source": [
    "mean_lpips"
   ],
   "metadata": {
    "collapsed": false,
    "ExecuteTime": {
     "end_time": "2023-12-26T09:56:49.670816788Z",
     "start_time": "2023-12-26T09:56:49.669299180Z"
    }
   },
   "id": "2fdd5f0377a60586",
   "execution_count": 13
  },
  {
   "cell_type": "code",
   "outputs": [
    {
     "data": {
      "text/plain": "[True, False, True, True]"
     },
     "execution_count": 14,
     "metadata": {},
     "output_type": "execute_result"
    }
   ],
   "source": [
    "lpips_is_positive"
   ],
   "metadata": {
    "collapsed": false,
    "ExecuteTime": {
     "end_time": "2023-12-26T09:56:49.671421396Z",
     "start_time": "2023-12-26T09:56:49.669507372Z"
    }
   },
   "id": "1d76dd61fe863d10",
   "execution_count": 14
  },
  {
   "cell_type": "markdown",
   "source": [
    "## Estimated images"
   ],
   "metadata": {
    "collapsed": false
   },
   "id": "4554820f3fb44cee"
  },
  {
   "cell_type": "code",
   "outputs": [
    {
     "data": {
      "text/plain": "<Figure size 640x480 with 4 Axes>",
      "image/png": "[encoded data removed]"
     },
     "metadata": {},
     "output_type": "display_data"
    }
   ],
   "source": [
    "with torch.no_grad():\n",
    "    estimated_img = (unmixing_matrix @ whitened_gradient)\n",
    "    \n",
    "    fig, axes = plt.subplots(2, 2)\n",
    "    \n",
    "    for estimate, ax, is_positive in zip(estimated_img, axes.flatten(), lpips_is_positive):\n",
    "        estimate_coeff = 1 if is_positive else -1\n",
    "        img = colors.Normalize()(np.asarray(estimate_coeff * estimate).reshape(3, 32, 32).transpose(1, 2, 0))\n",
    "        ax.imshow(img)\n",
    "        ax.axis('off')\n",
    "    plt.show()"
   ],
   "metadata": {
    "collapsed": false,
    "ExecuteTime": {
     "end_time": "2023-12-26T09:56:49.710927992Z",
     "start_time": "2023-12-26T09:56:49.669688804Z"
    }
   },
   "id": "6a98f3aed5bf5ca5",
   "execution_count": 15
  },
  {
   "cell_type": "markdown",
   "source": [
    "## Original images"
   ],
   "metadata": {
    "collapsed": false
   },
   "id": "74a112c7a21e3419"
  },
  {
   "cell_type": "code",
   "outputs": [
    {
     "data": {
      "text/plain": "<Figure size 640x480 with 4 Axes>",
      "image/png": "[encoded data removed]"
     },
     "metadata": {},
     "output_type": "display_data"
    }
   ],
   "source": [
    "with torch.no_grad():\n",
    "    fig, axes = plt.subplots(2, 2)\n",
    "    \n",
    "    for estimate, ax in zip(selected_val_batch_data, axes.flatten()):\n",
    "        img = transforms.ToPILImage()(estimate.reshape(3, 32, 32))\n",
    "        img = np.asarray(img)\n",
    "        ax.imshow(img)\n",
    "        ax.axis('off')\n",
    "    plt.show()"
   ],
   "metadata": {
    "collapsed": false,
    "ExecuteTime": {
     "end_time": "2023-12-26T09:56:49.822157436Z",
     "start_time": "2023-12-26T09:56:49.788398779Z"
    }
   },
   "id": "bb0693fb75c62547",
   "execution_count": 16
  }
 ],
 "metadata": {
  "kernelspec": {
   "display_name": "Python 3",
   "language": "python",
   "name": "python3"
  },
  "language_info": {
   "codemirror_mode": {
    "name": "ipython",
    "version": 2
   },
   "file_extension": ".py",
   "mimetype": "text/x-python",
   "name": "python",
   "nbconvert_exporter": "python",
   "pygments_lexer": "ipython2",
   "version": "2.7.6"
  }
 },
 "nbformat": 4,
 "nbformat_minor": 5
}
