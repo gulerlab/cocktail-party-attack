{
 "cells": [
  {
   "cell_type": "code",
   "execution_count": 1,
   "outputs": [],
   "source": [
    "from model import Network\n",
    "from data import load_cifar10_dataloaders, whitening_transformation\n",
    "import torch\n",
    "import torchvision.transforms as transforms\n",
    "import torch.nn as nn\n",
    "# from criterion import NonGaussianityLoss, TotalVariationLoss, MutualIndependenceLoss, ReconstructImageFromFCLoss"
   ],
   "metadata": {
    "collapsed": false,
    "ExecuteTime": {
     "end_time": "2023-12-21T01:03:18.582514304Z",
     "start_time": "2023-12-21T01:03:17.913288545Z"
    }
   },
   "id": "42eb36ed57ad71e5"
  },
  {
   "cell_type": "code",
   "execution_count": 2,
   "id": "initial_id",
   "metadata": {
    "collapsed": true,
    "ExecuteTime": {
     "end_time": "2023-12-21T01:03:20.383509394Z",
     "start_time": "2023-12-21T01:03:18.619834234Z"
    }
   },
   "outputs": [
    {
     "name": "stdout",
     "output_type": "stream",
     "text": [
      "Files already downloaded and verified\n",
      "Files already downloaded and verified\n"
     ]
    }
   ],
   "source": [
    "# load to model\n",
    "model_config = './model_config/fc2_cocktail_party_instance_wout_bias.json'\n",
    "checkpoint_path = './checkpoints/121923_fc2_cocktail_party_cifar10_pretraining_wout_bias.pth'\n",
    "device = 'cuda' if torch.cuda.is_available() else 'cpu'\n",
    "model = Network(model_config)\n",
    "checkpoint = torch.load(checkpoint_path)\n",
    "model.load_state_dict(checkpoint['state_dict'])\n",
    "model = model.to(device)\n",
    "\n",
    "# get val loader\n",
    "normalize_mean, normalize_std = (0.4914, 0.4822, 0.4465), (0.247, 0.243, 0.261)\n",
    "batch_size = 8\n",
    "data_path = './data'\n",
    "transform = transforms.Compose([\n",
    "    transforms.ToTensor(),\n",
    "    transforms.Normalize(normalize_mean, normalize_std),\n",
    "])\n",
    "\n",
    "_, val_dataloader = load_cifar10_dataloaders(data_path, batch_size, transform)\n",
    "selected_val_batch_data, selected_val_batch_label = next(iter(val_dataloader))\n",
    "selected_val_batch_data = selected_val_batch_data.to(device)\n",
    "selected_val_batch_label = selected_val_batch_label.to(device)"
   ]
  },
  {
   "cell_type": "code",
   "execution_count": 3,
   "outputs": [
    {
     "name": "stdout",
     "output_type": "stream",
     "text": [
      "[torch.Size([256, 3072]), torch.Size([10, 256])]\n"
     ]
    }
   ],
   "source": [
    "# receiving gradients\n",
    "model.zero_grad()\n",
    "criterion = nn.CrossEntropyLoss()\n",
    "output = model(selected_val_batch_data.reshape(batch_size, -1))\n",
    "loss = criterion(output, selected_val_batch_label)\n",
    "loss.backward()\n",
    "gradient_of_layers = []\n",
    "for param in model.parameters():\n",
    "    gradient_of_layers.append(param.grad.data.clone().to('cpu'))\n",
    "print([x.size() for x in gradient_of_layers])"
   ],
   "metadata": {
    "collapsed": false,
    "ExecuteTime": {
     "end_time": "2023-12-21T01:03:20.884436512Z",
     "start_time": "2023-12-21T01:03:20.384842285Z"
    }
   },
   "id": "9fd43b89714d7e39"
  },
  {
   "cell_type": "code",
   "execution_count": 5,
   "outputs": [
    {
     "ename": "KeyboardInterrupt",
     "evalue": "",
     "output_type": "error",
     "traceback": [
      "\u001B[0;31m---------------------------------------------------------------------------\u001B[0m",
      "\u001B[0;31mKeyboardInterrupt\u001B[0m                         Traceback (most recent call last)",
      "Cell \u001B[0;32mIn[5], line 4\u001B[0m\n\u001B[1;32m      2\u001B[0m zca_whitened_gradients \u001B[38;5;241m=\u001B[39m []\n\u001B[1;32m      3\u001B[0m \u001B[38;5;28;01mfor\u001B[39;00m gradient \u001B[38;5;129;01min\u001B[39;00m gradient_of_layers:\n\u001B[0;32m----> 4\u001B[0m     pca_whitened_gradient, zca_whitened_gradient \u001B[38;5;241m=\u001B[39m \u001B[43mwhitening_transformation\u001B[49m\u001B[43m(\u001B[49m\u001B[43mgradient\u001B[49m\u001B[43m)\u001B[49m\n\u001B[1;32m      5\u001B[0m     pca_whitened_gradients\u001B[38;5;241m.\u001B[39mappend(pca_whitened_gradient)\n\u001B[1;32m      6\u001B[0m     zca_whitened_gradients\u001B[38;5;241m.\u001B[39mappend(zca_whitened_gradient)\n",
      "File \u001B[0;32m~/Desktop/umityigitbsrn/research/repos/cocktail-party-attack/data.py:47\u001B[0m, in \u001B[0;36mwhitening_transformation\u001B[0;34m(gradient_matrix)\u001B[0m\n\u001B[1;32m     45\u001B[0m \u001B[38;5;66;03m# pca whitening\u001B[39;00m\n\u001B[1;32m     46\u001B[0m pca_whitening \u001B[38;5;241m=\u001B[39m (torch\u001B[38;5;241m.\u001B[39mdiag(inverse_sqrt_eigvals) \u001B[38;5;241m@\u001B[39m eigvectors\u001B[38;5;241m.\u001B[39mT \u001B[38;5;241m@\u001B[39m transformed_matrix\u001B[38;5;241m.\u001B[39mT)\u001B[38;5;241m.\u001B[39mT\n\u001B[0;32m---> 47\u001B[0m \u001B[38;5;28;01massert\u001B[39;00m \u001B[38;5;129;01mnot\u001B[39;00m ((\u001B[43mtorch\u001B[49m\u001B[38;5;241m.\u001B[39many(torch\u001B[38;5;241m.\u001B[39misnan(pca_whitening))\u001B[38;5;241m.\u001B[39mitem()) \u001B[38;5;129;01mor\u001B[39;00m (torch\u001B[38;5;241m.\u001B[39many(torch\u001B[38;5;241m.\u001B[39misinf(pca_whitening))\u001B[38;5;241m.\u001B[39mitem())), \u001B[38;5;124m'\u001B[39m\u001B[38;5;124mThere are NaN or Inf values in pca whitened array\u001B[39m\u001B[38;5;124m'\u001B[39m\n\u001B[1;32m     49\u001B[0m \u001B[38;5;66;03m# zca_whitening\u001B[39;00m\n\u001B[1;32m     50\u001B[0m zca_whitening \u001B[38;5;241m=\u001B[39m (eigvectors \u001B[38;5;241m@\u001B[39m torch\u001B[38;5;241m.\u001B[39mdiag(inverse_sqrt_eigvals) \u001B[38;5;241m@\u001B[39m eigvectors\u001B[38;5;241m.\u001B[39mT \u001B[38;5;241m@\u001B[39m transformed_matrix\u001B[38;5;241m.\u001B[39mT)\u001B[38;5;241m.\u001B[39mT\n",
      "File \u001B[0;32m~/Desktop/umityigitbsrn/research/repos/cocktail-party-attack/data.py:47\u001B[0m, in \u001B[0;36mwhitening_transformation\u001B[0;34m(gradient_matrix)\u001B[0m\n\u001B[1;32m     45\u001B[0m \u001B[38;5;66;03m# pca whitening\u001B[39;00m\n\u001B[1;32m     46\u001B[0m pca_whitening \u001B[38;5;241m=\u001B[39m (torch\u001B[38;5;241m.\u001B[39mdiag(inverse_sqrt_eigvals) \u001B[38;5;241m@\u001B[39m eigvectors\u001B[38;5;241m.\u001B[39mT \u001B[38;5;241m@\u001B[39m transformed_matrix\u001B[38;5;241m.\u001B[39mT)\u001B[38;5;241m.\u001B[39mT\n\u001B[0;32m---> 47\u001B[0m \u001B[38;5;28;01massert\u001B[39;00m \u001B[38;5;129;01mnot\u001B[39;00m ((\u001B[43mtorch\u001B[49m\u001B[38;5;241m.\u001B[39many(torch\u001B[38;5;241m.\u001B[39misnan(pca_whitening))\u001B[38;5;241m.\u001B[39mitem()) \u001B[38;5;129;01mor\u001B[39;00m (torch\u001B[38;5;241m.\u001B[39many(torch\u001B[38;5;241m.\u001B[39misinf(pca_whitening))\u001B[38;5;241m.\u001B[39mitem())), \u001B[38;5;124m'\u001B[39m\u001B[38;5;124mThere are NaN or Inf values in pca whitened array\u001B[39m\u001B[38;5;124m'\u001B[39m\n\u001B[1;32m     49\u001B[0m \u001B[38;5;66;03m# zca_whitening\u001B[39;00m\n\u001B[1;32m     50\u001B[0m zca_whitening \u001B[38;5;241m=\u001B[39m (eigvectors \u001B[38;5;241m@\u001B[39m torch\u001B[38;5;241m.\u001B[39mdiag(inverse_sqrt_eigvals) \u001B[38;5;241m@\u001B[39m eigvectors\u001B[38;5;241m.\u001B[39mT \u001B[38;5;241m@\u001B[39m transformed_matrix\u001B[38;5;241m.\u001B[39mT)\u001B[38;5;241m.\u001B[39mT\n",
      "File \u001B[0;32m~/pycharm-2023.1/plugins/python/helpers/pydev/_pydevd_bundle/pydevd_frame.py:755\u001B[0m, in \u001B[0;36mPyDBFrame.trace_dispatch\u001B[0;34m(self, frame, event, arg)\u001B[0m\n\u001B[1;32m    753\u001B[0m \u001B[38;5;66;03m# if thread has a suspend flag, we suspend with a busy wait\u001B[39;00m\n\u001B[1;32m    754\u001B[0m \u001B[38;5;28;01mif\u001B[39;00m info\u001B[38;5;241m.\u001B[39mpydev_state \u001B[38;5;241m==\u001B[39m STATE_SUSPEND:\n\u001B[0;32m--> 755\u001B[0m     \u001B[38;5;28;43mself\u001B[39;49m\u001B[38;5;241;43m.\u001B[39;49m\u001B[43mdo_wait_suspend\u001B[49m\u001B[43m(\u001B[49m\u001B[43mthread\u001B[49m\u001B[43m,\u001B[49m\u001B[43m \u001B[49m\u001B[43mframe\u001B[49m\u001B[43m,\u001B[49m\u001B[43m \u001B[49m\u001B[43mevent\u001B[49m\u001B[43m,\u001B[49m\u001B[43m \u001B[49m\u001B[43marg\u001B[49m\u001B[43m)\u001B[49m\n\u001B[1;32m    756\u001B[0m     \u001B[38;5;66;03m# No need to reset frame.f_trace to keep the same trace function.\u001B[39;00m\n\u001B[1;32m    757\u001B[0m     \u001B[38;5;28;01mreturn\u001B[39;00m \u001B[38;5;28mself\u001B[39m\u001B[38;5;241m.\u001B[39mtrace_dispatch\n",
      "File \u001B[0;32m~/pycharm-2023.1/plugins/python/helpers/pydev/_pydevd_bundle/pydevd_frame.py:412\u001B[0m, in \u001B[0;36mPyDBFrame.do_wait_suspend\u001B[0;34m(self, *args, **kwargs)\u001B[0m\n\u001B[1;32m    411\u001B[0m \u001B[38;5;28;01mdef\u001B[39;00m \u001B[38;5;21mdo_wait_suspend\u001B[39m(\u001B[38;5;28mself\u001B[39m, \u001B[38;5;241m*\u001B[39margs, \u001B[38;5;241m*\u001B[39m\u001B[38;5;241m*\u001B[39mkwargs):\n\u001B[0;32m--> 412\u001B[0m     \u001B[38;5;28;43mself\u001B[39;49m\u001B[38;5;241;43m.\u001B[39;49m\u001B[43m_args\u001B[49m\u001B[43m[\u001B[49m\u001B[38;5;241;43m0\u001B[39;49m\u001B[43m]\u001B[49m\u001B[38;5;241;43m.\u001B[39;49m\u001B[43mdo_wait_suspend\u001B[49m\u001B[43m(\u001B[49m\u001B[38;5;241;43m*\u001B[39;49m\u001B[43margs\u001B[49m\u001B[43m,\u001B[49m\u001B[43m \u001B[49m\u001B[38;5;241;43m*\u001B[39;49m\u001B[38;5;241;43m*\u001B[39;49m\u001B[43mkwargs\u001B[49m\u001B[43m)\u001B[49m\n",
      "File \u001B[0;32m~/pycharm-2023.1/plugins/python/helpers/pydev/pydevd.py:1184\u001B[0m, in \u001B[0;36mPyDB.do_wait_suspend\u001B[0;34m(self, thread, frame, event, arg, send_suspend_message, is_unhandled_exception)\u001B[0m\n\u001B[1;32m   1181\u001B[0m         from_this_thread\u001B[38;5;241m.\u001B[39mappend(frame_id)\n\u001B[1;32m   1183\u001B[0m \u001B[38;5;28;01mwith\u001B[39;00m \u001B[38;5;28mself\u001B[39m\u001B[38;5;241m.\u001B[39m_threads_suspended_single_notification\u001B[38;5;241m.\u001B[39mnotify_thread_suspended(thread_id, stop_reason):\n\u001B[0;32m-> 1184\u001B[0m     \u001B[38;5;28;43mself\u001B[39;49m\u001B[38;5;241;43m.\u001B[39;49m\u001B[43m_do_wait_suspend\u001B[49m\u001B[43m(\u001B[49m\u001B[43mthread\u001B[49m\u001B[43m,\u001B[49m\u001B[43m \u001B[49m\u001B[43mframe\u001B[49m\u001B[43m,\u001B[49m\u001B[43m \u001B[49m\u001B[43mevent\u001B[49m\u001B[43m,\u001B[49m\u001B[43m \u001B[49m\u001B[43marg\u001B[49m\u001B[43m,\u001B[49m\u001B[43m \u001B[49m\u001B[43msuspend_type\u001B[49m\u001B[43m,\u001B[49m\u001B[43m \u001B[49m\u001B[43mfrom_this_thread\u001B[49m\u001B[43m)\u001B[49m\n",
      "File \u001B[0;32m~/pycharm-2023.1/plugins/python/helpers/pydev/pydevd.py:1199\u001B[0m, in \u001B[0;36mPyDB._do_wait_suspend\u001B[0;34m(self, thread, frame, event, arg, suspend_type, from_this_thread)\u001B[0m\n\u001B[1;32m   1196\u001B[0m             \u001B[38;5;28mself\u001B[39m\u001B[38;5;241m.\u001B[39m_call_mpl_hook()\n\u001B[1;32m   1198\u001B[0m         \u001B[38;5;28mself\u001B[39m\u001B[38;5;241m.\u001B[39mprocess_internal_commands()\n\u001B[0;32m-> 1199\u001B[0m         \u001B[43mtime\u001B[49m\u001B[38;5;241;43m.\u001B[39;49m\u001B[43msleep\u001B[49m\u001B[43m(\u001B[49m\u001B[38;5;241;43m0.01\u001B[39;49m\u001B[43m)\u001B[49m\n\u001B[1;32m   1201\u001B[0m \u001B[38;5;28mself\u001B[39m\u001B[38;5;241m.\u001B[39mcancel_async_evaluation(get_current_thread_id(thread), \u001B[38;5;28mstr\u001B[39m(\u001B[38;5;28mid\u001B[39m(frame)))\n\u001B[1;32m   1203\u001B[0m \u001B[38;5;66;03m# process any stepping instructions\u001B[39;00m\n",
      "\u001B[0;31mKeyboardInterrupt\u001B[0m: "
     ]
    }
   ],
   "source": [
    "pca_whitened_gradients = []\n",
    "zca_whitened_gradients = []\n",
    "for gradient in gradient_of_layers:\n",
    "    pca_whitened_gradient, zca_whitened_gradient = whitening_transformation(gradient)\n",
    "    pca_whitened_gradients.append(pca_whitened_gradient)\n",
    "    zca_whitened_gradients.append(zca_whitened_gradient)"
   ],
   "metadata": {
    "collapsed": false,
    "ExecuteTime": {
     "end_time": "2023-12-21T01:05:26.989487431Z",
     "start_time": "2023-12-21T01:03:35.841506477Z"
    }
   },
   "id": "bca16f196cda4d87"
  },
  {
   "cell_type": "code",
   "execution_count": 5,
   "outputs": [
    {
     "data": {
      "text/plain": "tensor([ 1.8612e-01,  2.4517e-01,  5.3169e-01, -1.6703e-01, -4.8509e-01,\n        -1.3563e+00,  2.1249e+00,  5.8009e-01,  2.9512e-04,  2.9512e-04,\n        -1.1528e-03,  2.9620e-04,  2.9620e-04,         nan,         nan,\n                nan,  9.9798e-04,  9.9798e-04, -4.4859e-04, -4.4859e-04,\n         1.9309e-05,  1.9309e-05,         nan,         nan,         nan,\n                nan,         nan,         nan,         nan,  4.5593e-04,\n         4.5593e-04,  1.0572e-03, -2.7668e-04, -2.7668e-04,         nan,\n                nan,         nan,         nan,         nan,         nan,\n        -4.9821e-04,  8.2006e-05,  8.2006e-05,  7.2980e-04,  1.7223e-04,\n                nan,         nan,         nan,         nan,         nan,\n                nan,         nan,  8.3325e-05,  8.3325e-05, -5.7583e-04,\n        -5.7583e-04,         nan,         nan,         nan,         nan,\n                nan,         nan,         nan,         nan,         nan,\n                nan,         nan, -1.3024e-04, -1.3024e-04, -5.6873e-05,\n        -5.6873e-05, -2.2285e-04, -2.2285e-04, -4.4484e-04, -1.3660e-04,\n        -1.3660e-04,  2.4550e-03,  2.4550e-03, -2.0439e-04, -2.0439e-04,\n         3.9321e-04,         nan,         nan,         nan,         nan,\n                nan,  8.1115e-04,  8.1115e-04,         nan,         nan,\n         4.1201e-04,  4.1201e-04, -6.9047e-04, -6.9047e-04,         nan,\n                nan,         nan,         nan, -1.8927e-05,         nan,\n                nan,         nan,         nan,         nan,         nan,\n                nan,  8.9684e-05,  8.9684e-05,  1.3730e-04,  1.3730e-04,\n        -6.4727e-04, -6.4727e-04, -4.9087e-04, -4.9087e-04,         nan,\n        -3.0633e-04, -3.0633e-04,  5.1352e-04,  5.1352e-04,         nan,\n                nan,         nan,         nan,         nan,         nan,\n                nan,         nan,         nan,         nan, -3.5869e-05,\n        -3.5869e-05, -4.0494e-04, -4.0494e-04,  4.4397e-05,  2.0941e-04,\n         2.0941e-04,         nan,         nan,         nan,         nan,\n        -5.0829e-04, -5.0829e-04,  1.7149e-05,         nan,         nan,\n                nan,         nan,         nan,         nan,  1.5091e-03,\n         1.5091e-03,  2.5135e-04,  2.5135e-04, -1.8506e-04, -1.8506e-04,\n         3.0113e-04,  3.0113e-04,         nan, -4.3573e-04, -2.8860e-04,\n        -2.8860e-04,         nan,         nan,         nan,         nan,\n                nan,         nan,         nan,         nan, -4.7928e-05,\n        -3.9280e-04, -3.9280e-04, -6.3097e-04, -6.3097e-04,         nan,\n                nan,  1.4331e-05,  1.4331e-05,  3.4953e-04,  3.4953e-04,\n         5.5703e-06,  5.5703e-06,         nan,         nan,         nan,\n                nan,         nan,         nan,  1.4225e-03,  1.4225e-03,\n         1.2586e-04,  1.2586e-04,         nan,         nan, -3.6703e-04,\n        -3.6703e-04, -1.0049e-04,         nan,         nan,         nan,\n                nan,         nan,         nan,  1.5714e-03,  1.5714e-03,\n                nan,         nan,         nan, -1.1966e-04, -1.1966e-04,\n                nan,         nan,         nan,         nan,         nan,\n                nan,  7.1860e-04,  7.1860e-04, -1.3604e-03, -1.3604e-03,\n                nan,         nan,         nan, -8.9851e-04, -8.9851e-04,\n        -1.9175e-04,  2.9066e-04,  2.9066e-04,         nan,         nan,\n         1.1815e-03, -4.1646e-04, -4.1646e-04,         nan,         nan,\n        -1.2631e-03, -1.2631e-03,         nan,         nan,         nan,\n                nan,  1.5815e-03, -3.4208e-04, -3.4208e-04,  1.0184e-02,\n        -2.0354e-02,         nan,         nan,  0.0000e+00,  0.0000e+00,\n         0.0000e+00,  0.0000e+00,  0.0000e+00,  0.0000e+00,  0.0000e+00,\n         0.0000e+00])"
     },
     "execution_count": 5,
     "metadata": {},
     "output_type": "execute_result"
    }
   ],
   "source": [
    "# torch.dist(gradient_of_layers[0], pca_whitened_gradients[0])\n",
    "pca_whitened_gradient[0]"
   ],
   "metadata": {
    "collapsed": false,
    "ExecuteTime": {
     "end_time": "2023-12-21T00:17:13.519679164Z",
     "start_time": "2023-12-21T00:17:13.513451178Z"
    }
   },
   "id": "d74e4a85e6c0a2e7"
  }
 ],
 "metadata": {
  "kernelspec": {
   "display_name": "Python 3",
   "language": "python",
   "name": "python3"
  },
  "language_info": {
   "codemirror_mode": {
    "name": "ipython",
    "version": 2
   },
   "file_extension": ".py",
   "mimetype": "text/x-python",
   "name": "python",
   "nbconvert_exporter": "python",
   "pygments_lexer": "ipython2",
   "version": "2.7.6"
  }
 },
 "nbformat": 4,
 "nbformat_minor": 5
}
