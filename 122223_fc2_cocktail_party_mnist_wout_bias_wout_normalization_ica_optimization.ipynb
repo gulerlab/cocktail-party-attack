{
 "cells": [
  {
   "cell_type": "code",
   "execution_count": 1,
   "outputs": [],
   "source": [
    "from model import Network\n",
    "from data import load_mnist_dataloaders, WhiteningTransformation\n",
    "import torch\n",
    "import torchvision.transforms as transforms\n",
    "import torch.nn as nn\n",
    "from criterion import ReconstructImageFromFCLoss\n",
    "import numpy as np\n",
    "import matplotlib.pyplot as plt\n",
    "import matplotlib.colors as colors"
   ],
   "metadata": {
    "collapsed": false,
    "ExecuteTime": {
     "end_time": "2023-12-22T09:49:34.359691960Z",
     "start_time": "2023-12-22T09:49:32.920373092Z"
    }
   },
   "id": "42eb36ed57ad71e5"
  },
  {
   "cell_type": "code",
   "execution_count": 2,
   "id": "initial_id",
   "metadata": {
    "collapsed": true,
    "ExecuteTime": {
     "end_time": "2023-12-22T09:49:35.834337489Z",
     "start_time": "2023-12-22T09:49:35.147952147Z"
    }
   },
   "outputs": [],
   "source": [
    "# load to model\n",
    "model_config = './model_config/fc2_cocktail_party_mnist_instance.json'\n",
    "checkpoint_path = './checkpoints/122223_fc2_cocktail_party_mnist_pretraining_wout_bias_wout_normalization.pth'\n",
    "device = 'cuda' if torch.cuda.is_available() else 'cpu'\n",
    "model = Network(model_config)\n",
    "checkpoint = torch.load(checkpoint_path)\n",
    "model.load_state_dict(checkpoint['state_dict'])\n",
    "model = model.to(device)\n",
    "\n",
    "# get val loader\n",
    "batch_size = 4\n",
    "data_path = './data'\n",
    "transform = transforms.Compose([\n",
    "    transforms.ToTensor(),\n",
    "])\n",
    "\n",
    "_, val_dataloader = load_mnist_dataloaders(data_path, batch_size, transform)\n",
    "selected_val_batch_data, selected_val_batch_label = next(iter(val_dataloader))\n",
    "selected_val_batch_data = selected_val_batch_data.to(device)\n",
    "selected_val_batch_label = selected_val_batch_label.to(device)"
   ]
  },
  {
   "cell_type": "code",
   "execution_count": 3,
   "outputs": [
    {
     "name": "stdout",
     "output_type": "stream",
     "text": [
      "[torch.Size([128, 784]), torch.Size([10, 128])]\n"
     ]
    }
   ],
   "source": [
    "# receiving gradients\n",
    "model.zero_grad()\n",
    "criterion = nn.CrossEntropyLoss()\n",
    "output = model(selected_val_batch_data.reshape(batch_size, -1))\n",
    "loss = criterion(output, selected_val_batch_label)\n",
    "loss.backward()\n",
    "gradient_of_layers = []\n",
    "for param in model.parameters():\n",
    "    gradient_of_layers.append(param.grad.data.clone().to('cpu'))\n",
    "print([x.size() for x in gradient_of_layers])"
   ],
   "metadata": {
    "collapsed": false,
    "ExecuteTime": {
     "end_time": "2023-12-22T09:49:37.665771582Z",
     "start_time": "2023-12-22T09:49:36.716698853Z"
    }
   },
   "id": "9fd43b89714d7e39"
  },
  {
   "cell_type": "code",
   "execution_count": 4,
   "outputs": [],
   "source": [
    "whitening_transform = WhiteningTransformation()\n",
    "whitened_gradient = torch.from_numpy(whitening_transform.transform(gradient_of_layers[0].detach().numpy().T)).to(torch.float32).T\n",
    "whitened_gradient = whitened_gradient.to(device)"
   ],
   "metadata": {
    "collapsed": false,
    "ExecuteTime": {
     "end_time": "2023-12-22T09:49:38.900146512Z",
     "start_time": "2023-12-22T09:49:38.876852539Z"
    }
   },
   "id": "6db76726297c0ab2"
  },
  {
   "cell_type": "code",
   "execution_count": 6,
   "outputs": [
    {
     "name": "stdout",
     "output_type": "stream",
     "text": [
      "loss: 2.2811412811279297\n",
      "loss: 1.1188737154006958\n",
      "loss: 1.068575382232666\n",
      "loss: 1.0424059629440308\n",
      "loss: 1.027836799621582\n",
      "loss: 1.0188182592391968\n",
      "loss: 1.0122301578521729\n",
      "loss: 1.0075979232788086\n",
      "loss: 1.0037399530410767\n",
      "loss: 1.001481056213379\n",
      "loss: 1.0005477666854858\n",
      "loss: 1.000411033630371\n",
      "loss: 1.0004923343658447\n",
      "loss: 1.0005451440811157\n",
      "loss: 1.0005789995193481\n",
      "loss: 1.0004156827926636\n",
      "loss: 1.0003869533538818\n",
      "loss: 1.0005403757095337\n",
      "loss: 1.0003644227981567\n",
      "loss: 1.0007047653198242\n",
      "loss: 1.000399112701416\n",
      "loss: 1.0003423690795898\n",
      "loss: 1.0004998445510864\n",
      "loss: 1.0004032850265503\n",
      "loss: 1.0004643201828003\n",
      "loss: 1.000467300415039\n"
     ]
    }
   ],
   "source": [
    "# criterion output testing\n",
    "unmixing_matrix = torch.rand((selected_val_batch_data.size(0), gradient_of_layers[0].size(0)), requires_grad=True, device=device)\n",
    "reconstruction_loss = ReconstructImageFromFCLoss(28, 28, 1, 1, 1, 1)\n",
    "optimizer = torch.optim.Adam([unmixing_matrix])\n",
    "\n",
    "for iter_idx in range(25000):\n",
    "    optimizer.zero_grad()\n",
    "    # out_score, non_gaussianity_score, total_variance_score, mutual_independence_score\n",
    "    loss, _, _, _ = reconstruction_loss(unmixing_matrix, whitened_gradient)\n",
    "    loss.backward()\n",
    "    optimizer.step()\n",
    "    \n",
    "    if (iter_idx + 1) % 1000 == 0 or iter_idx == 0:\n",
    "        print('loss: {}'.format(loss.item()))"
   ],
   "metadata": {
    "collapsed": false,
    "ExecuteTime": {
     "end_time": "2023-12-22T09:50:34.388587419Z",
     "start_time": "2023-12-22T09:49:52.660502332Z"
    }
   },
   "id": "271ed464941bfd3a"
  },
  {
   "cell_type": "markdown",
   "source": [
    "## Estimated images"
   ],
   "metadata": {
    "collapsed": false
   },
   "id": "4554820f3fb44cee"
  },
  {
   "cell_type": "code",
   "outputs": [
    {
     "data": {
      "text/plain": "<Figure size 640x480 with 4 Axes>",
      "image/png": "[encoded data removed]"
     },
     "metadata": {},
     "output_type": "display_data"
    }
   ],
   "source": [
    "with torch.no_grad():\n",
    "    unmixing_matrix = unmixing_matrix.detach().to('cpu')\n",
    "    whitened_gradient = whitened_gradient.detach().to('cpu')\n",
    "    estimated_img = unmixing_matrix @ whitened_gradient\n",
    "\n",
    "    fig, axes = plt.subplots(2, 2)\n",
    "\n",
    "    for estimate, ax in zip(estimated_img, axes.flatten()):\n",
    "        img = np.squeeze(colors.Normalize()(np.asarray(estimate)).reshape(1, 28, 28).transpose(1, 2, 0))\n",
    "        ax.imshow(img, cmap='gray')\n",
    "    plt.show()"
   ],
   "metadata": {
    "collapsed": false,
    "ExecuteTime": {
     "end_time": "2023-12-22T09:53:50.126206240Z",
     "start_time": "2023-12-22T09:53:49.873969503Z"
    }
   },
   "id": "6a98f3aed5bf5ca5",
   "execution_count": 13
  },
  {
   "cell_type": "markdown",
   "source": [
    "## Original images"
   ],
   "metadata": {
    "collapsed": false
   },
   "id": "74a112c7a21e3419"
  },
  {
   "cell_type": "code",
   "outputs": [
    {
     "data": {
      "text/plain": "<Figure size 640x480 with 4 Axes>",
      "image/png": "[encoded data removed]"
     },
     "metadata": {},
     "output_type": "display_data"
    }
   ],
   "source": [
    "with torch.no_grad():\n",
    "    fig, axes = plt.subplots(2, 2)\n",
    "    \n",
    "    for estimate, ax in zip(selected_val_batch_data, axes.flatten()):\n",
    "        img = transforms.ToPILImage()(estimate.reshape(1, 28, 28))\n",
    "        img = np.asarray(img)\n",
    "        ax.imshow(img, cmap='gray')\n",
    "    plt.show()"
   ],
   "metadata": {
    "collapsed": false,
    "ExecuteTime": {
     "end_time": "2023-12-22T09:50:47.108477709Z",
     "start_time": "2023-12-22T09:50:46.920804169Z"
    }
   },
   "id": "bb0693fb75c62547",
   "execution_count": 8
  }
 ],
 "metadata": {
  "kernelspec": {
   "display_name": "Python 3",
   "language": "python",
   "name": "python3"
  },
  "language_info": {
   "codemirror_mode": {
    "name": "ipython",
    "version": 2
   },
   "file_extension": ".py",
   "mimetype": "text/x-python",
   "name": "python",
   "nbconvert_exporter": "python",
   "pygments_lexer": "ipython2",
   "version": "2.7.6"
  }
 },
 "nbformat": 4,
 "nbformat_minor": 5
}
