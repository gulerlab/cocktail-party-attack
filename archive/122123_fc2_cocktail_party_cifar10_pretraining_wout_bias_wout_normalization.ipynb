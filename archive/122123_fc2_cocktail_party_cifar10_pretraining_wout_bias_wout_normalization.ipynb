{
 "cells": [
  {
   "cell_type": "code",
   "execution_count": 1,
   "outputs": [],
   "source": [
    "from train import train_all\n",
    "from data import load_cifar10_dataloaders\n",
    "import torchvision.transforms as transforms"
   ],
   "metadata": {
    "collapsed": false,
    "ExecuteTime": {
     "end_time": "2023-12-22T01:33:01.135601056Z",
     "start_time": "2023-12-22T01:32:59.780211439Z"
    }
   },
   "id": "c6a348ba109107b5"
  },
  {
   "cell_type": "code",
   "execution_count": 5,
   "outputs": [],
   "source": [
    "batch_size = 64\n",
    "data_path = './data'\n",
    "\n",
    "model_config = './model_config/fc2_cocktail_party_instance_wout_bias.json'\n",
    "optimizer_type = 'Adam'\n",
    "learning_rate = 0.001\n",
    "criterion_type = 'CrossEntropyLoss'\n",
    "num_epochs = 20\n",
    "save_path = './checkpoints/122123_fc2_cocktail_party_cifar10_pretraining_wout_bias_wout_normalization.pth'\n",
    "save_interval = 100\n",
    "linearize = True"
   ],
   "metadata": {
    "collapsed": false,
    "ExecuteTime": {
     "end_time": "2023-12-22T01:33:25.354436423Z",
     "start_time": "2023-12-22T01:33:25.351413848Z"
    }
   },
   "id": "75b482cb3415ff10"
  },
  {
   "cell_type": "code",
   "execution_count": 3,
   "outputs": [],
   "source": [
    "transform = transforms.Compose([\n",
    "    transforms.ToTensor(),\n",
    "])"
   ],
   "metadata": {
    "collapsed": false,
    "ExecuteTime": {
     "end_time": "2023-12-22T01:33:03.339700492Z",
     "start_time": "2023-12-22T01:33:03.336918885Z"
    }
   },
   "id": "f4942066bc53047b"
  },
  {
   "cell_type": "code",
   "execution_count": 4,
   "outputs": [
    {
     "name": "stdout",
     "output_type": "stream",
     "text": [
      "Files already downloaded and verified\n",
      "Files already downloaded and verified\n"
     ]
    }
   ],
   "source": [
    "train_loader, val_loader = load_cifar10_dataloaders(data_path, batch_size, transform)"
   ],
   "metadata": {
    "collapsed": false,
    "ExecuteTime": {
     "end_time": "2023-12-22T01:33:06.733037679Z",
     "start_time": "2023-12-22T01:33:04.197166356Z"
    }
   },
   "id": "36484cfaf87561f7"
  },
  {
   "cell_type": "code",
   "execution_count": 6,
   "outputs": [
    {
     "name": "stdout",
     "output_type": "stream",
     "text": [
      "Saving model...\n",
      "epoch: 1, iter: 100/782, train_loss: 1.8963, val_loss: 1.9506, val_accuracy: 19.1338\n",
      "Saving model...\n",
      "epoch: 1, iter: 200/782, train_loss: 2.1072, val_loss: 1.8749, val_accuracy: 21.2548\n",
      "epoch: 1, iter: 300/782, train_loss: 1.7125, val_loss: 1.8650, val_accuracy: 20.4140\n",
      "Saving model...\n",
      "epoch: 1, iter: 400/782, train_loss: 1.6677, val_loss: 1.8028, val_accuracy: 22.7707\n",
      "epoch: 1, iter: 500/782, train_loss: 1.6323, val_loss: 1.8006, val_accuracy: 22.3885\n",
      "epoch: 1, iter: 600/782, train_loss: 1.9578, val_loss: 1.8033, val_accuracy: 22.5032\n",
      "Saving model...\n",
      "epoch: 1, iter: 700/782, train_loss: 1.6905, val_loss: 1.7309, val_accuracy: 24.4650\n",
      "Restoring model...\n",
      "epoch: 2, iter: 100/782, train_loss: 1.6033, val_loss: 1.7625, val_accuracy: 23.9682\n",
      "Saving model...\n",
      "epoch: 2, iter: 200/782, train_loss: 1.6979, val_loss: 1.7117, val_accuracy: 25.5924\n",
      "epoch: 2, iter: 300/782, train_loss: 1.7144, val_loss: 1.6819, val_accuracy: 25.4395\n",
      "epoch: 2, iter: 400/782, train_loss: 1.6962, val_loss: 1.6821, val_accuracy: 25.3439\n",
      "Saving model...\n",
      "epoch: 2, iter: 500/782, train_loss: 1.7656, val_loss: 1.6783, val_accuracy: 25.6497\n",
      "Saving model...\n",
      "epoch: 2, iter: 600/782, train_loss: 1.6497, val_loss: 1.6705, val_accuracy: 25.8089\n",
      "Saving model...\n",
      "epoch: 2, iter: 700/782, train_loss: 1.7219, val_loss: 1.6377, val_accuracy: 26.8344\n",
      "Restoring model...\n",
      "Saving model...\n",
      "epoch: 3, iter: 100/782, train_loss: 1.4496, val_loss: 1.6299, val_accuracy: 26.8917\n",
      "epoch: 3, iter: 200/782, train_loss: 1.9747, val_loss: 1.6552, val_accuracy: 25.9936\n",
      "epoch: 3, iter: 300/782, train_loss: 1.6386, val_loss: 1.6461, val_accuracy: 25.5924\n",
      "epoch: 3, iter: 400/782, train_loss: 1.6940, val_loss: 1.6441, val_accuracy: 26.4076\n",
      "epoch: 3, iter: 500/782, train_loss: 1.6230, val_loss: 1.6505, val_accuracy: 26.3631\n",
      "Saving model...\n",
      "epoch: 3, iter: 600/782, train_loss: 1.7266, val_loss: 1.6080, val_accuracy: 27.2229\n",
      "Saving model...\n",
      "epoch: 3, iter: 700/782, train_loss: 1.4880, val_loss: 1.5785, val_accuracy: 28.0382\n",
      "Restoring model...\n",
      "epoch: 4, iter: 100/782, train_loss: 1.8590, val_loss: 1.5858, val_accuracy: 27.5732\n",
      "epoch: 4, iter: 200/782, train_loss: 1.5682, val_loss: 1.5929, val_accuracy: 27.7452\n",
      "epoch: 4, iter: 300/782, train_loss: 1.6616, val_loss: 1.6450, val_accuracy: 26.3057\n",
      "epoch: 4, iter: 400/782, train_loss: 1.6574, val_loss: 1.5797, val_accuracy: 28.0318\n",
      "epoch: 4, iter: 500/782, train_loss: 1.6188, val_loss: 1.5973, val_accuracy: 27.0382\n",
      "epoch: 4, iter: 600/782, train_loss: 1.4472, val_loss: 1.5851, val_accuracy: 27.7898\n",
      "epoch: 4, iter: 700/782, train_loss: 1.7062, val_loss: 1.5914, val_accuracy: 27.3822\n",
      "Restoring model...\n",
      "epoch: 5, iter: 100/782, train_loss: 1.8289, val_loss: 1.6057, val_accuracy: 26.7962\n",
      "epoch: 5, iter: 200/782, train_loss: 1.7118, val_loss: 1.6027, val_accuracy: 27.3248\n",
      "epoch: 5, iter: 300/782, train_loss: 1.4350, val_loss: 1.6098, val_accuracy: 27.3057\n",
      "epoch: 5, iter: 400/782, train_loss: 1.3414, val_loss: 1.5739, val_accuracy: 28.0000\n",
      "epoch: 5, iter: 500/782, train_loss: 1.6195, val_loss: 1.5958, val_accuracy: 27.7643\n",
      "epoch: 5, iter: 600/782, train_loss: 1.7730, val_loss: 1.6089, val_accuracy: 27.4841\n",
      "epoch: 5, iter: 700/782, train_loss: 1.5423, val_loss: 1.5828, val_accuracy: 27.8280\n",
      "Restoring model...\n",
      "epoch: 6, iter: 100/782, train_loss: 1.6900, val_loss: 1.5838, val_accuracy: 27.5860\n",
      "Saving model...\n",
      "epoch: 6, iter: 200/782, train_loss: 1.6722, val_loss: 1.5764, val_accuracy: 28.2994\n",
      "epoch: 6, iter: 300/782, train_loss: 1.6401, val_loss: 1.6093, val_accuracy: 27.2611\n",
      "epoch: 6, iter: 400/782, train_loss: 1.4940, val_loss: 1.5754, val_accuracy: 27.9873\n",
      "epoch: 6, iter: 500/782, train_loss: 1.7181, val_loss: 1.6308, val_accuracy: 26.4331\n",
      "epoch: 6, iter: 600/782, train_loss: 1.5682, val_loss: 1.5696, val_accuracy: 28.0446\n",
      "epoch: 6, iter: 700/782, train_loss: 1.6664, val_loss: 1.5695, val_accuracy: 28.2357\n",
      "Restoring model...\n",
      "epoch: 7, iter: 100/782, train_loss: 1.6453, val_loss: 1.5997, val_accuracy: 27.0255\n",
      "Saving model...\n",
      "epoch: 7, iter: 200/782, train_loss: 1.6593, val_loss: 1.5666, val_accuracy: 28.3758\n",
      "epoch: 7, iter: 300/782, train_loss: 1.5030, val_loss: 1.5635, val_accuracy: 28.1783\n",
      "Saving model...\n",
      "epoch: 7, iter: 400/782, train_loss: 1.8747, val_loss: 1.5747, val_accuracy: 28.4904\n",
      "Saving model...\n",
      "epoch: 7, iter: 500/782, train_loss: 1.5484, val_loss: 1.5548, val_accuracy: 28.6051\n",
      "epoch: 7, iter: 600/782, train_loss: 1.8230, val_loss: 1.5723, val_accuracy: 28.1465\n",
      "epoch: 7, iter: 700/782, train_loss: 1.6018, val_loss: 1.5524, val_accuracy: 28.5541\n",
      "Restoring model...\n",
      "epoch: 8, iter: 100/782, train_loss: 1.4523, val_loss: 1.5689, val_accuracy: 28.0637\n",
      "epoch: 8, iter: 200/782, train_loss: 1.3035, val_loss: 1.5625, val_accuracy: 28.5478\n",
      "epoch: 8, iter: 300/782, train_loss: 1.4355, val_loss: 1.5630, val_accuracy: 28.1465\n",
      "epoch: 8, iter: 400/782, train_loss: 1.4284, val_loss: 1.5754, val_accuracy: 27.8344\n",
      "Saving model...\n",
      "epoch: 8, iter: 500/782, train_loss: 1.4814, val_loss: 1.5531, val_accuracy: 28.9427\n",
      "epoch: 8, iter: 600/782, train_loss: 1.5590, val_loss: 1.5521, val_accuracy: 28.1975\n",
      "epoch: 8, iter: 700/782, train_loss: 1.4970, val_loss: 1.5573, val_accuracy: 28.3376\n",
      "Restoring model...\n",
      "epoch: 9, iter: 100/782, train_loss: 1.6995, val_loss: 1.5834, val_accuracy: 27.6815\n",
      "epoch: 9, iter: 200/782, train_loss: 1.6090, val_loss: 1.5625, val_accuracy: 27.7325\n",
      "epoch: 9, iter: 300/782, train_loss: 1.4963, val_loss: 1.5979, val_accuracy: 27.5478\n",
      "epoch: 9, iter: 400/782, train_loss: 1.5914, val_loss: 1.5446, val_accuracy: 28.7898\n",
      "epoch: 9, iter: 500/782, train_loss: 1.3794, val_loss: 1.5594, val_accuracy: 28.3057\n",
      "epoch: 9, iter: 600/782, train_loss: 1.2776, val_loss: 1.5604, val_accuracy: 28.6433\n",
      "Saving model...\n",
      "epoch: 9, iter: 700/782, train_loss: 1.1673, val_loss: 1.5155, val_accuracy: 29.4841\n",
      "Restoring model...\n",
      "epoch: 10, iter: 100/782, train_loss: 1.4636, val_loss: 1.5686, val_accuracy: 28.0127\n",
      "epoch: 10, iter: 200/782, train_loss: 1.5046, val_loss: 1.5233, val_accuracy: 29.1338\n",
      "epoch: 10, iter: 300/782, train_loss: 1.3787, val_loss: 1.5289, val_accuracy: 28.8217\n",
      "epoch: 10, iter: 400/782, train_loss: 1.5900, val_loss: 1.5855, val_accuracy: 28.0446\n",
      "epoch: 10, iter: 500/782, train_loss: 1.4962, val_loss: 1.5521, val_accuracy: 28.4204\n",
      "epoch: 10, iter: 600/782, train_loss: 1.5660, val_loss: 1.5386, val_accuracy: 28.4076\n",
      "epoch: 10, iter: 700/782, train_loss: 1.3660, val_loss: 1.5275, val_accuracy: 28.8344\n",
      "Restoring model...\n",
      "epoch: 11, iter: 100/782, train_loss: 1.4811, val_loss: 1.5846, val_accuracy: 27.7898\n",
      "epoch: 11, iter: 200/782, train_loss: 1.6133, val_loss: 1.6120, val_accuracy: 27.2229\n",
      "epoch: 11, iter: 300/782, train_loss: 1.4505, val_loss: 1.5376, val_accuracy: 28.7643\n",
      "epoch: 11, iter: 400/782, train_loss: 1.7309, val_loss: 1.5465, val_accuracy: 28.5605\n",
      "epoch: 11, iter: 500/782, train_loss: 1.8053, val_loss: 1.5416, val_accuracy: 28.6688\n",
      "epoch: 11, iter: 600/782, train_loss: 1.6094, val_loss: 1.5611, val_accuracy: 27.9873\n",
      "epoch: 11, iter: 700/782, train_loss: 1.4226, val_loss: 1.5387, val_accuracy: 27.8025\n",
      "Restoring model...\n",
      "epoch: 12, iter: 100/782, train_loss: 1.6280, val_loss: 1.5654, val_accuracy: 28.3248\n",
      "epoch: 12, iter: 200/782, train_loss: 1.4947, val_loss: 1.5642, val_accuracy: 27.8535\n",
      "epoch: 12, iter: 300/782, train_loss: 1.5021, val_loss: 1.5569, val_accuracy: 28.0318\n",
      "epoch: 12, iter: 400/782, train_loss: 1.3992, val_loss: 1.5616, val_accuracy: 28.5732\n",
      "epoch: 12, iter: 500/782, train_loss: 1.7098, val_loss: 1.5336, val_accuracy: 28.7707\n",
      "epoch: 12, iter: 600/782, train_loss: 1.4700, val_loss: 1.5626, val_accuracy: 28.4459\n",
      "epoch: 12, iter: 700/782, train_loss: 1.6599, val_loss: 1.5310, val_accuracy: 28.9236\n",
      "Restoring model...\n",
      "epoch: 13, iter: 100/782, train_loss: 1.4497, val_loss: 1.5362, val_accuracy: 28.9363\n",
      "epoch: 13, iter: 200/782, train_loss: 1.5386, val_loss: 1.5532, val_accuracy: 28.2803\n",
      "epoch: 13, iter: 300/782, train_loss: 1.5090, val_loss: 1.5429, val_accuracy: 28.7516\n",
      "epoch: 13, iter: 400/782, train_loss: 1.6394, val_loss: 1.5690, val_accuracy: 28.4268\n",
      "Saving model...\n",
      "epoch: 13, iter: 500/782, train_loss: 1.4276, val_loss: 1.5139, val_accuracy: 29.5478\n",
      "epoch: 13, iter: 600/782, train_loss: 1.5401, val_loss: 1.5379, val_accuracy: 29.0255\n",
      "epoch: 13, iter: 700/782, train_loss: 1.5238, val_loss: 1.5445, val_accuracy: 29.1338\n",
      "Restoring model...\n",
      "epoch: 14, iter: 100/782, train_loss: 1.4048, val_loss: 1.5077, val_accuracy: 29.4076\n",
      "epoch: 14, iter: 200/782, train_loss: 1.5026, val_loss: 1.5741, val_accuracy: 27.9618\n",
      "epoch: 14, iter: 300/782, train_loss: 1.4874, val_loss: 1.5505, val_accuracy: 28.3312\n",
      "epoch: 14, iter: 400/782, train_loss: 1.4138, val_loss: 1.5379, val_accuracy: 29.0828\n",
      "epoch: 14, iter: 500/782, train_loss: 1.5241, val_loss: 1.5284, val_accuracy: 28.5669\n",
      "epoch: 14, iter: 600/782, train_loss: 1.6527, val_loss: 1.5423, val_accuracy: 28.4013\n",
      "epoch: 14, iter: 700/782, train_loss: 1.5328, val_loss: 1.5288, val_accuracy: 29.3758\n",
      "Restoring model...\n",
      "epoch: 15, iter: 100/782, train_loss: 1.5180, val_loss: 1.5495, val_accuracy: 28.2166\n",
      "epoch: 15, iter: 200/782, train_loss: 1.3960, val_loss: 1.5244, val_accuracy: 29.2166\n",
      "epoch: 15, iter: 300/782, train_loss: 1.6498, val_loss: 1.5835, val_accuracy: 28.1465\n",
      "epoch: 15, iter: 400/782, train_loss: 1.5129, val_loss: 1.5371, val_accuracy: 28.9363\n",
      "Saving model...\n",
      "epoch: 15, iter: 500/782, train_loss: 1.4160, val_loss: 1.4958, val_accuracy: 30.0764\n",
      "epoch: 15, iter: 600/782, train_loss: 1.5275, val_loss: 1.5257, val_accuracy: 29.2293\n",
      "epoch: 15, iter: 700/782, train_loss: 1.3222, val_loss: 1.5125, val_accuracy: 29.1847\n",
      "Restoring model...\n",
      "epoch: 16, iter: 100/782, train_loss: 1.4693, val_loss: 1.5079, val_accuracy: 29.6815\n",
      "epoch: 16, iter: 200/782, train_loss: 1.3594, val_loss: 1.5532, val_accuracy: 28.4968\n",
      "epoch: 16, iter: 300/782, train_loss: 1.5855, val_loss: 1.5152, val_accuracy: 29.2930\n",
      "epoch: 16, iter: 400/782, train_loss: 1.2186, val_loss: 1.5214, val_accuracy: 29.2038\n",
      "epoch: 16, iter: 500/782, train_loss: 1.4992, val_loss: 1.5264, val_accuracy: 29.0637\n",
      "epoch: 16, iter: 600/782, train_loss: 1.2100, val_loss: 1.5024, val_accuracy: 29.7516\n",
      "epoch: 16, iter: 700/782, train_loss: 1.6276, val_loss: 1.5127, val_accuracy: 30.0064\n",
      "Restoring model...\n",
      "epoch: 17, iter: 100/782, train_loss: 1.5684, val_loss: 1.5530, val_accuracy: 28.7070\n",
      "epoch: 17, iter: 200/782, train_loss: 1.4268, val_loss: 1.5281, val_accuracy: 29.0255\n",
      "epoch: 17, iter: 300/782, train_loss: 1.5103, val_loss: 1.5435, val_accuracy: 28.2739\n",
      "epoch: 17, iter: 400/782, train_loss: 1.7161, val_loss: 1.5354, val_accuracy: 29.0828\n",
      "epoch: 17, iter: 500/782, train_loss: 1.5609, val_loss: 1.5218, val_accuracy: 29.2994\n",
      "epoch: 17, iter: 600/782, train_loss: 1.4434, val_loss: 1.5239, val_accuracy: 29.3822\n",
      "epoch: 17, iter: 700/782, train_loss: 1.5465, val_loss: 1.5124, val_accuracy: 29.3949\n",
      "Restoring model...\n",
      "epoch: 18, iter: 100/782, train_loss: 1.4101, val_loss: 1.5774, val_accuracy: 28.2484\n",
      "epoch: 18, iter: 200/782, train_loss: 1.3290, val_loss: 1.5349, val_accuracy: 29.4140\n",
      "epoch: 18, iter: 300/782, train_loss: 1.8748, val_loss: 1.5660, val_accuracy: 28.4076\n",
      "epoch: 18, iter: 400/782, train_loss: 1.4146, val_loss: 1.5478, val_accuracy: 28.5669\n",
      "epoch: 18, iter: 500/782, train_loss: 1.2426, val_loss: 1.5201, val_accuracy: 29.2611\n",
      "epoch: 18, iter: 600/782, train_loss: 1.6996, val_loss: 1.5759, val_accuracy: 27.7962\n",
      "epoch: 18, iter: 700/782, train_loss: 1.4081, val_loss: 1.5342, val_accuracy: 29.3185\n",
      "Restoring model...\n",
      "epoch: 19, iter: 100/782, train_loss: 1.2939, val_loss: 1.5535, val_accuracy: 28.2484\n",
      "epoch: 19, iter: 200/782, train_loss: 1.6252, val_loss: 1.5570, val_accuracy: 28.6561\n",
      "epoch: 19, iter: 300/782, train_loss: 1.3741, val_loss: 1.5479, val_accuracy: 28.7580\n",
      "epoch: 19, iter: 400/782, train_loss: 1.5114, val_loss: 1.5002, val_accuracy: 29.7580\n",
      "epoch: 19, iter: 500/782, train_loss: 1.6094, val_loss: 1.5016, val_accuracy: 29.8726\n",
      "epoch: 19, iter: 600/782, train_loss: 1.4718, val_loss: 1.5050, val_accuracy: 29.4140\n",
      "epoch: 19, iter: 700/782, train_loss: 1.5237, val_loss: 1.5179, val_accuracy: 29.5223\n",
      "Restoring model...\n",
      "epoch: 20, iter: 100/782, train_loss: 1.5261, val_loss: 1.5377, val_accuracy: 28.8217\n",
      "epoch: 20, iter: 200/782, train_loss: 1.4708, val_loss: 1.5473, val_accuracy: 28.3949\n",
      "epoch: 20, iter: 300/782, train_loss: 1.4250, val_loss: 1.5439, val_accuracy: 28.5223\n",
      "epoch: 20, iter: 400/782, train_loss: 1.3170, val_loss: 1.5219, val_accuracy: 29.3439\n",
      "epoch: 20, iter: 500/782, train_loss: 1.2780, val_loss: 1.5184, val_accuracy: 29.3567\n",
      "epoch: 20, iter: 600/782, train_loss: 1.6804, val_loss: 1.4997, val_accuracy: 29.6242\n",
      "epoch: 20, iter: 700/782, train_loss: 1.4562, val_loss: 1.5111, val_accuracy: 29.6051\n",
      "Training log is saved to ./checkpoints/122123_fc2_cocktail_party_cifar10_pretraining_wout_bias_without_normalization.pth\n"
     ]
    }
   ],
   "source": [
    "train_loss_arr, val_loss_arr, val_accuracy_arr = train_all(model_config, optimizer_type, learning_rate, criterion_type, num_epochs, train_loader, val_loader=val_loader, save_path=save_path, save_interval=save_interval, linearize=linearize)"
   ],
   "metadata": {
    "collapsed": false,
    "ExecuteTime": {
     "end_time": "2023-12-22T01:35:14.356694319Z",
     "start_time": "2023-12-22T01:33:27.833505505Z"
    }
   },
   "id": "12439c4eb3573f2d"
  }
 ],
 "metadata": {
  "kernelspec": {
   "display_name": "Python 3",
   "language": "python",
   "name": "python3"
  },
  "language_info": {
   "codemirror_mode": {
    "name": "ipython",
    "version": 2
   },
   "file_extension": ".py",
   "mimetype": "text/x-python",
   "name": "python",
   "nbconvert_exporter": "python",
   "pygments_lexer": "ipython2",
   "version": "2.7.6"
  }
 },
 "nbformat": 4,
 "nbformat_minor": 5
}
