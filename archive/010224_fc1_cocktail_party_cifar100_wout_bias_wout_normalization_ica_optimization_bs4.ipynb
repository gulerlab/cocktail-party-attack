{
 "cells": [
  {
   "cell_type": "code",
   "execution_count": 1,
   "outputs": [],
   "source": [
    "from model import Network\n",
    "from data import load_cifar100_dataloaders, WhiteningTransformation\n",
    "import torch\n",
    "import torchvision.transforms as transforms\n",
    "import torch.nn as nn\n",
    "from criterion import ReconstructImageFromFCLoss\n",
    "import numpy as np\n",
    "import matplotlib.pyplot as plt\n",
    "import matplotlib.colors as colors\n",
    "from metrics import lpips_gpu, psnr\n",
    "\n",
    "# reproducibility\n",
    "random_seed = 2024\n",
    "\n",
    "torch.manual_seed(random_seed)\n",
    "torch.cuda.manual_seed(random_seed)\n",
    "torch.backends.cudnn.deterministic = True\n",
    "torch.backends.cudnn.benchmark = False\n",
    "\n",
    "np.random.seed(random_seed)"
   ],
   "metadata": {
    "collapsed": false,
    "ExecuteTime": {
     "end_time": "2024-01-02T23:21:03.384321011Z",
     "start_time": "2024-01-02T23:21:02.322641654Z"
    }
   },
   "id": "42eb36ed57ad71e5"
  },
  {
   "cell_type": "code",
   "execution_count": 2,
   "id": "initial_id",
   "metadata": {
    "collapsed": true,
    "ExecuteTime": {
     "end_time": "2024-01-02T23:21:07.357637197Z",
     "start_time": "2024-01-02T23:21:05.577282307Z"
    }
   },
   "outputs": [
    {
     "name": "stdout",
     "output_type": "stream",
     "text": [
      "Files already downloaded and verified\n",
      "Files already downloaded and verified\n"
     ]
    }
   ],
   "source": [
    "# load to model\n",
    "model_config = './model_config/fc1_cocktail_party_cifar100_instance.json'\n",
    "checkpoint_path = './checkpoints/010224_fc1_cocktail_party_cifar100_pretraining_wout_bias_wout_normalization.pth'\n",
    "device = 'cuda' if torch.cuda.is_available() else 'cpu'\n",
    "model = Network(model_config)\n",
    "checkpoint = torch.load(checkpoint_path)\n",
    "model.load_state_dict(checkpoint['state_dict'])\n",
    "model = model.to(device)\n",
    "\n",
    "# get val loader\n",
    "batch_size = 4\n",
    "data_path = './data'\n",
    "transform = transforms.Compose([\n",
    "    transforms.ToTensor(),\n",
    "])\n",
    "\n",
    "_, val_dataloader = load_cifar100_dataloaders(data_path, batch_size, transform)\n",
    "selected_val_batch_data, selected_val_batch_label = next(iter(val_dataloader))\n",
    "selected_val_batch_data = selected_val_batch_data.to(device)\n",
    "selected_val_batch_label = selected_val_batch_label.to(device)"
   ]
  },
  {
   "cell_type": "code",
   "outputs": [
    {
     "data": {
      "text/plain": "<Figure size 640x480 with 4 Axes>",
      "image/png": "[encoded data removed]"
     },
     "metadata": {},
     "output_type": "display_data"
    }
   ],
   "source": [
    "with torch.no_grad():\n",
    "    fig, axes = plt.subplots(2, 2)\n",
    "    \n",
    "    for estimate, ax in zip(selected_val_batch_data, axes.flatten()):\n",
    "        img = transforms.ToPILImage()(estimate.reshape(3, 32, 32))\n",
    "        img = np.asarray(img)\n",
    "        ax.imshow(img)\n",
    "        ax.axis('off')\n",
    "    plt.show()"
   ],
   "metadata": {
    "collapsed": false,
    "ExecuteTime": {
     "end_time": "2024-01-02T23:21:08.323282763Z",
     "start_time": "2024-01-02T23:21:08.261093540Z"
    }
   },
   "id": "70a3f06c713c2273",
   "execution_count": 3
  },
  {
   "cell_type": "code",
   "execution_count": 4,
   "outputs": [
    {
     "name": "stdout",
     "output_type": "stream",
     "text": [
      "[torch.Size([100, 3072])]\n"
     ]
    }
   ],
   "source": [
    "# receiving gradients\n",
    "model.zero_grad()\n",
    "criterion = nn.CrossEntropyLoss()\n",
    "output = model(selected_val_batch_data.reshape(batch_size, -1))\n",
    "loss = criterion(output, selected_val_batch_label)\n",
    "loss.backward()\n",
    "gradient_of_layers = []\n",
    "for param in model.parameters():\n",
    "    gradient_of_layers.append(param.grad.data.clone().to('cpu'))\n",
    "print([x.size() for x in gradient_of_layers])"
   ],
   "metadata": {
    "collapsed": false,
    "ExecuteTime": {
     "end_time": "2024-01-02T23:21:10.245525452Z",
     "start_time": "2024-01-02T23:21:09.406474935Z"
    }
   },
   "id": "9fd43b89714d7e39"
  },
  {
   "cell_type": "code",
   "execution_count": 5,
   "outputs": [],
   "source": [
    "whitening_transform = WhiteningTransformation()\n",
    "whitened_gradient = torch.from_numpy(whitening_transform.transform(gradient_of_layers[0].detach().numpy().T)).to(torch.float32).T\n",
    "whitened_gradient = whitened_gradient.to(device)"
   ],
   "metadata": {
    "collapsed": false,
    "ExecuteTime": {
     "end_time": "2024-01-02T23:21:12.092229862Z",
     "start_time": "2024-01-02T23:21:11.209311170Z"
    }
   },
   "id": "6db76726297c0ab2"
  },
  {
   "cell_type": "code",
   "execution_count": 6,
   "outputs": [
    {
     "name": "stdout",
     "output_type": "stream",
     "text": [
      "loss: 9.12340259552002\n",
      "loss: 5.319289684295654\n",
      "loss: 5.018608570098877\n",
      "loss: 4.980557918548584\n",
      "loss: 4.9662604331970215\n",
      "loss: 4.959848403930664\n",
      "loss: 4.952165603637695\n",
      "loss: 4.943779945373535\n",
      "loss: 4.946646690368652\n",
      "loss: 4.93794584274292\n",
      "loss: 4.9416913986206055\n",
      "loss: 4.938108444213867\n",
      "loss: 4.94164514541626\n",
      "loss: 4.943896293640137\n",
      "loss: 4.937079906463623\n",
      "loss: 4.940090179443359\n",
      "loss: 4.937854290008545\n",
      "loss: 4.937510013580322\n",
      "loss: 4.934769630432129\n",
      "loss: 4.938965797424316\n",
      "loss: 4.930438995361328\n",
      "loss: 4.935668468475342\n",
      "loss: 4.934826374053955\n",
      "loss: 4.936361312866211\n",
      "loss: 4.933902740478516\n",
      "loss: 4.9316582679748535\n"
     ]
    }
   ],
   "source": [
    "# criterion output testing\n",
    "unmixing_matrix = torch.rand((selected_val_batch_data.size(0), gradient_of_layers[0].size(0)), requires_grad=True, device=device)\n",
    "reconstruction_loss = ReconstructImageFromFCLoss(32, 32, 3, 0.5268346884538906, 7.415861546208221, 4.910887792883931)\n",
    "optimizer = torch.optim.Adam([unmixing_matrix])\n",
    "\n",
    "for iter_idx in range(25000):\n",
    "    optimizer.zero_grad()\n",
    "    # out_score, non_gaussianity_score, total_variance_score, mutual_independence_score\n",
    "    loss, _, _, _ = reconstruction_loss(unmixing_matrix, whitened_gradient)\n",
    "    loss.backward()\n",
    "    optimizer.step()\n",
    "    \n",
    "    if (iter_idx + 1) % 1000 == 0 or iter_idx == 0:\n",
    "        print('loss: {}'.format(loss.item()))"
   ],
   "metadata": {
    "collapsed": false,
    "ExecuteTime": {
     "end_time": "2024-01-02T23:21:50.548151801Z",
     "start_time": "2024-01-02T23:21:12.895786963Z"
    }
   },
   "id": "271ed464941bfd3a"
  },
  {
   "cell_type": "code",
   "outputs": [],
   "source": [
    "unmixing_matrix = unmixing_matrix.detach().to('cpu')\n",
    "whitened_gradient = whitened_gradient.detach().to('cpu')"
   ],
   "metadata": {
    "collapsed": false,
    "ExecuteTime": {
     "end_time": "2024-01-02T23:21:52.423929066Z",
     "start_time": "2024-01-02T23:21:52.419025495Z"
    }
   },
   "id": "b0b41e7f681b30a2",
   "execution_count": 7
  },
  {
   "cell_type": "markdown",
   "source": [
    "## PSNR Values"
   ],
   "metadata": {
    "collapsed": false
   },
   "id": "1e6b1d6d0732f39d"
  },
  {
   "cell_type": "code",
   "outputs": [],
   "source": [
    "with torch.no_grad():\n",
    "    psnr_match, psnr_is_positive, mean_psnr = psnr(unmixing_matrix @ whitened_gradient, selected_val_batch_data.detach().to('cpu'), return_matches=True)"
   ],
   "metadata": {
    "collapsed": false,
    "ExecuteTime": {
     "end_time": "2024-01-02T23:21:53.919400279Z",
     "start_time": "2024-01-02T23:21:53.897608116Z"
    }
   },
   "id": "fbc0d8071ae95c9c",
   "execution_count": 8
  },
  {
   "cell_type": "code",
   "outputs": [
    {
     "data": {
      "text/plain": "[tensor([0, 0]), tensor([3, 1]), tensor([1, 3]), tensor([2, 2])]"
     },
     "execution_count": 9,
     "metadata": {},
     "output_type": "execute_result"
    }
   ],
   "source": [
    "psnr_match"
   ],
   "metadata": {
    "collapsed": false,
    "ExecuteTime": {
     "end_time": "2024-01-02T23:21:54.857787164Z",
     "start_time": "2024-01-02T23:21:54.854366145Z"
    }
   },
   "id": "a570a0ea38ed4d86",
   "execution_count": 9
  },
  {
   "cell_type": "code",
   "outputs": [
    {
     "data": {
      "text/plain": "8.277947068214417"
     },
     "execution_count": 10,
     "metadata": {},
     "output_type": "execute_result"
    }
   ],
   "source": [
    "mean_psnr"
   ],
   "metadata": {
    "collapsed": false,
    "ExecuteTime": {
     "end_time": "2024-01-02T23:21:55.640303040Z",
     "start_time": "2024-01-02T23:21:55.636916339Z"
    }
   },
   "id": "5610d401f9f94491",
   "execution_count": 10
  },
  {
   "cell_type": "code",
   "outputs": [
    {
     "data": {
      "text/plain": "[True, True, False, False]"
     },
     "execution_count": 11,
     "metadata": {},
     "output_type": "execute_result"
    }
   ],
   "source": [
    "psnr_is_positive"
   ],
   "metadata": {
    "collapsed": false,
    "ExecuteTime": {
     "end_time": "2024-01-02T23:21:56.392132831Z",
     "start_time": "2024-01-02T23:21:56.390096511Z"
    }
   },
   "id": "a2ea419c5ef06c82",
   "execution_count": 11
  },
  {
   "cell_type": "markdown",
   "source": [
    "## LPIPS"
   ],
   "metadata": {
    "collapsed": false
   },
   "id": "1aebdd6329ae8ecd"
  },
  {
   "cell_type": "code",
   "outputs": [],
   "source": [
    "with torch.no_grad():\n",
    "    lpips_match, lpips_is_positive, mean_lpips = lpips_gpu(unmixing_matrix @ whitened_gradient, selected_val_batch_data.detach().to('cpu'), return_matches=True)"
   ],
   "metadata": {
    "collapsed": false,
    "ExecuteTime": {
     "end_time": "2024-01-02T23:22:00.465190436Z",
     "start_time": "2024-01-02T23:21:57.724562904Z"
    }
   },
   "id": "74d2ffda28c9a17e",
   "execution_count": 12
  },
  {
   "cell_type": "code",
   "outputs": [
    {
     "data": {
      "text/plain": "[tensor([2, 3]), tensor([1, 0]), tensor([0, 1]), tensor([3, 2])]"
     },
     "execution_count": 13,
     "metadata": {},
     "output_type": "execute_result"
    }
   ],
   "source": [
    "lpips_match"
   ],
   "metadata": {
    "collapsed": false,
    "ExecuteTime": {
     "end_time": "2024-01-02T23:22:02.562691068Z",
     "start_time": "2024-01-02T23:22:02.559470882Z"
    }
   },
   "id": "3ff5e7c23781808c",
   "execution_count": 13
  },
  {
   "cell_type": "code",
   "outputs": [
    {
     "data": {
      "text/plain": "0.048199860379099846"
     },
     "execution_count": 14,
     "metadata": {},
     "output_type": "execute_result"
    }
   ],
   "source": [
    "mean_lpips"
   ],
   "metadata": {
    "collapsed": false,
    "ExecuteTime": {
     "end_time": "2024-01-02T23:22:03.449061728Z",
     "start_time": "2024-01-02T23:22:03.446112882Z"
    }
   },
   "id": "2fdd5f0377a60586",
   "execution_count": 14
  },
  {
   "cell_type": "code",
   "outputs": [
    {
     "data": {
      "text/plain": "[True, True, False, False]"
     },
     "execution_count": 15,
     "metadata": {},
     "output_type": "execute_result"
    }
   ],
   "source": [
    "lpips_is_positive"
   ],
   "metadata": {
    "collapsed": false,
    "ExecuteTime": {
     "end_time": "2024-01-02T23:22:04.458624601Z",
     "start_time": "2024-01-02T23:22:04.455700232Z"
    }
   },
   "id": "1d76dd61fe863d10",
   "execution_count": 15
  },
  {
   "cell_type": "markdown",
   "source": [
    "## Estimated images"
   ],
   "metadata": {
    "collapsed": false
   },
   "id": "4554820f3fb44cee"
  },
  {
   "cell_type": "code",
   "outputs": [
    {
     "data": {
      "text/plain": "<Figure size 640x480 with 4 Axes>",
      "image/png": "[encoded data removed]"
     },
     "metadata": {},
     "output_type": "display_data"
    }
   ],
   "source": [
    "with torch.no_grad():\n",
    "    estimated_img = (unmixing_matrix @ whitened_gradient)\n",
    "    \n",
    "    fig, axes = plt.subplots(2, 2)\n",
    "    \n",
    "    for estimate_idx, (estimate, ax) in enumerate(zip(estimated_img, axes.flatten())):\n",
    "        estimate_coeff = 1 if lpips_is_positive[lpips_match[estimate_idx][0].item()] else -1\n",
    "        img = colors.Normalize()(np.asarray(estimate_coeff * estimate).reshape(3, 32, 32).transpose(1, 2, 0))\n",
    "        ax.imshow(img)\n",
    "        ax.axis('off')\n",
    "    plt.show()"
   ],
   "metadata": {
    "collapsed": false,
    "ExecuteTime": {
     "end_time": "2024-01-02T23:22:06.142316178Z",
     "start_time": "2024-01-02T23:22:06.020537346Z"
    }
   },
   "id": "6a98f3aed5bf5ca5",
   "execution_count": 16
  },
  {
   "cell_type": "markdown",
   "source": [
    "## Original images"
   ],
   "metadata": {
    "collapsed": false
   },
   "id": "74a112c7a21e3419"
  },
  {
   "cell_type": "code",
   "outputs": [
    {
     "data": {
      "text/plain": "<Figure size 640x480 with 4 Axes>",
      "image/png": "[encoded data removed]"
     },
     "metadata": {},
     "output_type": "display_data"
    }
   ],
   "source": [
    "with torch.no_grad():\n",
    "    fig, axes = plt.subplots(2, 2)\n",
    "    \n",
    "    for estimate, ax in zip(selected_val_batch_data, axes.flatten()):\n",
    "        img = transforms.ToPILImage()(estimate.reshape(3, 32, 32))\n",
    "        img = np.asarray(img)\n",
    "        ax.imshow(img)\n",
    "        ax.axis('off')\n",
    "    plt.show()"
   ],
   "metadata": {
    "collapsed": false,
    "ExecuteTime": {
     "end_time": "2024-01-02T23:22:09.506325940Z",
     "start_time": "2024-01-02T23:22:09.480029495Z"
    }
   },
   "id": "bb0693fb75c62547",
   "execution_count": 17
  }
 ],
 "metadata": {
  "kernelspec": {
   "display_name": "Python 3",
   "language": "python",
   "name": "python3"
  },
  "language_info": {
   "codemirror_mode": {
    "name": "ipython",
    "version": 2
   },
   "file_extension": ".py",
   "mimetype": "text/x-python",
   "name": "python",
   "nbconvert_exporter": "python",
   "pygments_lexer": "ipython2",
   "version": "2.7.6"
  }
 },
 "nbformat": 4,
 "nbformat_minor": 5
}
