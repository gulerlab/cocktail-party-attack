{
 "cells": [
  {
   "cell_type": "code",
   "execution_count": 8,
   "outputs": [],
   "source": [
    "from train import train_all\n",
    "from data import load_cifar10_dataloaders\n",
    "import torchvision.transforms as transforms"
   ],
   "metadata": {
    "collapsed": false,
    "ExecuteTime": {
     "end_time": "2023-12-22T02:26:42.092508046Z",
     "start_time": "2023-12-22T02:26:42.050319725Z"
    }
   },
   "id": "c6a348ba109107b5"
  },
  {
   "cell_type": "code",
   "execution_count": 9,
   "outputs": [],
   "source": [
    "batch_size = 64\n",
    "data_path = './data'\n",
    "\n",
    "model_config = './model_config/fc1_cocktail_party_cifar10_instance.json'\n",
    "optimizer_type = 'Adam'\n",
    "learning_rate = 0.001\n",
    "criterion_type = 'CrossEntropyLoss'\n",
    "num_epochs = 20\n",
    "save_path = './checkpoints/122123_fc1_cocktail_party_cifar10_pretraining_wout_bias_without_normalization.pth'\n",
    "save_interval = 100\n",
    "linearize = True"
   ],
   "metadata": {
    "collapsed": false,
    "ExecuteTime": {
     "end_time": "2023-12-22T02:26:42.712166446Z",
     "start_time": "2023-12-22T02:26:42.709647910Z"
    }
   },
   "id": "75b482cb3415ff10"
  },
  {
   "cell_type": "code",
   "execution_count": 10,
   "outputs": [],
   "source": [
    "transform = transforms.Compose([\n",
    "    transforms.ToTensor(),\n",
    "])"
   ],
   "metadata": {
    "collapsed": false,
    "ExecuteTime": {
     "end_time": "2023-12-22T02:26:43.486513519Z",
     "start_time": "2023-12-22T02:26:43.484247974Z"
    }
   },
   "id": "f4942066bc53047b"
  },
  {
   "cell_type": "code",
   "execution_count": 11,
   "outputs": [
    {
     "name": "stdout",
     "output_type": "stream",
     "text": [
      "Files already downloaded and verified\n",
      "Files already downloaded and verified\n"
     ]
    }
   ],
   "source": [
    "train_loader, val_loader = load_cifar10_dataloaders(data_path, batch_size, transform)"
   ],
   "metadata": {
    "collapsed": false,
    "ExecuteTime": {
     "end_time": "2023-12-22T02:26:45.187976290Z",
     "start_time": "2023-12-22T02:26:44.189957632Z"
    }
   },
   "id": "36484cfaf87561f7"
  },
  {
   "cell_type": "code",
   "execution_count": 12,
   "outputs": [
    {
     "name": "stdout",
     "output_type": "stream",
     "text": [
      "Saving model...\n",
      "epoch: 1, iter: 100/782, train_loss: 2.1041, val_loss: 2.0769, val_accuracy: 16.2739\n",
      "Saving model...\n",
      "epoch: 1, iter: 200/782, train_loss: 2.1050, val_loss: 1.9181, val_accuracy: 21.1019\n",
      "epoch: 1, iter: 300/782, train_loss: 1.8872, val_loss: 1.9317, val_accuracy: 19.3949\n",
      "epoch: 1, iter: 400/782, train_loss: 2.0087, val_loss: 1.9210, val_accuracy: 19.8854\n",
      "Saving model...\n",
      "epoch: 1, iter: 500/782, train_loss: 1.6998, val_loss: 1.9667, val_accuracy: 21.5796\n",
      "epoch: 1, iter: 600/782, train_loss: 1.9958, val_loss: 1.8795, val_accuracy: 21.4968\n",
      "Saving model...\n",
      "epoch: 1, iter: 700/782, train_loss: 1.7882, val_loss: 1.8769, val_accuracy: 21.9427\n",
      "Restoring model...\n",
      "epoch: 2, iter: 100/782, train_loss: 1.6716, val_loss: 1.8690, val_accuracy: 21.7898\n",
      "epoch: 2, iter: 200/782, train_loss: 1.7712, val_loss: 1.8976, val_accuracy: 21.1401\n",
      "epoch: 2, iter: 300/782, train_loss: 1.9369, val_loss: 1.8841, val_accuracy: 21.6369\n",
      "Saving model...\n",
      "epoch: 2, iter: 400/782, train_loss: 1.8618, val_loss: 1.8579, val_accuracy: 22.0637\n",
      "Saving model...\n",
      "epoch: 2, iter: 500/782, train_loss: 1.9097, val_loss: 1.8128, val_accuracy: 23.3057\n",
      "Saving model...\n",
      "epoch: 2, iter: 600/782, train_loss: 1.6552, val_loss: 1.7933, val_accuracy: 23.9618\n",
      "epoch: 2, iter: 700/782, train_loss: 2.0529, val_loss: 1.8263, val_accuracy: 23.3503\n",
      "Restoring model...\n",
      "epoch: 3, iter: 100/782, train_loss: 1.8161, val_loss: 1.8612, val_accuracy: 22.9936\n",
      "epoch: 3, iter: 200/782, train_loss: 1.9759, val_loss: 1.8490, val_accuracy: 22.5541\n",
      "epoch: 3, iter: 300/782, train_loss: 1.7214, val_loss: 1.8306, val_accuracy: 22.3376\n",
      "epoch: 3, iter: 400/782, train_loss: 1.9447, val_loss: 1.8584, val_accuracy: 22.3121\n",
      "epoch: 3, iter: 500/782, train_loss: 1.9373, val_loss: 1.7931, val_accuracy: 23.8599\n",
      "epoch: 3, iter: 600/782, train_loss: 2.0941, val_loss: 1.8432, val_accuracy: 22.7070\n",
      "epoch: 3, iter: 700/782, train_loss: 1.7724, val_loss: 1.8163, val_accuracy: 23.1911\n",
      "Restoring model...\n",
      "epoch: 4, iter: 100/782, train_loss: 1.8345, val_loss: 1.9080, val_accuracy: 21.6306\n",
      "epoch: 4, iter: 200/782, train_loss: 1.7358, val_loss: 1.8363, val_accuracy: 22.0955\n",
      "epoch: 4, iter: 300/782, train_loss: 2.1636, val_loss: 1.8344, val_accuracy: 22.1210\n",
      "epoch: 4, iter: 400/782, train_loss: 1.8870, val_loss: 1.9061, val_accuracy: 20.6879\n",
      "epoch: 4, iter: 500/782, train_loss: 2.0708, val_loss: 1.8435, val_accuracy: 22.2420\n",
      "epoch: 4, iter: 600/782, train_loss: 1.7110, val_loss: 1.8345, val_accuracy: 22.9873\n",
      "epoch: 4, iter: 700/782, train_loss: 1.9726, val_loss: 1.7811, val_accuracy: 23.8217\n",
      "Restoring model...\n",
      "epoch: 5, iter: 100/782, train_loss: 1.8489, val_loss: 1.8721, val_accuracy: 21.7452\n",
      "epoch: 5, iter: 200/782, train_loss: 1.8378, val_loss: 1.8575, val_accuracy: 21.5605\n",
      "epoch: 5, iter: 300/782, train_loss: 1.7616, val_loss: 1.8186, val_accuracy: 23.7962\n",
      "epoch: 5, iter: 400/782, train_loss: 1.8810, val_loss: 1.9048, val_accuracy: 21.2611\n",
      "epoch: 5, iter: 500/782, train_loss: 1.8451, val_loss: 1.8223, val_accuracy: 22.7389\n",
      "epoch: 5, iter: 600/782, train_loss: 2.1442, val_loss: 1.8393, val_accuracy: 23.1401\n",
      "epoch: 5, iter: 700/782, train_loss: 1.8574, val_loss: 1.8762, val_accuracy: 22.5096\n",
      "Restoring model...\n",
      "epoch: 6, iter: 100/782, train_loss: 2.0436, val_loss: 1.8676, val_accuracy: 21.8790\n",
      "epoch: 6, iter: 200/782, train_loss: 1.8429, val_loss: 1.9021, val_accuracy: 22.6433\n",
      "epoch: 6, iter: 300/782, train_loss: 1.7940, val_loss: 1.9400, val_accuracy: 20.8790\n",
      "epoch: 6, iter: 400/782, train_loss: 1.7673, val_loss: 1.8181, val_accuracy: 23.0573\n",
      "epoch: 6, iter: 500/782, train_loss: 1.8635, val_loss: 1.9663, val_accuracy: 21.6752\n",
      "epoch: 6, iter: 600/782, train_loss: 1.6148, val_loss: 1.8678, val_accuracy: 21.7643\n",
      "epoch: 6, iter: 700/782, train_loss: 1.6159, val_loss: 1.8606, val_accuracy: 22.7962\n",
      "Restoring model...\n",
      "epoch: 7, iter: 100/782, train_loss: 1.9519, val_loss: 1.8092, val_accuracy: 23.7707\n",
      "epoch: 7, iter: 200/782, train_loss: 1.9298, val_loss: 1.8574, val_accuracy: 21.9236\n",
      "Saving model...\n",
      "epoch: 7, iter: 300/782, train_loss: 1.7906, val_loss: 1.7936, val_accuracy: 24.1146\n",
      "epoch: 7, iter: 400/782, train_loss: 1.8468, val_loss: 1.8185, val_accuracy: 23.2994\n",
      "epoch: 7, iter: 500/782, train_loss: 1.6849, val_loss: 1.8363, val_accuracy: 22.5287\n",
      "epoch: 7, iter: 600/782, train_loss: 1.8166, val_loss: 1.7917, val_accuracy: 23.4268\n",
      "epoch: 7, iter: 700/782, train_loss: 1.9041, val_loss: 1.8167, val_accuracy: 23.9427\n",
      "Restoring model...\n",
      "epoch: 8, iter: 100/782, train_loss: 1.6472, val_loss: 1.8499, val_accuracy: 22.3631\n",
      "epoch: 8, iter: 200/782, train_loss: 2.0163, val_loss: 1.8813, val_accuracy: 22.3631\n",
      "epoch: 8, iter: 300/782, train_loss: 1.8152, val_loss: 1.8313, val_accuracy: 21.9427\n",
      "epoch: 8, iter: 400/782, train_loss: 1.6039, val_loss: 1.7826, val_accuracy: 23.8599\n",
      "epoch: 8, iter: 500/782, train_loss: 1.6538, val_loss: 1.8859, val_accuracy: 23.3503\n",
      "epoch: 8, iter: 600/782, train_loss: 1.4813, val_loss: 1.7895, val_accuracy: 23.4076\n",
      "epoch: 8, iter: 700/782, train_loss: 1.4958, val_loss: 1.8700, val_accuracy: 21.7898\n",
      "Restoring model...\n",
      "epoch: 9, iter: 100/782, train_loss: 1.9446, val_loss: 1.8803, val_accuracy: 22.0191\n",
      "epoch: 9, iter: 200/782, train_loss: 1.9025, val_loss: 1.8391, val_accuracy: 22.2548\n",
      "epoch: 9, iter: 300/782, train_loss: 1.7366, val_loss: 1.8662, val_accuracy: 23.1146\n",
      "Saving model...\n",
      "epoch: 9, iter: 400/782, train_loss: 1.7436, val_loss: 1.7926, val_accuracy: 24.1210\n",
      "epoch: 9, iter: 500/782, train_loss: 1.5972, val_loss: 1.8872, val_accuracy: 20.8535\n",
      "epoch: 9, iter: 600/782, train_loss: 1.9361, val_loss: 1.8317, val_accuracy: 23.0828\n",
      "epoch: 9, iter: 700/782, train_loss: 1.8054, val_loss: 1.8116, val_accuracy: 23.5860\n",
      "Restoring model...\n",
      "Saving model...\n",
      "epoch: 10, iter: 100/782, train_loss: 1.5823, val_loss: 1.7859, val_accuracy: 24.2994\n",
      "epoch: 10, iter: 200/782, train_loss: 1.7897, val_loss: 1.8915, val_accuracy: 21.8217\n",
      "epoch: 10, iter: 300/782, train_loss: 1.6051, val_loss: 1.9052, val_accuracy: 20.2803\n",
      "epoch: 10, iter: 400/782, train_loss: 1.6737, val_loss: 1.8190, val_accuracy: 22.6943\n",
      "epoch: 10, iter: 500/782, train_loss: 1.7296, val_loss: 1.8238, val_accuracy: 22.7898\n",
      "epoch: 10, iter: 600/782, train_loss: 1.8280, val_loss: 1.8095, val_accuracy: 22.8089\n",
      "epoch: 10, iter: 700/782, train_loss: 1.8117, val_loss: 1.7977, val_accuracy: 23.2803\n",
      "Restoring model...\n",
      "epoch: 11, iter: 100/782, train_loss: 1.4861, val_loss: 1.8147, val_accuracy: 23.8280\n",
      "epoch: 11, iter: 200/782, train_loss: 1.7286, val_loss: 1.8015, val_accuracy: 23.7134\n",
      "epoch: 11, iter: 300/782, train_loss: 1.9156, val_loss: 1.8063, val_accuracy: 23.3567\n",
      "Saving model...\n",
      "epoch: 11, iter: 400/782, train_loss: 1.5770, val_loss: 1.7868, val_accuracy: 24.5669\n",
      "Saving model...\n",
      "epoch: 11, iter: 500/782, train_loss: 1.9758, val_loss: 1.7609, val_accuracy: 24.8471\n",
      "epoch: 11, iter: 600/782, train_loss: 1.8445, val_loss: 1.7681, val_accuracy: 24.2484\n",
      "epoch: 11, iter: 700/782, train_loss: 1.9574, val_loss: 1.8719, val_accuracy: 22.6306\n",
      "Restoring model...\n",
      "epoch: 12, iter: 100/782, train_loss: 1.8937, val_loss: 1.8232, val_accuracy: 23.8471\n",
      "epoch: 12, iter: 200/782, train_loss: 1.7042, val_loss: 1.8188, val_accuracy: 23.3631\n",
      "epoch: 12, iter: 300/782, train_loss: 1.6628, val_loss: 1.8447, val_accuracy: 22.3503\n",
      "epoch: 12, iter: 400/782, train_loss: 1.8638, val_loss: 1.8200, val_accuracy: 23.0892\n",
      "epoch: 12, iter: 500/782, train_loss: 1.7501, val_loss: 1.8582, val_accuracy: 22.9172\n",
      "epoch: 12, iter: 600/782, train_loss: 1.7491, val_loss: 1.8661, val_accuracy: 22.7834\n",
      "epoch: 12, iter: 700/782, train_loss: 1.9545, val_loss: 1.7763, val_accuracy: 24.0318\n",
      "Restoring model...\n",
      "epoch: 13, iter: 100/782, train_loss: 1.9278, val_loss: 1.8368, val_accuracy: 23.0510\n",
      "epoch: 13, iter: 200/782, train_loss: 1.7919, val_loss: 1.7942, val_accuracy: 23.7261\n",
      "epoch: 13, iter: 300/782, train_loss: 1.7902, val_loss: 1.8631, val_accuracy: 22.2166\n",
      "epoch: 13, iter: 400/782, train_loss: 1.8617, val_loss: 1.8152, val_accuracy: 22.7771\n",
      "epoch: 13, iter: 500/782, train_loss: 1.8346, val_loss: 1.8298, val_accuracy: 23.2102\n",
      "epoch: 13, iter: 600/782, train_loss: 2.0532, val_loss: 1.8954, val_accuracy: 21.2930\n",
      "epoch: 13, iter: 700/782, train_loss: 1.5118, val_loss: 1.8513, val_accuracy: 21.7580\n",
      "Restoring model...\n",
      "epoch: 14, iter: 100/782, train_loss: 1.5524, val_loss: 1.8590, val_accuracy: 21.7707\n",
      "epoch: 14, iter: 200/782, train_loss: 1.7036, val_loss: 1.7863, val_accuracy: 24.0510\n",
      "epoch: 14, iter: 300/782, train_loss: 1.6064, val_loss: 1.7788, val_accuracy: 24.2484\n",
      "epoch: 14, iter: 400/782, train_loss: 1.7643, val_loss: 1.8115, val_accuracy: 23.5605\n",
      "epoch: 14, iter: 500/782, train_loss: 2.1179, val_loss: 1.8322, val_accuracy: 23.2293\n",
      "epoch: 14, iter: 600/782, train_loss: 1.7156, val_loss: 1.9578, val_accuracy: 21.1656\n",
      "epoch: 14, iter: 700/782, train_loss: 1.8075, val_loss: 1.7846, val_accuracy: 23.0127\n",
      "Restoring model...\n",
      "epoch: 15, iter: 100/782, train_loss: 1.8925, val_loss: 1.8021, val_accuracy: 23.8917\n",
      "epoch: 15, iter: 200/782, train_loss: 1.8385, val_loss: 1.7659, val_accuracy: 24.3376\n",
      "epoch: 15, iter: 300/782, train_loss: 1.7760, val_loss: 1.7823, val_accuracy: 24.5096\n",
      "epoch: 15, iter: 400/782, train_loss: 1.7758, val_loss: 1.7737, val_accuracy: 24.0892\n",
      "epoch: 15, iter: 500/782, train_loss: 1.8487, val_loss: 1.8006, val_accuracy: 23.7070\n",
      "epoch: 15, iter: 600/782, train_loss: 1.8319, val_loss: 1.8446, val_accuracy: 22.9108\n",
      "epoch: 15, iter: 700/782, train_loss: 1.7777, val_loss: 1.7843, val_accuracy: 24.4013\n",
      "Restoring model...\n",
      "epoch: 16, iter: 100/782, train_loss: 1.8926, val_loss: 1.7814, val_accuracy: 23.9682\n",
      "epoch: 16, iter: 200/782, train_loss: 1.9428, val_loss: 1.8068, val_accuracy: 23.2675\n",
      "epoch: 16, iter: 300/782, train_loss: 1.9231, val_loss: 1.8013, val_accuracy: 23.6178\n",
      "epoch: 16, iter: 400/782, train_loss: 1.5594, val_loss: 1.7917, val_accuracy: 23.7261\n",
      "epoch: 16, iter: 500/782, train_loss: 1.8684, val_loss: 1.8198, val_accuracy: 23.0828\n",
      "epoch: 16, iter: 600/782, train_loss: 2.1580, val_loss: 1.7607, val_accuracy: 24.6115\n",
      "epoch: 16, iter: 700/782, train_loss: 1.6607, val_loss: 1.8396, val_accuracy: 23.4459\n",
      "Restoring model...\n",
      "epoch: 17, iter: 100/782, train_loss: 1.8048, val_loss: 1.8193, val_accuracy: 23.5223\n",
      "epoch: 17, iter: 200/782, train_loss: 2.0634, val_loss: 1.7926, val_accuracy: 24.1338\n",
      "epoch: 17, iter: 300/782, train_loss: 2.1233, val_loss: 1.9447, val_accuracy: 22.4522\n",
      "epoch: 17, iter: 400/782, train_loss: 1.9920, val_loss: 1.8277, val_accuracy: 22.5860\n",
      "epoch: 17, iter: 500/782, train_loss: 1.8179, val_loss: 1.7969, val_accuracy: 23.7070\n",
      "epoch: 17, iter: 600/782, train_loss: 1.7747, val_loss: 1.7843, val_accuracy: 23.9873\n",
      "epoch: 17, iter: 700/782, train_loss: 1.6441, val_loss: 1.8489, val_accuracy: 22.4522\n",
      "Restoring model...\n",
      "epoch: 18, iter: 100/782, train_loss: 1.6614, val_loss: 1.7673, val_accuracy: 24.0255\n",
      "epoch: 18, iter: 200/782, train_loss: 1.9247, val_loss: 1.8368, val_accuracy: 22.7834\n",
      "epoch: 18, iter: 300/782, train_loss: 2.0330, val_loss: 1.8434, val_accuracy: 23.1975\n",
      "epoch: 18, iter: 400/782, train_loss: 1.8840, val_loss: 1.7908, val_accuracy: 23.7134\n",
      "epoch: 18, iter: 500/782, train_loss: 2.0024, val_loss: 1.7875, val_accuracy: 23.6624\n",
      "epoch: 18, iter: 600/782, train_loss: 1.8405, val_loss: 1.9854, val_accuracy: 21.9873\n",
      "epoch: 18, iter: 700/782, train_loss: 1.6201, val_loss: 1.7896, val_accuracy: 23.6115\n",
      "Restoring model...\n",
      "epoch: 19, iter: 100/782, train_loss: 1.7756, val_loss: 1.8413, val_accuracy: 22.3185\n",
      "epoch: 19, iter: 200/782, train_loss: 1.7600, val_loss: 1.8169, val_accuracy: 22.9299\n",
      "epoch: 19, iter: 300/782, train_loss: 1.7177, val_loss: 1.9298, val_accuracy: 20.6752\n",
      "epoch: 19, iter: 400/782, train_loss: 1.9037, val_loss: 1.8397, val_accuracy: 22.7325\n",
      "epoch: 19, iter: 500/782, train_loss: 2.0217, val_loss: 1.8134, val_accuracy: 23.2229\n",
      "epoch: 19, iter: 600/782, train_loss: 1.5181, val_loss: 1.8521, val_accuracy: 22.4268\n",
      "epoch: 19, iter: 700/782, train_loss: 1.7705, val_loss: 1.8439, val_accuracy: 23.1338\n",
      "Restoring model...\n",
      "epoch: 20, iter: 100/782, train_loss: 1.7621, val_loss: 1.8486, val_accuracy: 22.1019\n",
      "epoch: 20, iter: 200/782, train_loss: 1.6456, val_loss: 1.8016, val_accuracy: 23.1656\n",
      "epoch: 20, iter: 300/782, train_loss: 1.8763, val_loss: 1.8347, val_accuracy: 22.9236\n",
      "epoch: 20, iter: 400/782, train_loss: 1.9370, val_loss: 1.9096, val_accuracy: 20.7070\n",
      "Saving model...\n",
      "epoch: 20, iter: 500/782, train_loss: 1.6208, val_loss: 1.7581, val_accuracy: 25.0382\n",
      "epoch: 20, iter: 600/782, train_loss: 2.0262, val_loss: 1.8261, val_accuracy: 23.4968\n",
      "epoch: 20, iter: 700/782, train_loss: 1.7934, val_loss: 1.8313, val_accuracy: 22.1656\n",
      "Training log is saved to ./checkpoints/122123_fc1_cocktail_party_cifar10_pretraining_wout_bias_without_normalization.pth\n"
     ]
    }
   ],
   "source": [
    "train_loss_arr, val_loss_arr, val_accuracy_arr = train_all(model_config, optimizer_type, learning_rate, criterion_type, num_epochs, train_loader, val_loader=val_loader, save_path=save_path, save_interval=save_interval, linearize=linearize)"
   ],
   "metadata": {
    "collapsed": false,
    "ExecuteTime": {
     "end_time": "2023-12-22T02:28:26.238873376Z",
     "start_time": "2023-12-22T02:26:45.185656364Z"
    }
   },
   "id": "12439c4eb3573f2d"
  }
 ],
 "metadata": {
  "kernelspec": {
   "display_name": "Python 3",
   "language": "python",
   "name": "python3"
  },
  "language_info": {
   "codemirror_mode": {
    "name": "ipython",
    "version": 2
   },
   "file_extension": ".py",
   "mimetype": "text/x-python",
   "name": "python",
   "nbconvert_exporter": "python",
   "pygments_lexer": "ipython2",
   "version": "2.7.6"
  }
 },
 "nbformat": 4,
 "nbformat_minor": 5
}
