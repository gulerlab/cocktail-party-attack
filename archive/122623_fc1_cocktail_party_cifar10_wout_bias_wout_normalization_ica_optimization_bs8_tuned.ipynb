{
 "cells": [
  {
   "cell_type": "code",
   "execution_count": 1,
   "id": "42eb36ed57ad71e5",
   "metadata": {
    "ExecuteTime": {
     "end_time": "2023-12-26T08:31:30.214512778Z",
     "start_time": "2023-12-26T08:31:28.720697672Z"
    },
    "collapsed": false
   },
   "outputs": [],
   "source": [
    "from model import Network\n",
    "from data import load_cifar10_dataloaders, WhiteningTransformation\n",
    "import torch\n",
    "import torchvision.transforms as transforms\n",
    "import torch.nn as nn\n",
    "from criterion import ReconstructImageFromFCLoss\n",
    "import numpy as np\n",
    "import matplotlib.pyplot as plt\n",
    "import matplotlib.colors as colors\n",
    "from metrics import lpips, psnr\n",
    "\n",
    "# reproducibility\n",
    "random_seed = 2024\n",
    "\n",
    "torch.manual_seed(random_seed)\n",
    "torch.cuda.manual_seed(random_seed)\n",
    "torch.backends.cudnn.deterministic = True\n",
    "torch.backends.cudnn.benchmark = False\n",
    "\n",
    "np.random.seed(random_seed)"
   ]
  },
  {
   "cell_type": "code",
   "execution_count": 2,
   "id": "initial_id",
   "metadata": {
    "ExecuteTime": {
     "end_time": "2023-12-26T08:31:34.455234685Z",
     "start_time": "2023-12-26T08:31:32.871624219Z"
    },
    "collapsed": true
   },
   "outputs": [
    {
     "name": "stderr",
     "output_type": "stream",
     "text": [
      "/home/gulerlab/miniconda3/envs/pytorch-scipy/lib/python3.9/site-packages/torch/cuda/__init__.py:611: UserWarning: Can't initialize NVML\n",
      "  warnings.warn(\"Can't initialize NVML\")\n"
     ]
    },
    {
     "name": "stdout",
     "output_type": "stream",
     "text": [
      "Files already downloaded and verified\n",
      "Files already downloaded and verified\n"
     ]
    }
   ],
   "source": [
    "# load to model\n",
    "model_config = './model_config/fc1_cocktail_party_cifar10_instance.json'\n",
    "checkpoint_path = './checkpoints/122123_fc1_cocktail_party_cifar10_pretraining_wout_bias_wout_normalization.pth'\n",
    "device = 'cuda' if torch.cuda.is_available() else 'cpu'\n",
    "model = Network(model_config)\n",
    "checkpoint = torch.load(checkpoint_path)\n",
    "model.load_state_dict(checkpoint['state_dict'])\n",
    "model = model.to(device)\n",
    "\n",
    "# get val loader\n",
    "batch_size = 8\n",
    "data_path = './data'\n",
    "transform = transforms.Compose([\n",
    "    transforms.ToTensor(),\n",
    "])\n",
    "\n",
    "_, val_dataloader = load_cifar10_dataloaders(data_path, batch_size, transform)\n",
    "selected_val_batch_data, selected_val_batch_label = next(iter(val_dataloader))\n",
    "selected_val_batch_data = selected_val_batch_data.to(device)\n",
    "selected_val_batch_label = selected_val_batch_label.to(device)"
   ]
  },
  {
   "cell_type": "code",
   "execution_count": 3,
   "id": "9fd43b89714d7e39",
   "metadata": {
    "ExecuteTime": {
     "end_time": "2023-12-26T08:31:36.176139335Z",
     "start_time": "2023-12-26T08:31:35.240358759Z"
    },
    "collapsed": false
   },
   "outputs": [
    {
     "name": "stdout",
     "output_type": "stream",
     "text": [
      "[torch.Size([10, 3072])]\n"
     ]
    }
   ],
   "source": [
    "# receiving gradients\n",
    "model.zero_grad()\n",
    "criterion = nn.CrossEntropyLoss()\n",
    "output = model(selected_val_batch_data.reshape(batch_size, -1))\n",
    "loss = criterion(output, selected_val_batch_label)\n",
    "loss.backward()\n",
    "gradient_of_layers = []\n",
    "for param in model.parameters():\n",
    "    gradient_of_layers.append(param.grad.data.clone().to('cpu'))\n",
    "print([x.size() for x in gradient_of_layers])"
   ]
  },
  {
   "cell_type": "code",
   "execution_count": 4,
   "id": "6db76726297c0ab2",
   "metadata": {
    "ExecuteTime": {
     "end_time": "2023-12-26T08:31:37.464199669Z",
     "start_time": "2023-12-26T08:31:37.184803693Z"
    },
    "collapsed": false
   },
   "outputs": [],
   "source": [
    "whitening_transform = WhiteningTransformation()\n",
    "whitened_gradient = torch.from_numpy(whitening_transform.transform(gradient_of_layers[0].detach().numpy().T)).to(torch.float32).T\n",
    "whitened_gradient = whitened_gradient.to(device)"
   ]
  },
  {
   "cell_type": "code",
   "execution_count": 5,
   "id": "271ed464941bfd3a",
   "metadata": {
    "ExecuteTime": {
     "end_time": "2023-12-26T08:32:14.356317790Z",
     "start_time": "2023-12-26T08:31:38.313126847Z"
    },
    "collapsed": false
   },
   "outputs": [
    {
     "name": "stdout",
     "output_type": "stream",
     "text": [
      "loss: 2.1851329803466797\n",
      "loss: 0.6132137775421143\n",
      "loss: 0.5147523880004883\n",
      "loss: 0.5100428462028503\n",
      "loss: 0.507193922996521\n",
      "loss: 0.5075404644012451\n",
      "loss: 0.5050680041313171\n",
      "loss: 0.506515622138977\n",
      "loss: 0.5068762302398682\n",
      "loss: 0.5050061345100403\n",
      "loss: 0.5058788657188416\n",
      "loss: 0.5076947808265686\n",
      "loss: 0.5055888891220093\n",
      "loss: 0.5046704411506653\n",
      "loss: 0.5058259963989258\n",
      "loss: 0.5055134296417236\n",
      "loss: 0.5053873062133789\n",
      "loss: 0.5067590475082397\n",
      "loss: 0.5042805075645447\n",
      "loss: 0.5063789486885071\n",
      "loss: 0.5051690340042114\n",
      "loss: 0.5066483020782471\n",
      "loss: 0.5060023665428162\n",
      "loss: 0.5068197250366211\n",
      "loss: 0.5051997900009155\n",
      "loss: 0.5057422518730164\n"
     ]
    }
   ],
   "source": [
    "# criterion output testing\n",
    "unmixing_matrix = torch.rand((selected_val_batch_data.size(0), gradient_of_layers[0].size(0)), requires_grad=True, device=device)\n",
    "reconstruction_loss = ReconstructImageFromFCLoss(32, 32, 3, 1.5598034929652145, 7.916385923698705, 0.49341174306577273)\n",
    "optimizer = torch.optim.Adam([unmixing_matrix])\n",
    "\n",
    "for iter_idx in range(25000):\n",
    "    optimizer.zero_grad()\n",
    "    # out_score, non_gaussianity_score, total_variance_score, mutual_independence_score\n",
    "    loss, _, _, _ = reconstruction_loss(unmixing_matrix, whitened_gradient)\n",
    "    loss.backward()\n",
    "    optimizer.step()\n",
    "    \n",
    "    if (iter_idx + 1) % 1000 == 0 or iter_idx == 0:\n",
    "        print('loss: {}'.format(loss.item()))"
   ]
  },
  {
   "cell_type": "code",
   "execution_count": 6,
   "id": "b0b41e7f681b30a2",
   "metadata": {
    "ExecuteTime": {
     "end_time": "2023-12-26T08:32:15.738234696Z",
     "start_time": "2023-12-26T08:32:15.736344283Z"
    },
    "collapsed": false
   },
   "outputs": [],
   "source": [
    "unmixing_matrix = unmixing_matrix.detach().to('cpu')\n",
    "whitened_gradient = whitened_gradient.detach().to('cpu')"
   ]
  },
  {
   "cell_type": "markdown",
   "id": "1e6b1d6d0732f39d",
   "metadata": {
    "collapsed": false
   },
   "source": [
    "## PSNR Values"
   ]
  },
  {
   "cell_type": "code",
   "execution_count": 7,
   "id": "fbc0d8071ae95c9c",
   "metadata": {
    "ExecuteTime": {
     "end_time": "2023-12-26T08:32:28.936991581Z",
     "start_time": "2023-12-26T08:32:28.896672598Z"
    },
    "collapsed": false
   },
   "outputs": [],
   "source": [
    "with torch.no_grad():\n",
    "    psnr_match, psnr_is_positive, mean_psnr = psnr(unmixing_matrix @ whitened_gradient, selected_val_batch_data.detach().to('cpu'), return_matches=True)"
   ]
  },
  {
   "cell_type": "code",
   "execution_count": 8,
   "id": "a570a0ea38ed4d86",
   "metadata": {
    "ExecuteTime": {
     "end_time": "2023-12-26T08:32:29.672710364Z",
     "start_time": "2023-12-26T08:32:29.668388509Z"
    },
    "collapsed": false
   },
   "outputs": [
    {
     "data": {
      "text/plain": [
       "[tensor([7, 7]),\n",
       " tensor([6, 5]),\n",
       " tensor([3, 3]),\n",
       " tensor([2, 1]),\n",
       " tensor([4, 2]),\n",
       " tensor([1, 4]),\n",
       " tensor([5, 0]),\n",
       " tensor([0, 6])]"
      ]
     },
     "execution_count": 8,
     "metadata": {},
     "output_type": "execute_result"
    }
   ],
   "source": [
    "psnr_match"
   ]
  },
  {
   "cell_type": "code",
   "execution_count": 9,
   "id": "5610d401f9f94491",
   "metadata": {
    "ExecuteTime": {
     "end_time": "2023-12-26T08:32:30.525991286Z",
     "start_time": "2023-12-26T08:32:30.523349537Z"
    },
    "collapsed": false
   },
   "outputs": [
    {
     "data": {
      "text/plain": [
       "10.064017593860626"
      ]
     },
     "execution_count": 9,
     "metadata": {},
     "output_type": "execute_result"
    }
   ],
   "source": [
    "mean_psnr"
   ]
  },
  {
   "cell_type": "code",
   "execution_count": 10,
   "id": "a2ea419c5ef06c82",
   "metadata": {
    "ExecuteTime": {
     "end_time": "2023-12-26T08:32:31.609759771Z",
     "start_time": "2023-12-26T08:32:31.605844439Z"
    },
    "collapsed": false
   },
   "outputs": [
    {
     "data": {
      "text/plain": [
       "[True, True, True, False, True, True, False, False]"
      ]
     },
     "execution_count": 10,
     "metadata": {},
     "output_type": "execute_result"
    }
   ],
   "source": [
    "psnr_is_positive"
   ]
  },
  {
   "cell_type": "markdown",
   "id": "1aebdd6329ae8ecd",
   "metadata": {
    "collapsed": false
   },
   "source": [
    "## LPIPS"
   ]
  },
  {
   "cell_type": "code",
   "execution_count": 29,
   "id": "74d2ffda28c9a17e",
   "metadata": {
    "ExecuteTime": {
     "end_time": "2023-12-26T08:32:51.985777640Z",
     "start_time": "2023-12-26T08:32:42.543314653Z"
    },
    "collapsed": false
   },
   "outputs": [],
   "source": [
    "with torch.no_grad():\n",
    "    lpips_match, lpips_is_positive, mean_lpips = lpips(unmixing_matrix @ whitened_gradient, selected_val_batch_data.detach().to('cpu'), return_matches=True)"
   ]
  },
  {
   "cell_type": "code",
   "execution_count": 30,
   "id": "3ff5e7c23781808c",
   "metadata": {
    "ExecuteTime": {
     "end_time": "2023-12-26T08:32:56.979669774Z",
     "start_time": "2023-12-26T08:32:56.977237969Z"
    },
    "collapsed": false
   },
   "outputs": [
    {
     "data": {
      "text/plain": [
       "[tensor([0, 4]),\n",
       " tensor([2, 3]),\n",
       " tensor([6, 7]),\n",
       " tensor([7, 5]),\n",
       " tensor([1, 0]),\n",
       " tensor([3, 2]),\n",
       " tensor([5, 1]),\n",
       " tensor([4, 6])]"
      ]
     },
     "execution_count": 30,
     "metadata": {},
     "output_type": "execute_result"
    }
   ],
   "source": [
    "lpips_match"
   ]
  },
  {
   "cell_type": "code",
   "execution_count": 31,
   "id": "2fdd5f0377a60586",
   "metadata": {
    "ExecuteTime": {
     "end_time": "2023-12-26T08:32:58.128376593Z",
     "start_time": "2023-12-26T08:32:58.122982551Z"
    },
    "collapsed": false
   },
   "outputs": [
    {
     "data": {
      "text/plain": [
       "0.05111221387051046"
      ]
     },
     "execution_count": 31,
     "metadata": {},
     "output_type": "execute_result"
    }
   ],
   "source": [
    "mean_lpips"
   ]
  },
  {
   "cell_type": "code",
   "execution_count": 32,
   "id": "1d76dd61fe863d10",
   "metadata": {
    "ExecuteTime": {
     "end_time": "2023-12-26T08:32:59.913371826Z",
     "start_time": "2023-12-26T08:32:59.869355361Z"
    },
    "collapsed": false
   },
   "outputs": [
    {
     "data": {
      "text/plain": [
       "[False, False, False, True, False, False, False, False]"
      ]
     },
     "execution_count": 32,
     "metadata": {},
     "output_type": "execute_result"
    }
   ],
   "source": [
    "lpips_is_positive"
   ]
  },
  {
   "cell_type": "markdown",
   "id": "4554820f3fb44cee",
   "metadata": {
    "collapsed": false
   },
   "source": [
    "## Estimated images"
   ]
  },
  {
   "cell_type": "code",
   "execution_count": 37,
   "id": "6a98f3aed5bf5ca5",
   "metadata": {
    "ExecuteTime": {
     "end_time": "2023-12-26T08:34:41.192093980Z",
     "start_time": "2023-12-26T08:34:41.161184247Z"
    },
    "collapsed": false
   },
   "outputs": [
    {
     "data": {
      "image/png": "[encoded data removed]",
      "text/plain": [
       "<Figure size 640x480 with 8 Axes>"
      ]
     },
     "metadata": {},
     "output_type": "display_data"
    }
   ],
   "source": [
    "with torch.no_grad():\n",
    "    estimated_img = (unmixing_matrix @ whitened_gradient)\n",
    "    \n",
    "    fig, axes = plt.subplots(2, 4)\n",
    "    \n",
    "    for estimate, ax, is_positive in zip(estimated_img, axes.flatten(), lpips_is_positive):\n",
    "        estimate_coeff = 1 if is_positive else -1\n",
    "        img = colors.Normalize()(np.asarray(estimate_coeff * estimate).reshape(3, 32, 32).transpose(1, 2, 0))\n",
    "        ax.imshow(img)\n",
    "        ax.axis('off')\n",
    "    plt.show()"
   ]
  },
  {
   "cell_type": "markdown",
   "id": "74a112c7a21e3419",
   "metadata": {
    "collapsed": false
   },
   "source": [
    "## Original images"
   ]
  },
  {
   "cell_type": "code",
   "execution_count": 18,
   "id": "bb0693fb75c62547",
   "metadata": {
    "ExecuteTime": {
     "end_time": "2023-12-26T08:34:45.715761614Z",
     "start_time": "2023-12-26T08:34:45.686231668Z"
    },
    "collapsed": false
   },
   "outputs": [
    {
     "data": {
      "image/png": "[encoded data removed]",
      "text/plain": [
       "<Figure size 640x480 with 8 Axes>"
      ]
     },
     "metadata": {},
     "output_type": "display_data"
    }
   ],
   "source": [
    "with torch.no_grad():\n",
    "    fig, axes = plt.subplots(2, 4)\n",
    "    \n",
    "    for estimate, ax in zip(selected_val_batch_data, axes.flatten()):\n",
    "        img = transforms.ToPILImage()(estimate.reshape(3, 32, 32))\n",
    "        img = np.asarray(img)\n",
    "        ax.imshow(img)\n",
    "        ax.axis('off')\n",
    "    plt.show()"
   ]
  }
 ],
 "metadata": {
  "kernelspec": {
   "display_name": "Python 3",
   "language": "python",
   "name": "python3"
  },
  "language_info": {
   "codemirror_mode": {
    "name": "ipython",
    "version": 2
   },
   "file_extension": ".py",
   "mimetype": "text/x-python",
   "name": "python",
   "nbconvert_exporter": "python",
   "pygments_lexer": "ipython2",
   "version": "2.7.6"
  }
 },
 "nbformat": 4,
 "nbformat_minor": 5
}
