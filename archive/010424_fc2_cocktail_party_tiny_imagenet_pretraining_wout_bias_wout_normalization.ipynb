{
 "cells": [
  {
   "cell_type": "code",
   "execution_count": 1,
   "id": "c6a348ba109107b5",
   "metadata": {
    "ExecuteTime": {
     "end_time": "2024-01-04T23:29:53.428095114Z",
     "start_time": "2024-01-04T23:29:51.688004921Z"
    },
    "collapsed": false
   },
   "outputs": [],
   "source": [
    "from train import train_all\n",
    "from data import load_tiny_imagenet_dataloaders"
   ]
  },
  {
   "cell_type": "code",
   "execution_count": 2,
   "id": "75b482cb3415ff10",
   "metadata": {
    "ExecuteTime": {
     "end_time": "2024-01-04T23:29:54.318255881Z",
     "start_time": "2024-01-04T23:29:54.311220738Z"
    },
    "collapsed": false
   },
   "outputs": [],
   "source": [
    "batch_size = 64\n",
    "model_config = './model_config/fc2_cocktail_party_tiny_imagenet_instance.json'\n",
    "optimizer_type = 'Adam'\n",
    "learning_rate = 0.001\n",
    "criterion_type = 'CrossEntropyLoss'\n",
    "num_epochs = 20\n",
    "save_path = './checkpoints/010424_fc2_cocktail_party_tiny_imagenet_pretraining_wout_bias_wout_normalization.pth'\n",
    "save_interval = 100\n",
    "linearize = True"
   ]
  },
  {
   "cell_type": "code",
   "execution_count": 4,
   "id": "36484cfaf87561f7",
   "metadata": {
    "ExecuteTime": {
     "end_time": "2024-01-04T23:29:55.200323421Z",
     "start_time": "2024-01-04T23:29:55.146317503Z"
    },
    "collapsed": false
   },
   "outputs": [
    {
     "data": {
      "application/vnd.jupyter.widget-view+json": {
       "model_id": "08e0a59e08de4982aebbb89a7706560e",
       "version_major": 2,
       "version_minor": 0
      },
      "text/plain": [
       "Downloading readme:   0%|          | 0.00/3.90k [00:00<?, ?B/s]"
      ]
     },
     "metadata": {},
     "output_type": "display_data"
    },
    {
     "data": {
      "application/vnd.jupyter.widget-view+json": {
       "model_id": "076c4a17be1342d8afb978cc044ee129",
       "version_major": 2,
       "version_minor": 0
      },
      "text/plain": [
       "Downloading metadata:   0%|          | 0.00/3.52k [00:00<?, ?B/s]"
      ]
     },
     "metadata": {},
     "output_type": "display_data"
    },
    {
     "data": {
      "application/vnd.jupyter.widget-view+json": {
       "model_id": "2cccf5f3fc1a44c398e41de63b74eecd",
       "version_major": 2,
       "version_minor": 0
      },
      "text/plain": [
       "Downloading data:   0%|          | 0.00/146M [00:00<?, ?B/s]"
      ]
     },
     "metadata": {},
     "output_type": "display_data"
    },
    {
     "data": {
      "application/vnd.jupyter.widget-view+json": {
       "model_id": "ccb1f913fc10467bbd5099a835231ade",
       "version_major": 2,
       "version_minor": 0
      },
      "text/plain": [
       "Downloading data:   0%|          | 0.00/14.6M [00:00<?, ?B/s]"
      ]
     },
     "metadata": {},
     "output_type": "display_data"
    },
    {
     "data": {
      "application/vnd.jupyter.widget-view+json": {
       "model_id": "a67a1005272e4b2c91e4735b434f6bd2",
       "version_major": 2,
       "version_minor": 0
      },
      "text/plain": [
       "Generating train split:   0%|          | 0/100000 [00:00<?, ? examples/s]"
      ]
     },
     "metadata": {},
     "output_type": "display_data"
    },
    {
     "data": {
      "application/vnd.jupyter.widget-view+json": {
       "model_id": "09d59fa00fb848acb1e924327c201a70",
       "version_major": 2,
       "version_minor": 0
      },
      "text/plain": [
       "Generating valid split:   0%|          | 0/10000 [00:00<?, ? examples/s]"
      ]
     },
     "metadata": {},
     "output_type": "display_data"
    },
    {
     "data": {
      "application/vnd.jupyter.widget-view+json": {
       "model_id": "f8e7e9227db34717ac3b2d77e3b9e511",
       "version_major": 2,
       "version_minor": 0
      },
      "text/plain": [
       "Map:   0%|          | 0/100000 [00:00<?, ? examples/s]"
      ]
     },
     "metadata": {},
     "output_type": "display_data"
    },
    {
     "data": {
      "application/vnd.jupyter.widget-view+json": {
       "model_id": "dd965af7bf3649479718b9c1b134b3eb",
       "version_major": 2,
       "version_minor": 0
      },
      "text/plain": [
       "Saving the dataset (0/10 shards):   0%|          | 0/100000 [00:00<?, ? examples/s]"
      ]
     },
     "metadata": {},
     "output_type": "display_data"
    },
    {
     "data": {
      "application/vnd.jupyter.widget-view+json": {
       "model_id": "6a78bc8c462f4227b0364fa460e4cc9d",
       "version_major": 2,
       "version_minor": 0
      },
      "text/plain": [
       "Downloading readme:   0%|          | 0.00/3.90k [00:00<?, ?B/s]"
      ]
     },
     "metadata": {},
     "output_type": "display_data"
    },
    {
     "data": {
      "application/vnd.jupyter.widget-view+json": {
       "model_id": "998556440fcd41eda2341397afac8af2",
       "version_major": 2,
       "version_minor": 0
      },
      "text/plain": [
       "Downloading metadata:   0%|          | 0.00/3.52k [00:00<?, ?B/s]"
      ]
     },
     "metadata": {},
     "output_type": "display_data"
    },
    {
     "data": {
      "application/vnd.jupyter.widget-view+json": {
       "model_id": "432fe018aece456fa105a963d1feb774",
       "version_major": 2,
       "version_minor": 0
      },
      "text/plain": [
       "Downloading data:   0%|          | 0.00/146M [00:00<?, ?B/s]"
      ]
     },
     "metadata": {},
     "output_type": "display_data"
    },
    {
     "data": {
      "application/vnd.jupyter.widget-view+json": {
       "model_id": "a4f7b751852d4c5ebad983ae11dc7cef",
       "version_major": 2,
       "version_minor": 0
      },
      "text/plain": [
       "Downloading data:   0%|          | 0.00/14.6M [00:00<?, ?B/s]"
      ]
     },
     "metadata": {},
     "output_type": "display_data"
    },
    {
     "data": {
      "application/vnd.jupyter.widget-view+json": {
       "model_id": "c016bc2ba0fc4153a8bc969f24ff6ca7",
       "version_major": 2,
       "version_minor": 0
      },
      "text/plain": [
       "Generating train split:   0%|          | 0/100000 [00:00<?, ? examples/s]"
      ]
     },
     "metadata": {},
     "output_type": "display_data"
    },
    {
     "data": {
      "application/vnd.jupyter.widget-view+json": {
       "model_id": "66f6fe66c2244f2b843733562147692d",
       "version_major": 2,
       "version_minor": 0
      },
      "text/plain": [
       "Generating valid split:   0%|          | 0/10000 [00:00<?, ? examples/s]"
      ]
     },
     "metadata": {},
     "output_type": "display_data"
    },
    {
     "data": {
      "application/vnd.jupyter.widget-view+json": {
       "model_id": "32a41fa3e795411e9cce7dcd1cfed39e",
       "version_major": 2,
       "version_minor": 0
      },
      "text/plain": [
       "Map:   0%|          | 0/10000 [00:00<?, ? examples/s]"
      ]
     },
     "metadata": {},
     "output_type": "display_data"
    },
    {
     "data": {
      "application/vnd.jupyter.widget-view+json": {
       "model_id": "8407275d30ad4cb0b9d3c94f00dfbf98",
       "version_major": 2,
       "version_minor": 0
      },
      "text/plain": [
       "Saving the dataset (0/1 shards):   0%|          | 0/10000 [00:00<?, ? examples/s]"
      ]
     },
     "metadata": {},
     "output_type": "display_data"
    },
    {
     "name": "stdout",
     "output_type": "stream",
     "text": [
      "Dataset is created\n"
     ]
    }
   ],
   "source": [
    "train_loader, val_loader = load_tiny_imagenet_dataloaders(batch_size)"
   ]
  },
  {
   "cell_type": "code",
   "execution_count": 5,
   "id": "12439c4eb3573f2d",
   "metadata": {
    "ExecuteTime": {
     "start_time": "2024-01-04T23:30:15.109914069Z"
    },
    "collapsed": false,
    "is_executing": true
   },
   "outputs": [
    {
     "name": "stdout",
     "output_type": "stream",
     "text": [
      "Saving model...\n",
      "epoch: 1, iter: 100/1563, train_loss: 5.3014, val_loss: 5.2767, val_accuracy: 0.4650\n",
      "Saving model...\n",
      "epoch: 1, iter: 200/1563, train_loss: 5.2928, val_loss: 5.2713, val_accuracy: 0.6051\n",
      "Saving model...\n",
      "epoch: 1, iter: 300/1563, train_loss: 5.2293, val_loss: 5.1740, val_accuracy: 0.6178\n",
      "Saving model...\n",
      "epoch: 1, iter: 400/1563, train_loss: 5.3118, val_loss: 5.1368, val_accuracy: 0.6433\n",
      "epoch: 1, iter: 500/1563, train_loss: 5.1162, val_loss: 5.1168, val_accuracy: 0.5732\n",
      "epoch: 1, iter: 600/1563, train_loss: 5.0248, val_loss: 5.1202, val_accuracy: 0.6369\n",
      "epoch: 1, iter: 700/1563, train_loss: 5.1788, val_loss: 5.1207, val_accuracy: 0.6306\n",
      "epoch: 1, iter: 800/1563, train_loss: 5.1710, val_loss: 5.1102, val_accuracy: 0.5924\n",
      "epoch: 1, iter: 900/1563, train_loss: 5.0043, val_loss: 5.1151, val_accuracy: 0.6051\n",
      "epoch: 1, iter: 1000/1563, train_loss: 5.1882, val_loss: 5.1263, val_accuracy: 0.5987\n",
      "epoch: 1, iter: 1100/1563, train_loss: 5.2078, val_loss: 5.1120, val_accuracy: 0.6306\n",
      "Saving model...\n",
      "epoch: 1, iter: 1200/1563, train_loss: 4.9006, val_loss: 5.1022, val_accuracy: 0.7197\n",
      "epoch: 1, iter: 1300/1563, train_loss: 5.1533, val_loss: 5.0901, val_accuracy: 0.7006\n",
      "epoch: 1, iter: 1400/1563, train_loss: 5.1033, val_loss: 5.0964, val_accuracy: 0.6943\n",
      "epoch: 1, iter: 1500/1563, train_loss: 5.1384, val_loss: 5.1045, val_accuracy: 0.6815\n",
      "Restoring model...\n",
      "Saving model...\n",
      "epoch: 2, iter: 100/1563, train_loss: 5.0065, val_loss: 5.0816, val_accuracy: 0.7898\n",
      "epoch: 2, iter: 200/1563, train_loss: 5.0680, val_loss: 5.0788, val_accuracy: 0.7834\n",
      "epoch: 2, iter: 300/1563, train_loss: 4.8296, val_loss: 5.0783, val_accuracy: 0.7516\n",
      "Saving model...\n",
      "epoch: 2, iter: 400/1563, train_loss: 5.0557, val_loss: 5.0720, val_accuracy: 0.8471\n",
      "epoch: 2, iter: 500/1563, train_loss: 5.0536, val_loss: 5.0935, val_accuracy: 0.7962\n",
      "Saving model...\n",
      "epoch: 2, iter: 600/1563, train_loss: 4.9461, val_loss: 5.0716, val_accuracy: 0.8854\n",
      "epoch: 2, iter: 700/1563, train_loss: 5.0049, val_loss: 5.0969, val_accuracy: 0.8854\n",
      "epoch: 2, iter: 800/1563, train_loss: 5.1382, val_loss: 5.0569, val_accuracy: 0.8408\n",
      "epoch: 2, iter: 900/1563, train_loss: 5.1781, val_loss: 5.0835, val_accuracy: 0.8025\n",
      "Saving model...\n",
      "epoch: 2, iter: 1000/1563, train_loss: 4.9393, val_loss: 5.0719, val_accuracy: 0.9172\n",
      "Saving model...\n",
      "epoch: 2, iter: 1100/1563, train_loss: 5.1325, val_loss: 5.0488, val_accuracy: 0.9236\n",
      "Saving model...\n",
      "epoch: 2, iter: 1200/1563, train_loss: 4.9973, val_loss: 5.0523, val_accuracy: 0.9427\n",
      "Saving model...\n",
      "epoch: 2, iter: 1300/1563, train_loss: 5.0401, val_loss: 5.0624, val_accuracy: 0.9618\n",
      "epoch: 2, iter: 1400/1563, train_loss: 5.0850, val_loss: 5.0536, val_accuracy: 0.9045\n",
      "Saving model...\n",
      "epoch: 2, iter: 1500/1563, train_loss: 5.0647, val_loss: 5.0612, val_accuracy: 1.0000\n",
      "Restoring model...\n",
      "epoch: 3, iter: 100/1563, train_loss: 5.0478, val_loss: 5.0390, val_accuracy: 0.9745\n",
      "Saving model...\n",
      "epoch: 3, iter: 200/1563, train_loss: 5.0854, val_loss: 5.0399, val_accuracy: 1.0573\n",
      "epoch: 3, iter: 300/1563, train_loss: 4.8979, val_loss: 5.0328, val_accuracy: 1.0255\n",
      "epoch: 3, iter: 400/1563, train_loss: 4.9452, val_loss: 5.0445, val_accuracy: 1.0318\n",
      "Saving model...\n",
      "epoch: 3, iter: 500/1563, train_loss: 5.0211, val_loss: 5.0227, val_accuracy: 1.2803\n",
      "epoch: 3, iter: 600/1563, train_loss: 5.1468, val_loss: 5.0354, val_accuracy: 1.2548\n",
      "epoch: 3, iter: 700/1563, train_loss: 4.9220, val_loss: 5.0294, val_accuracy: 1.2739\n",
      "Saving model...\n",
      "epoch: 3, iter: 800/1563, train_loss: 5.0149, val_loss: 5.0065, val_accuracy: 1.3949\n",
      "epoch: 3, iter: 900/1563, train_loss: 5.0202, val_loss: 5.0127, val_accuracy: 1.2293\n",
      "Saving model...\n",
      "epoch: 3, iter: 1000/1563, train_loss: 4.9575, val_loss: 5.0035, val_accuracy: 1.4522\n",
      "Saving model...\n",
      "epoch: 3, iter: 1100/1563, train_loss: 4.9879, val_loss: 5.0116, val_accuracy: 1.4777\n",
      "epoch: 3, iter: 1200/1563, train_loss: 4.8372, val_loss: 5.0636, val_accuracy: 1.2357\n",
      "epoch: 3, iter: 1300/1563, train_loss: 5.0230, val_loss: 4.9894, val_accuracy: 1.2548\n",
      "epoch: 3, iter: 1400/1563, train_loss: 5.1284, val_loss: 4.9909, val_accuracy: 1.4395\n",
      "epoch: 3, iter: 1500/1563, train_loss: 4.9053, val_loss: 4.9788, val_accuracy: 1.4713\n",
      "Restoring model...\n",
      "epoch: 4, iter: 100/1563, train_loss: 5.1079, val_loss: 4.9857, val_accuracy: 1.3758\n",
      "epoch: 4, iter: 200/1563, train_loss: 5.0071, val_loss: 4.9842, val_accuracy: 1.3567\n",
      "Saving model...\n",
      "epoch: 4, iter: 300/1563, train_loss: 4.7852, val_loss: 5.0032, val_accuracy: 1.5860\n",
      "epoch: 4, iter: 400/1563, train_loss: 4.9213, val_loss: 4.9728, val_accuracy: 1.2293\n",
      "Saving model...\n",
      "epoch: 4, iter: 500/1563, train_loss: 4.8807, val_loss: 4.9871, val_accuracy: 1.6115\n",
      "epoch: 4, iter: 600/1563, train_loss: 5.0370, val_loss: 4.9583, val_accuracy: 1.3567\n",
      "epoch: 4, iter: 700/1563, train_loss: 4.9366, val_loss: 5.0123, val_accuracy: 1.1592\n",
      "epoch: 4, iter: 800/1563, train_loss: 5.1624, val_loss: 4.9668, val_accuracy: 1.4586\n",
      "epoch: 4, iter: 900/1563, train_loss: 5.1327, val_loss: 4.9614, val_accuracy: 1.5032\n",
      "Saving model...\n",
      "epoch: 4, iter: 1000/1563, train_loss: 5.1574, val_loss: 4.9622, val_accuracy: 1.7325\n",
      "epoch: 4, iter: 1100/1563, train_loss: 4.9884, val_loss: 4.9497, val_accuracy: 1.5287\n",
      "epoch: 4, iter: 1200/1563, train_loss: 4.7823, val_loss: 4.9674, val_accuracy: 1.7006\n",
      "epoch: 4, iter: 1300/1563, train_loss: 4.7656, val_loss: 4.9691, val_accuracy: 1.5350\n",
      "epoch: 4, iter: 1400/1563, train_loss: 5.0674, val_loss: 4.9575, val_accuracy: 1.5223\n",
      "epoch: 4, iter: 1500/1563, train_loss: 4.9424, val_loss: 4.9517, val_accuracy: 1.7261\n",
      "Restoring model...\n",
      "epoch: 5, iter: 100/1563, train_loss: 5.0070, val_loss: 4.9825, val_accuracy: 1.4268\n",
      "Saving model...\n",
      "epoch: 5, iter: 200/1563, train_loss: 4.9575, val_loss: 4.9617, val_accuracy: 1.8025\n",
      "epoch: 5, iter: 300/1563, train_loss: 4.8085, val_loss: 4.9767, val_accuracy: 1.5478\n",
      "epoch: 5, iter: 400/1563, train_loss: 4.9603, val_loss: 4.9645, val_accuracy: 1.6242\n",
      "epoch: 5, iter: 500/1563, train_loss: 4.8754, val_loss: 4.9642, val_accuracy: 1.6943\n",
      "epoch: 5, iter: 600/1563, train_loss: 4.9439, val_loss: 4.9947, val_accuracy: 1.5159\n",
      "epoch: 5, iter: 700/1563, train_loss: 4.9295, val_loss: 4.9616, val_accuracy: 1.4586\n",
      "epoch: 5, iter: 800/1563, train_loss: 4.8044, val_loss: 4.9383, val_accuracy: 1.6178\n",
      "epoch: 5, iter: 900/1563, train_loss: 5.0918, val_loss: 4.9340, val_accuracy: 1.7771\n",
      "epoch: 5, iter: 1000/1563, train_loss: 4.9654, val_loss: 4.9449, val_accuracy: 1.6943\n",
      "epoch: 5, iter: 1100/1563, train_loss: 5.0469, val_loss: 4.9442, val_accuracy: 1.5796\n",
      "epoch: 5, iter: 1200/1563, train_loss: 4.9479, val_loss: 4.9402, val_accuracy: 1.6815\n",
      "epoch: 5, iter: 1300/1563, train_loss: 4.8275, val_loss: 4.9961, val_accuracy: 1.3057\n",
      "epoch: 5, iter: 1400/1563, train_loss: 4.9226, val_loss: 4.9477, val_accuracy: 1.6943\n",
      "epoch: 5, iter: 1500/1563, train_loss: 4.9646, val_loss: 4.9702, val_accuracy: 1.7006\n",
      "Restoring model...\n",
      "epoch: 6, iter: 100/1563, train_loss: 5.0569, val_loss: 4.9443, val_accuracy: 1.6051\n",
      "epoch: 6, iter: 200/1563, train_loss: 5.1189, val_loss: 4.9478, val_accuracy: 1.7070\n",
      "epoch: 6, iter: 300/1563, train_loss: 4.9465, val_loss: 4.9447, val_accuracy: 1.5669\n",
      "epoch: 6, iter: 400/1563, train_loss: 5.0206, val_loss: 4.9728, val_accuracy: 1.7197\n",
      "epoch: 6, iter: 500/1563, train_loss: 5.0885, val_loss: 4.9298, val_accuracy: 1.7389\n",
      "epoch: 6, iter: 600/1563, train_loss: 4.8935, val_loss: 4.9636, val_accuracy: 1.7452\n",
      "epoch: 6, iter: 700/1563, train_loss: 4.9109, val_loss: 4.9357, val_accuracy: 1.6688\n",
      "epoch: 6, iter: 800/1563, train_loss: 4.8353, val_loss: 4.9345, val_accuracy: 1.7070\n",
      "epoch: 6, iter: 900/1563, train_loss: 4.9095, val_loss: 4.9416, val_accuracy: 1.7643\n",
      "epoch: 6, iter: 1000/1563, train_loss: 4.9205, val_loss: 4.9320, val_accuracy: 1.7006\n",
      "epoch: 6, iter: 1100/1563, train_loss: 5.1033, val_loss: 4.9391, val_accuracy: 1.7006\n",
      "Saving model...\n",
      "epoch: 6, iter: 1200/1563, train_loss: 4.9984, val_loss: 4.9267, val_accuracy: 1.8790\n",
      "epoch: 6, iter: 1300/1563, train_loss: 4.9253, val_loss: 4.9320, val_accuracy: 1.7261\n",
      "epoch: 6, iter: 1400/1563, train_loss: 4.9230, val_loss: 4.9380, val_accuracy: 1.7516\n",
      "epoch: 6, iter: 1500/1563, train_loss: 5.1222, val_loss: 4.9359, val_accuracy: 1.7197\n",
      "Restoring model...\n",
      "epoch: 7, iter: 100/1563, train_loss: 5.0122, val_loss: 4.9308, val_accuracy: 1.6943\n",
      "epoch: 7, iter: 200/1563, train_loss: 4.9862, val_loss: 4.9329, val_accuracy: 1.6561\n",
      "epoch: 7, iter: 300/1563, train_loss: 4.8922, val_loss: 4.9943, val_accuracy: 1.5223\n",
      "epoch: 7, iter: 400/1563, train_loss: 5.0144, val_loss: 4.9416, val_accuracy: 1.5860\n",
      "Saving model...\n",
      "epoch: 7, iter: 500/1563, train_loss: 4.7310, val_loss: 4.9271, val_accuracy: 1.9045\n",
      "epoch: 7, iter: 600/1563, train_loss: 5.0155, val_loss: 4.9582, val_accuracy: 1.7134\n",
      "epoch: 7, iter: 700/1563, train_loss: 4.8636, val_loss: 4.9407, val_accuracy: 1.5987\n",
      "epoch: 7, iter: 800/1563, train_loss: 4.9952, val_loss: 4.9248, val_accuracy: 1.6497\n",
      "epoch: 7, iter: 900/1563, train_loss: 5.0338, val_loss: 4.9139, val_accuracy: 1.7516\n",
      "epoch: 7, iter: 1000/1563, train_loss: 4.8467, val_loss: 4.9648, val_accuracy: 1.5860\n",
      "epoch: 7, iter: 1100/1563, train_loss: 4.9712, val_loss: 4.9449, val_accuracy: 1.5796\n",
      "epoch: 7, iter: 1200/1563, train_loss: 4.7018, val_loss: 4.9223, val_accuracy: 1.8662\n",
      "epoch: 7, iter: 1300/1563, train_loss: 5.0699, val_loss: 4.9456, val_accuracy: 1.5860\n",
      "epoch: 7, iter: 1400/1563, train_loss: 4.9322, val_loss: 4.9330, val_accuracy: 1.7452\n",
      "epoch: 7, iter: 1500/1563, train_loss: 5.0673, val_loss: 4.9120, val_accuracy: 1.7898\n",
      "Restoring model...\n",
      "epoch: 8, iter: 100/1563, train_loss: 5.0620, val_loss: 4.9402, val_accuracy: 1.8535\n",
      "epoch: 8, iter: 200/1563, train_loss: 4.9328, val_loss: 4.9294, val_accuracy: 1.6306\n",
      "epoch: 8, iter: 300/1563, train_loss: 5.1533, val_loss: 4.9228, val_accuracy: 1.6242\n",
      "epoch: 8, iter: 400/1563, train_loss: 4.8583, val_loss: 4.9405, val_accuracy: 1.5860\n",
      "epoch: 8, iter: 500/1563, train_loss: 4.6704, val_loss: 4.9214, val_accuracy: 1.7452\n",
      "epoch: 8, iter: 600/1563, train_loss: 4.8112, val_loss: 4.9199, val_accuracy: 1.7834\n",
      "epoch: 8, iter: 700/1563, train_loss: 4.8995, val_loss: 4.9144, val_accuracy: 1.7134\n",
      "epoch: 8, iter: 800/1563, train_loss: 4.7719, val_loss: 4.9343, val_accuracy: 1.6433\n",
      "epoch: 8, iter: 900/1563, train_loss: 4.9414, val_loss: 4.9874, val_accuracy: 1.5159\n",
      "epoch: 8, iter: 1000/1563, train_loss: 5.0278, val_loss: 4.9231, val_accuracy: 1.7643\n",
      "epoch: 8, iter: 1100/1563, train_loss: 5.0295, val_loss: 4.9332, val_accuracy: 1.8025\n",
      "epoch: 8, iter: 1200/1563, train_loss: 4.8846, val_loss: 4.9443, val_accuracy: 1.5287\n",
      "epoch: 8, iter: 1300/1563, train_loss: 5.0331, val_loss: 4.9332, val_accuracy: 1.5414\n",
      "epoch: 8, iter: 1400/1563, train_loss: 5.0575, val_loss: 4.9816, val_accuracy: 1.4522\n",
      "epoch: 8, iter: 1500/1563, train_loss: 4.8050, val_loss: 4.9196, val_accuracy: 1.8535\n",
      "Restoring model...\n",
      "epoch: 9, iter: 100/1563, train_loss: 5.0218, val_loss: 4.9365, val_accuracy: 1.7643\n",
      "epoch: 9, iter: 200/1563, train_loss: 4.9273, val_loss: 4.9547, val_accuracy: 1.6561\n",
      "epoch: 9, iter: 300/1563, train_loss: 4.8749, val_loss: 4.9305, val_accuracy: 1.6497\n",
      "epoch: 9, iter: 400/1563, train_loss: 4.9235, val_loss: 4.9315, val_accuracy: 1.6624\n",
      "epoch: 9, iter: 500/1563, train_loss: 4.8078, val_loss: 4.9503, val_accuracy: 1.5287\n",
      "epoch: 9, iter: 600/1563, train_loss: 5.0439, val_loss: 4.9535, val_accuracy: 1.6815\n",
      "epoch: 9, iter: 700/1563, train_loss: 4.9799, val_loss: 4.9424, val_accuracy: 1.5223\n",
      "epoch: 9, iter: 800/1563, train_loss: 4.8875, val_loss: 4.9521, val_accuracy: 1.6497\n",
      "epoch: 9, iter: 900/1563, train_loss: 4.9743, val_loss: 4.9436, val_accuracy: 1.6051\n",
      "epoch: 9, iter: 1000/1563, train_loss: 4.9192, val_loss: 4.9179, val_accuracy: 1.7006\n",
      "epoch: 9, iter: 1100/1563, train_loss: 4.7431, val_loss: 4.9157, val_accuracy: 1.8153\n",
      "epoch: 9, iter: 1200/1563, train_loss: 5.0152, val_loss: 4.9334, val_accuracy: 1.5414\n",
      "epoch: 9, iter: 1300/1563, train_loss: 4.8810, val_loss: 4.9155, val_accuracy: 1.5732\n",
      "epoch: 9, iter: 1400/1563, train_loss: 5.0100, val_loss: 4.9381, val_accuracy: 1.6369\n",
      "epoch: 9, iter: 1500/1563, train_loss: 4.8739, val_loss: 4.9371, val_accuracy: 1.6815\n",
      "Restoring model...\n",
      "epoch: 10, iter: 100/1563, train_loss: 4.8563, val_loss: 4.9695, val_accuracy: 1.6561\n",
      "epoch: 10, iter: 200/1563, train_loss: 5.1699, val_loss: 4.9512, val_accuracy: 1.5478\n",
      "epoch: 10, iter: 300/1563, train_loss: 4.9581, val_loss: 4.9632, val_accuracy: 1.5159\n",
      "epoch: 10, iter: 400/1563, train_loss: 4.8851, val_loss: 4.9212, val_accuracy: 1.7197\n",
      "epoch: 10, iter: 500/1563, train_loss: 4.8019, val_loss: 4.9345, val_accuracy: 1.7070\n",
      "epoch: 10, iter: 600/1563, train_loss: 4.9549, val_loss: 4.9397, val_accuracy: 1.6178\n",
      "epoch: 10, iter: 700/1563, train_loss: 4.7114, val_loss: 4.9373, val_accuracy: 1.6943\n",
      "epoch: 10, iter: 800/1563, train_loss: 4.8216, val_loss: 4.9510, val_accuracy: 1.6879\n",
      "epoch: 10, iter: 900/1563, train_loss: 4.9946, val_loss: 4.9826, val_accuracy: 1.5669\n",
      "epoch: 10, iter: 1000/1563, train_loss: 5.1782, val_loss: 4.9206, val_accuracy: 1.5669\n",
      "epoch: 10, iter: 1100/1563, train_loss: 4.9671, val_loss: 4.9433, val_accuracy: 1.6624\n",
      "epoch: 10, iter: 1200/1563, train_loss: 4.9064, val_loss: 4.9604, val_accuracy: 1.5287\n",
      "epoch: 10, iter: 1300/1563, train_loss: 4.9562, val_loss: 4.9193, val_accuracy: 1.5350\n",
      "epoch: 10, iter: 1400/1563, train_loss: 4.9487, val_loss: 4.9347, val_accuracy: 1.6115\n",
      "Saving model...\n",
      "epoch: 10, iter: 1500/1563, train_loss: 4.8866, val_loss: 4.9202, val_accuracy: 1.9299\n",
      "Restoring model...\n",
      "epoch: 11, iter: 100/1563, train_loss: 5.0006, val_loss: 4.9364, val_accuracy: 1.4904\n",
      "epoch: 11, iter: 200/1563, train_loss: 4.9840, val_loss: 4.9366, val_accuracy: 1.6369\n",
      "epoch: 11, iter: 300/1563, train_loss: 4.8099, val_loss: 4.9254, val_accuracy: 1.6752\n",
      "epoch: 11, iter: 400/1563, train_loss: 5.0951, val_loss: 4.9195, val_accuracy: 1.6688\n",
      "epoch: 11, iter: 500/1563, train_loss: 4.8533, val_loss: 4.9568, val_accuracy: 1.5987\n",
      "epoch: 11, iter: 600/1563, train_loss: 5.1068, val_loss: 4.9575, val_accuracy: 1.5287\n",
      "epoch: 11, iter: 700/1563, train_loss: 4.9577, val_loss: 4.9471, val_accuracy: 1.5605\n",
      "epoch: 11, iter: 800/1563, train_loss: 5.1834, val_loss: 4.9511, val_accuracy: 1.4968\n",
      "epoch: 11, iter: 900/1563, train_loss: 5.0441, val_loss: 4.9464, val_accuracy: 1.6624\n",
      "epoch: 11, iter: 1000/1563, train_loss: 5.0919, val_loss: 4.9521, val_accuracy: 1.4777\n",
      "epoch: 11, iter: 1100/1563, train_loss: 4.9442, val_loss: 4.9383, val_accuracy: 1.6433\n",
      "epoch: 11, iter: 1200/1563, train_loss: 5.0001, val_loss: 4.9397, val_accuracy: 1.8217\n",
      "epoch: 11, iter: 1300/1563, train_loss: 4.8664, val_loss: 4.9369, val_accuracy: 1.7707\n",
      "epoch: 11, iter: 1400/1563, train_loss: 5.0401, val_loss: 4.9195, val_accuracy: 1.8471\n",
      "epoch: 11, iter: 1500/1563, train_loss: 5.1059, val_loss: 4.9152, val_accuracy: 1.8790\n",
      "Restoring model...\n",
      "epoch: 12, iter: 100/1563, train_loss: 4.9609, val_loss: 4.9686, val_accuracy: 1.7707\n",
      "epoch: 12, iter: 200/1563, train_loss: 4.8736, val_loss: 4.9315, val_accuracy: 1.6242\n",
      "epoch: 12, iter: 300/1563, train_loss: 4.8030, val_loss: 4.9390, val_accuracy: 1.6688\n",
      "epoch: 12, iter: 400/1563, train_loss: 4.8624, val_loss: 5.0138, val_accuracy: 1.5287\n",
      "epoch: 12, iter: 500/1563, train_loss: 4.9281, val_loss: 4.9173, val_accuracy: 1.8344\n",
      "epoch: 12, iter: 600/1563, train_loss: 4.9250, val_loss: 4.9612, val_accuracy: 1.3822\n",
      "epoch: 12, iter: 700/1563, train_loss: 5.1440, val_loss: 4.9471, val_accuracy: 1.6561\n",
      "epoch: 12, iter: 800/1563, train_loss: 5.0650, val_loss: 4.9284, val_accuracy: 1.8089\n",
      "epoch: 12, iter: 900/1563, train_loss: 4.8453, val_loss: 4.9507, val_accuracy: 1.7134\n",
      "epoch: 12, iter: 1000/1563, train_loss: 5.3811, val_loss: 4.9405, val_accuracy: 1.8280\n",
      "epoch: 12, iter: 1100/1563, train_loss: 4.7887, val_loss: 4.9459, val_accuracy: 1.7516\n",
      "epoch: 12, iter: 1200/1563, train_loss: 4.8263, val_loss: 4.9338, val_accuracy: 1.7771\n",
      "epoch: 12, iter: 1300/1563, train_loss: 4.8263, val_loss: 4.9283, val_accuracy: 1.8089\n",
      "epoch: 12, iter: 1400/1563, train_loss: 5.1360, val_loss: 4.9215, val_accuracy: 1.5350\n",
      "epoch: 12, iter: 1500/1563, train_loss: 4.8138, val_loss: 4.9495, val_accuracy: 1.3822\n",
      "Restoring model...\n",
      "epoch: 13, iter: 100/1563, train_loss: 4.9376, val_loss: 4.9272, val_accuracy: 1.8089\n",
      "epoch: 13, iter: 200/1563, train_loss: 4.7372, val_loss: 4.9279, val_accuracy: 1.7325\n",
      "epoch: 13, iter: 300/1563, train_loss: 4.9594, val_loss: 4.9169, val_accuracy: 1.7771\n",
      "epoch: 13, iter: 400/1563, train_loss: 5.0550, val_loss: 4.9224, val_accuracy: 1.7325\n",
      "epoch: 13, iter: 500/1563, train_loss: 4.9016, val_loss: 4.9444, val_accuracy: 1.5860\n",
      "epoch: 13, iter: 600/1563, train_loss: 4.7843, val_loss: 4.9932, val_accuracy: 1.5350\n",
      "epoch: 13, iter: 700/1563, train_loss: 4.9520, val_loss: 4.9205, val_accuracy: 1.7452\n",
      "epoch: 13, iter: 800/1563, train_loss: 4.8935, val_loss: 4.9247, val_accuracy: 1.6943\n",
      "epoch: 13, iter: 900/1563, train_loss: 4.9400, val_loss: 4.9276, val_accuracy: 1.5669\n",
      "epoch: 13, iter: 1000/1563, train_loss: 4.9885, val_loss: 4.9311, val_accuracy: 1.7580\n",
      "epoch: 13, iter: 1100/1563, train_loss: 4.8628, val_loss: 4.9553, val_accuracy: 1.7261\n",
      "epoch: 13, iter: 1200/1563, train_loss: 4.8741, val_loss: 4.9615, val_accuracy: 1.7134\n",
      "epoch: 13, iter: 1300/1563, train_loss: 5.0192, val_loss: 4.9326, val_accuracy: 1.5796\n",
      "epoch: 13, iter: 1400/1563, train_loss: 4.7836, val_loss: 4.9454, val_accuracy: 1.6879\n",
      "epoch: 13, iter: 1500/1563, train_loss: 4.9019, val_loss: 4.9513, val_accuracy: 1.6815\n",
      "Restoring model...\n",
      "epoch: 14, iter: 100/1563, train_loss: 4.9039, val_loss: 4.9366, val_accuracy: 1.7580\n",
      "epoch: 14, iter: 200/1563, train_loss: 5.0669, val_loss: 4.9770, val_accuracy: 1.6815\n",
      "epoch: 14, iter: 300/1563, train_loss: 4.9576, val_loss: 4.9478, val_accuracy: 1.7962\n",
      "epoch: 14, iter: 400/1563, train_loss: 4.7999, val_loss: 4.9219, val_accuracy: 1.7325\n",
      "epoch: 14, iter: 500/1563, train_loss: 4.7103, val_loss: 4.9597, val_accuracy: 1.7197\n",
      "epoch: 14, iter: 600/1563, train_loss: 4.9433, val_loss: 4.9426, val_accuracy: 1.6752\n",
      "epoch: 14, iter: 700/1563, train_loss: 4.6875, val_loss: 4.9403, val_accuracy: 1.7580\n",
      "epoch: 14, iter: 800/1563, train_loss: 5.0183, val_loss: 4.9259, val_accuracy: 1.6561\n",
      "epoch: 14, iter: 900/1563, train_loss: 4.6370, val_loss: 4.9486, val_accuracy: 1.6115\n",
      "epoch: 14, iter: 1000/1563, train_loss: 4.8933, val_loss: 4.9457, val_accuracy: 1.7580\n",
      "epoch: 14, iter: 1100/1563, train_loss: 4.9102, val_loss: 4.9757, val_accuracy: 1.4777\n",
      "epoch: 14, iter: 1200/1563, train_loss: 4.9969, val_loss: 4.9310, val_accuracy: 1.7325\n",
      "epoch: 14, iter: 1300/1563, train_loss: 4.8336, val_loss: 4.9062, val_accuracy: 1.6433\n",
      "epoch: 14, iter: 1400/1563, train_loss: 4.7686, val_loss: 4.9254, val_accuracy: 1.7771\n",
      "epoch: 14, iter: 1500/1563, train_loss: 5.0592, val_loss: 4.9335, val_accuracy: 1.8089\n",
      "Restoring model...\n",
      "epoch: 15, iter: 100/1563, train_loss: 4.9312, val_loss: 4.9389, val_accuracy: 1.6433\n",
      "epoch: 15, iter: 200/1563, train_loss: 4.8663, val_loss: 4.9371, val_accuracy: 1.6624\n",
      "epoch: 15, iter: 300/1563, train_loss: 4.9594, val_loss: 4.9702, val_accuracy: 1.7134\n",
      "epoch: 15, iter: 400/1563, train_loss: 4.9518, val_loss: 4.9487, val_accuracy: 1.5732\n",
      "epoch: 15, iter: 500/1563, train_loss: 4.8964, val_loss: 4.9476, val_accuracy: 1.5350\n",
      "epoch: 15, iter: 600/1563, train_loss: 4.6795, val_loss: 4.9703, val_accuracy: 1.6242\n",
      "epoch: 15, iter: 700/1563, train_loss: 4.7545, val_loss: 4.9262, val_accuracy: 1.6879\n",
      "epoch: 15, iter: 800/1563, train_loss: 5.0092, val_loss: 4.9528, val_accuracy: 1.8217\n",
      "epoch: 15, iter: 900/1563, train_loss: 4.9260, val_loss: 4.9644, val_accuracy: 1.4268\n",
      "epoch: 15, iter: 1000/1563, train_loss: 5.0473, val_loss: 4.9337, val_accuracy: 1.6433\n",
      "epoch: 15, iter: 1100/1563, train_loss: 5.0275, val_loss: 4.9547, val_accuracy: 1.6433\n",
      "epoch: 15, iter: 1200/1563, train_loss: 5.0074, val_loss: 4.9215, val_accuracy: 1.8153\n",
      "epoch: 15, iter: 1300/1563, train_loss: 4.8368, val_loss: 4.9386, val_accuracy: 1.6879\n",
      "epoch: 15, iter: 1400/1563, train_loss: 4.8671, val_loss: 4.9197, val_accuracy: 1.8344\n",
      "epoch: 15, iter: 1500/1563, train_loss: 4.6315, val_loss: 4.9299, val_accuracy: 1.5605\n",
      "Restoring model...\n",
      "epoch: 16, iter: 100/1563, train_loss: 4.8500, val_loss: 4.9307, val_accuracy: 1.7325\n",
      "epoch: 16, iter: 200/1563, train_loss: 4.8209, val_loss: 4.9179, val_accuracy: 1.7771\n",
      "epoch: 16, iter: 300/1563, train_loss: 4.8378, val_loss: 4.9273, val_accuracy: 1.4968\n",
      "epoch: 16, iter: 400/1563, train_loss: 5.1019, val_loss: 4.9579, val_accuracy: 1.6752\n",
      "epoch: 16, iter: 500/1563, train_loss: 5.0620, val_loss: 4.9219, val_accuracy: 1.8153\n",
      "epoch: 16, iter: 600/1563, train_loss: 4.8442, val_loss: 4.9199, val_accuracy: 1.8726\n",
      "epoch: 16, iter: 700/1563, train_loss: 4.8766, val_loss: 4.9635, val_accuracy: 1.5860\n",
      "epoch: 16, iter: 800/1563, train_loss: 4.7872, val_loss: 4.9277, val_accuracy: 1.6688\n",
      "epoch: 16, iter: 900/1563, train_loss: 4.7247, val_loss: 4.9443, val_accuracy: 1.7134\n",
      "epoch: 16, iter: 1000/1563, train_loss: 4.8424, val_loss: 4.9363, val_accuracy: 1.7516\n",
      "epoch: 16, iter: 1100/1563, train_loss: 4.9171, val_loss: 4.9312, val_accuracy: 1.7197\n",
      "epoch: 16, iter: 1200/1563, train_loss: 4.9024, val_loss: 4.9292, val_accuracy: 1.6115\n",
      "epoch: 16, iter: 1300/1563, train_loss: 5.0141, val_loss: 4.9177, val_accuracy: 1.7834\n",
      "epoch: 16, iter: 1400/1563, train_loss: 4.8791, val_loss: 4.9333, val_accuracy: 1.6815\n",
      "epoch: 16, iter: 1500/1563, train_loss: 5.0803, val_loss: 4.9910, val_accuracy: 1.6178\n",
      "Restoring model...\n",
      "epoch: 17, iter: 100/1563, train_loss: 4.7681, val_loss: 4.9488, val_accuracy: 1.8344\n",
      "epoch: 17, iter: 200/1563, train_loss: 4.8989, val_loss: 4.9341, val_accuracy: 1.7834\n",
      "epoch: 17, iter: 300/1563, train_loss: 4.8869, val_loss: 4.9614, val_accuracy: 1.6943\n",
      "epoch: 17, iter: 400/1563, train_loss: 4.9465, val_loss: 4.9818, val_accuracy: 1.3885\n",
      "epoch: 17, iter: 500/1563, train_loss: 4.9611, val_loss: 4.9733, val_accuracy: 1.5414\n",
      "epoch: 17, iter: 600/1563, train_loss: 5.0925, val_loss: 4.9376, val_accuracy: 1.8217\n",
      "epoch: 17, iter: 700/1563, train_loss: 5.0195, val_loss: 4.9198, val_accuracy: 1.6815\n",
      "epoch: 17, iter: 800/1563, train_loss: 5.0600, val_loss: 4.9214, val_accuracy: 1.8280\n",
      "epoch: 17, iter: 900/1563, train_loss: 4.8694, val_loss: 4.9272, val_accuracy: 1.7325\n",
      "epoch: 17, iter: 1000/1563, train_loss: 5.1985, val_loss: 4.9447, val_accuracy: 1.8153\n",
      "epoch: 17, iter: 1100/1563, train_loss: 4.8521, val_loss: 4.9143, val_accuracy: 1.7452\n",
      "epoch: 17, iter: 1200/1563, train_loss: 5.0661, val_loss: 4.9248, val_accuracy: 1.8025\n",
      "epoch: 17, iter: 1300/1563, train_loss: 4.8926, val_loss: 4.9484, val_accuracy: 1.5924\n",
      "epoch: 17, iter: 1400/1563, train_loss: 4.8576, val_loss: 4.9243, val_accuracy: 1.7261\n",
      "epoch: 17, iter: 1500/1563, train_loss: 4.8781, val_loss: 4.9179, val_accuracy: 1.9108\n",
      "Restoring model...\n",
      "epoch: 18, iter: 100/1563, train_loss: 4.9207, val_loss: 4.9481, val_accuracy: 1.6051\n",
      "epoch: 18, iter: 200/1563, train_loss: 4.9087, val_loss: 4.9507, val_accuracy: 1.4904\n",
      "epoch: 18, iter: 300/1563, train_loss: 4.9892, val_loss: 4.9186, val_accuracy: 1.6879\n",
      "epoch: 18, iter: 400/1563, train_loss: 4.8318, val_loss: 4.9333, val_accuracy: 1.8217\n",
      "epoch: 18, iter: 500/1563, train_loss: 4.8902, val_loss: 4.9696, val_accuracy: 1.6497\n",
      "epoch: 18, iter: 600/1563, train_loss: 5.0323, val_loss: 4.9166, val_accuracy: 1.9172\n",
      "epoch: 18, iter: 700/1563, train_loss: 5.0178, val_loss: 4.9210, val_accuracy: 1.7771\n",
      "epoch: 18, iter: 800/1563, train_loss: 4.7769, val_loss: 4.9325, val_accuracy: 1.7261\n",
      "epoch: 18, iter: 900/1563, train_loss: 4.8964, val_loss: 4.9306, val_accuracy: 1.6943\n",
      "epoch: 18, iter: 1000/1563, train_loss: 5.0638, val_loss: 4.9232, val_accuracy: 1.6879\n",
      "epoch: 18, iter: 1100/1563, train_loss: 4.8743, val_loss: 4.9266, val_accuracy: 1.5924\n",
      "epoch: 18, iter: 1200/1563, train_loss: 4.7977, val_loss: 4.9533, val_accuracy: 1.6879\n",
      "epoch: 18, iter: 1300/1563, train_loss: 4.9110, val_loss: 4.9266, val_accuracy: 1.7643\n",
      "epoch: 18, iter: 1400/1563, train_loss: 5.0560, val_loss: 4.9182, val_accuracy: 1.6242\n",
      "epoch: 18, iter: 1500/1563, train_loss: 4.6890, val_loss: 4.9503, val_accuracy: 1.7006\n",
      "Restoring model...\n",
      "epoch: 19, iter: 100/1563, train_loss: 4.8546, val_loss: 4.9411, val_accuracy: 1.5924\n",
      "epoch: 19, iter: 200/1563, train_loss: 5.0688, val_loss: 4.9704, val_accuracy: 1.7070\n",
      "epoch: 19, iter: 300/1563, train_loss: 4.9215, val_loss: 4.9718, val_accuracy: 1.5732\n",
      "epoch: 19, iter: 400/1563, train_loss: 4.9310, val_loss: 4.9454, val_accuracy: 1.7070\n",
      "epoch: 19, iter: 500/1563, train_loss: 4.9382, val_loss: 4.9484, val_accuracy: 1.6624\n",
      "epoch: 19, iter: 600/1563, train_loss: 4.9787, val_loss: 4.9225, val_accuracy: 1.7197\n",
      "epoch: 19, iter: 700/1563, train_loss: 4.8518, val_loss: 4.9155, val_accuracy: 1.7771\n",
      "epoch: 19, iter: 800/1563, train_loss: 4.9567, val_loss: 4.9168, val_accuracy: 1.6497\n",
      "epoch: 19, iter: 900/1563, train_loss: 4.7776, val_loss: 4.9261, val_accuracy: 1.9108\n",
      "epoch: 19, iter: 1000/1563, train_loss: 4.7742, val_loss: 4.9297, val_accuracy: 1.6943\n",
      "epoch: 19, iter: 1100/1563, train_loss: 5.0435, val_loss: 4.9356, val_accuracy: 1.5669\n",
      "epoch: 19, iter: 1200/1563, train_loss: 4.6706, val_loss: 4.9797, val_accuracy: 1.5478\n",
      "epoch: 19, iter: 1300/1563, train_loss: 5.0517, val_loss: 4.9168, val_accuracy: 1.7771\n",
      "epoch: 19, iter: 1400/1563, train_loss: 4.8567, val_loss: 4.9229, val_accuracy: 1.6561\n",
      "epoch: 19, iter: 1500/1563, train_loss: 4.9632, val_loss: 4.9452, val_accuracy: 1.6815\n",
      "Restoring model...\n",
      "epoch: 20, iter: 100/1563, train_loss: 4.8677, val_loss: 4.9416, val_accuracy: 1.6943\n",
      "epoch: 20, iter: 200/1563, train_loss: 4.8539, val_loss: 4.9320, val_accuracy: 1.7070\n",
      "epoch: 20, iter: 300/1563, train_loss: 4.7930, val_loss: 4.9569, val_accuracy: 1.5860\n",
      "epoch: 20, iter: 400/1563, train_loss: 4.9554, val_loss: 4.9297, val_accuracy: 1.7707\n",
      "epoch: 20, iter: 500/1563, train_loss: 5.0116, val_loss: 4.9293, val_accuracy: 1.7325\n",
      "epoch: 20, iter: 600/1563, train_loss: 4.8739, val_loss: 4.9193, val_accuracy: 1.8917\n",
      "epoch: 20, iter: 700/1563, train_loss: 5.0725, val_loss: 4.9604, val_accuracy: 1.7771\n",
      "epoch: 20, iter: 800/1563, train_loss: 4.8674, val_loss: 5.0261, val_accuracy: 1.5414\n",
      "epoch: 20, iter: 900/1563, train_loss: 4.8333, val_loss: 4.9291, val_accuracy: 1.6815\n",
      "epoch: 20, iter: 1000/1563, train_loss: 4.8566, val_loss: 4.9190, val_accuracy: 1.7962\n",
      "epoch: 20, iter: 1100/1563, train_loss: 4.9089, val_loss: 4.9498, val_accuracy: 1.5796\n",
      "epoch: 20, iter: 1200/1563, train_loss: 4.7923, val_loss: 4.9234, val_accuracy: 1.8025\n",
      "epoch: 20, iter: 1300/1563, train_loss: 4.8207, val_loss: 4.9349, val_accuracy: 1.5669\n",
      "epoch: 20, iter: 1400/1563, train_loss: 4.8510, val_loss: 4.9618, val_accuracy: 1.7452\n",
      "epoch: 20, iter: 1500/1563, train_loss: 4.9348, val_loss: 4.9368, val_accuracy: 1.6879\n",
      "Training log is saved to ./checkpoints/010424_fc1_cocktail_party_tiny_imagenet_pretraining_wout_bias_wout_normalization.pth\n"
     ]
    }
   ],
   "source": [
    "train_loss_arr, val_loss_arr, val_accuracy_arr = train_all(model_config, optimizer_type, learning_rate, criterion_type, num_epochs, train_loader, val_loader=val_loader, save_path=save_path, save_interval=save_interval, linearize=linearize, fetch_from_dict=True)"
   ]
  }
 ],
 "metadata": {
  "kernelspec": {
   "display_name": "Python 3",
   "language": "python",
   "name": "python3"
  },
  "language_info": {
   "codemirror_mode": {
    "name": "ipython",
    "version": 3
   },
   "file_extension": ".py",
   "mimetype": "text/x-python",
   "name": "python",
   "nbconvert_exporter": "python",
   "pygments_lexer": "ipython3",
   "version": "3.9.18"
  }
 },
 "nbformat": 4,
 "nbformat_minor": 5
}
