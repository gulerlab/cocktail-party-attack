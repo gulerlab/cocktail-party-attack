{
 "cells": [
  {
   "cell_type": "code",
   "execution_count": 1,
   "outputs": [],
   "source": [
    "from train import train_all\n",
    "from data import load_cifar10_dataloaders\n",
    "import torchvision.transforms as transforms"
   ],
   "metadata": {
    "collapsed": false,
    "ExecuteTime": {
     "end_time": "2023-12-20T00:24:22.460760657Z",
     "start_time": "2023-12-20T00:24:21.773222555Z"
    }
   },
   "id": "c6a348ba109107b5"
  },
  {
   "cell_type": "code",
   "execution_count": 2,
   "outputs": [],
   "source": [
    "batch_size = 64\n",
    "data_path = './data'\n",
    "normalize_mean, normalize_std = (0.4914, 0.4822, 0.4465), (0.247, 0.243, 0.261) \n",
    "\n",
    "model_config = './model_config/fc2_cocktail_party_instance_wout_bias.json'\n",
    "optimizer_type = 'Adam'\n",
    "learning_rate = 0.001\n",
    "criterion_type = 'CrossEntropyLoss'\n",
    "num_epochs = 20\n",
    "save_path = './checkpoints/121923_fc2_cocktail_party_cifar10_pretraining_wout_bias.pth'\n",
    "save_interval = 100\n",
    "linearize = True"
   ],
   "metadata": {
    "collapsed": false,
    "ExecuteTime": {
     "end_time": "2023-12-20T00:24:23.017182300Z",
     "start_time": "2023-12-20T00:24:23.014611796Z"
    }
   },
   "id": "75b482cb3415ff10"
  },
  {
   "cell_type": "code",
   "execution_count": 3,
   "outputs": [],
   "source": [
    "transform = transforms.Compose([\n",
    "    transforms.ToTensor(),\n",
    "    transforms.Normalize(normalize_mean, normalize_std),\n",
    "])"
   ],
   "metadata": {
    "collapsed": false,
    "ExecuteTime": {
     "end_time": "2023-12-20T00:24:24.962699590Z",
     "start_time": "2023-12-20T00:24:24.957413909Z"
    }
   },
   "id": "f4942066bc53047b"
  },
  {
   "cell_type": "code",
   "execution_count": 4,
   "outputs": [
    {
     "name": "stdout",
     "output_type": "stream",
     "text": [
      "Files already downloaded and verified\n",
      "Files already downloaded and verified\n"
     ]
    }
   ],
   "source": [
    "train_loader, val_loader = load_cifar10_dataloaders(data_path, batch_size, transform)"
   ],
   "metadata": {
    "collapsed": false,
    "ExecuteTime": {
     "end_time": "2023-12-20T00:24:26.964786634Z",
     "start_time": "2023-12-20T00:24:25.981710481Z"
    }
   },
   "id": "36484cfaf87561f7"
  },
  {
   "cell_type": "code",
   "execution_count": 5,
   "outputs": [
    {
     "name": "stdout",
     "output_type": "stream",
     "text": [
      "Saving model...\n",
      "epoch: 1, iter: 100/782, train_loss: 1.8897, val_loss: 1.8732, val_accuracy: 23.0382\n",
      "Saving model...\n",
      "epoch: 1, iter: 200/782, train_loss: 1.7609, val_loss: 1.7614, val_accuracy: 25.5860\n",
      "Saving model...\n",
      "epoch: 1, iter: 300/782, train_loss: 1.6612, val_loss: 1.6665, val_accuracy: 26.6242\n",
      "Saving model...\n",
      "epoch: 1, iter: 400/782, train_loss: 1.5440, val_loss: 1.6340, val_accuracy: 26.9108\n",
      "Saving model...\n",
      "epoch: 1, iter: 500/782, train_loss: 1.6069, val_loss: 1.6020, val_accuracy: 28.1019\n",
      "epoch: 1, iter: 600/782, train_loss: 1.5956, val_loss: 1.6229, val_accuracy: 27.2420\n",
      "Saving model...\n",
      "epoch: 1, iter: 700/782, train_loss: 1.6523, val_loss: 1.5777, val_accuracy: 28.4713\n",
      "Restoring model...\n",
      "Saving model...\n",
      "epoch: 2, iter: 100/782, train_loss: 1.6243, val_loss: 1.5340, val_accuracy: 29.3248\n",
      "Saving model...\n",
      "epoch: 2, iter: 200/782, train_loss: 1.5580, val_loss: 1.5275, val_accuracy: 29.4395\n",
      "epoch: 2, iter: 300/782, train_loss: 1.7016, val_loss: 1.5662, val_accuracy: 29.2293\n",
      "Saving model...\n",
      "epoch: 2, iter: 400/782, train_loss: 1.4178, val_loss: 1.5351, val_accuracy: 29.4968\n",
      "epoch: 2, iter: 500/782, train_loss: 1.2744, val_loss: 1.6089, val_accuracy: 28.4204\n",
      "epoch: 2, iter: 600/782, train_loss: 1.4063, val_loss: 1.5650, val_accuracy: 29.0000\n",
      "epoch: 2, iter: 700/782, train_loss: 1.4688, val_loss: 1.5264, val_accuracy: 29.2803\n",
      "Restoring model...\n",
      "epoch: 3, iter: 100/782, train_loss: 1.3326, val_loss: 1.5428, val_accuracy: 29.2930\n",
      "epoch: 3, iter: 200/782, train_loss: 1.4284, val_loss: 1.5669, val_accuracy: 29.3185\n",
      "epoch: 3, iter: 300/782, train_loss: 1.4284, val_loss: 1.5525, val_accuracy: 29.3694\n",
      "Saving model...\n",
      "epoch: 3, iter: 400/782, train_loss: 1.3851, val_loss: 1.5229, val_accuracy: 30.4395\n",
      "epoch: 3, iter: 500/782, train_loss: 1.4833, val_loss: 1.5215, val_accuracy: 29.9045\n",
      "Saving model...\n",
      "epoch: 3, iter: 600/782, train_loss: 1.4376, val_loss: 1.4882, val_accuracy: 30.6242\n",
      "epoch: 3, iter: 700/782, train_loss: 1.5823, val_loss: 1.5411, val_accuracy: 29.5350\n",
      "Restoring model...\n",
      "Saving model...\n",
      "epoch: 4, iter: 100/782, train_loss: 1.4425, val_loss: 1.4889, val_accuracy: 30.8025\n",
      "epoch: 4, iter: 200/782, train_loss: 1.3056, val_loss: 1.5104, val_accuracy: 30.7516\n",
      "Saving model...\n",
      "epoch: 4, iter: 300/782, train_loss: 1.3922, val_loss: 1.4808, val_accuracy: 31.0701\n",
      "epoch: 4, iter: 400/782, train_loss: 1.5966, val_loss: 1.5212, val_accuracy: 29.9682\n",
      "epoch: 4, iter: 500/782, train_loss: 1.3724, val_loss: 1.5188, val_accuracy: 30.1975\n",
      "epoch: 4, iter: 600/782, train_loss: 1.1902, val_loss: 1.5116, val_accuracy: 30.7261\n",
      "Saving model...\n",
      "epoch: 4, iter: 700/782, train_loss: 1.6142, val_loss: 1.4773, val_accuracy: 31.2866\n",
      "Restoring model...\n",
      "Saving model...\n",
      "epoch: 5, iter: 100/782, train_loss: 1.5045, val_loss: 1.5057, val_accuracy: 31.2994\n",
      "epoch: 5, iter: 200/782, train_loss: 1.4539, val_loss: 1.4910, val_accuracy: 30.4268\n",
      "epoch: 5, iter: 300/782, train_loss: 1.3792, val_loss: 1.4921, val_accuracy: 31.0318\n",
      "epoch: 5, iter: 400/782, train_loss: 1.4643, val_loss: 1.5862, val_accuracy: 29.5541\n",
      "epoch: 5, iter: 500/782, train_loss: 1.3379, val_loss: 1.4908, val_accuracy: 31.1975\n",
      "epoch: 5, iter: 600/782, train_loss: 1.6044, val_loss: 1.5101, val_accuracy: 31.0382\n",
      "epoch: 5, iter: 700/782, train_loss: 1.3593, val_loss: 1.5694, val_accuracy: 29.9236\n",
      "Restoring model...\n",
      "epoch: 6, iter: 100/782, train_loss: 1.0175, val_loss: 1.5476, val_accuracy: 30.6115\n",
      "epoch: 6, iter: 200/782, train_loss: 1.6598, val_loss: 1.5430, val_accuracy: 30.1847\n",
      "epoch: 6, iter: 300/782, train_loss: 1.3259, val_loss: 1.5392, val_accuracy: 30.0446\n",
      "epoch: 6, iter: 400/782, train_loss: 1.4187, val_loss: 1.5004, val_accuracy: 31.1146\n",
      "epoch: 6, iter: 500/782, train_loss: 1.2862, val_loss: 1.5203, val_accuracy: 30.9745\n",
      "epoch: 6, iter: 600/782, train_loss: 1.0306, val_loss: 1.4896, val_accuracy: 31.2675\n",
      "Saving model...\n",
      "epoch: 6, iter: 700/782, train_loss: 1.4260, val_loss: 1.4628, val_accuracy: 31.5159\n",
      "Restoring model...\n",
      "epoch: 7, iter: 100/782, train_loss: 1.2555, val_loss: 1.5708, val_accuracy: 30.4522\n",
      "epoch: 7, iter: 200/782, train_loss: 1.5206, val_loss: 1.5103, val_accuracy: 30.7707\n",
      "Saving model...\n",
      "epoch: 7, iter: 300/782, train_loss: 1.3339, val_loss: 1.5011, val_accuracy: 31.6943\n",
      "epoch: 7, iter: 400/782, train_loss: 1.2038, val_loss: 1.4988, val_accuracy: 31.5032\n",
      "epoch: 7, iter: 500/782, train_loss: 1.0387, val_loss: 1.4995, val_accuracy: 31.3248\n",
      "epoch: 7, iter: 600/782, train_loss: 1.2150, val_loss: 1.5143, val_accuracy: 31.0510\n",
      "epoch: 7, iter: 700/782, train_loss: 1.2775, val_loss: 1.5375, val_accuracy: 31.0892\n",
      "Restoring model...\n",
      "epoch: 8, iter: 100/782, train_loss: 1.3701, val_loss: 1.5328, val_accuracy: 31.0510\n",
      "epoch: 8, iter: 200/782, train_loss: 1.1344, val_loss: 1.5116, val_accuracy: 31.3121\n",
      "epoch: 8, iter: 300/782, train_loss: 1.5070, val_loss: 1.5246, val_accuracy: 31.2166\n",
      "epoch: 8, iter: 400/782, train_loss: 1.6812, val_loss: 1.5572, val_accuracy: 31.0828\n",
      "epoch: 8, iter: 500/782, train_loss: 1.4044, val_loss: 1.5436, val_accuracy: 30.5032\n",
      "epoch: 8, iter: 600/782, train_loss: 1.1556, val_loss: 1.5380, val_accuracy: 31.6879\n",
      "epoch: 8, iter: 700/782, train_loss: 1.2653, val_loss: 1.5092, val_accuracy: 31.2803\n",
      "Restoring model...\n",
      "epoch: 9, iter: 100/782, train_loss: 1.2284, val_loss: 1.5103, val_accuracy: 31.1656\n",
      "epoch: 9, iter: 200/782, train_loss: 1.3200, val_loss: 1.5497, val_accuracy: 30.5287\n",
      "epoch: 9, iter: 300/782, train_loss: 1.2078, val_loss: 1.5513, val_accuracy: 30.5669\n",
      "epoch: 9, iter: 400/782, train_loss: 1.2428, val_loss: 1.5674, val_accuracy: 30.6815\n",
      "epoch: 9, iter: 500/782, train_loss: 1.2558, val_loss: 1.5052, val_accuracy: 31.6688\n",
      "epoch: 9, iter: 600/782, train_loss: 1.3851, val_loss: 1.5422, val_accuracy: 31.4904\n",
      "epoch: 9, iter: 700/782, train_loss: 1.6992, val_loss: 1.5562, val_accuracy: 30.3631\n",
      "Restoring model...\n",
      "epoch: 10, iter: 100/782, train_loss: 1.2877, val_loss: 1.5201, val_accuracy: 31.4650\n",
      "epoch: 10, iter: 200/782, train_loss: 1.5515, val_loss: 1.5439, val_accuracy: 31.5669\n",
      "epoch: 10, iter: 300/782, train_loss: 1.4037, val_loss: 1.5523, val_accuracy: 30.6115\n",
      "epoch: 10, iter: 400/782, train_loss: 1.2602, val_loss: 1.5229, val_accuracy: 31.2994\n",
      "epoch: 10, iter: 500/782, train_loss: 1.2796, val_loss: 1.5443, val_accuracy: 30.8089\n",
      "epoch: 10, iter: 600/782, train_loss: 1.4300, val_loss: 1.5302, val_accuracy: 30.7325\n",
      "epoch: 10, iter: 700/782, train_loss: 1.3264, val_loss: 1.5459, val_accuracy: 30.7261\n",
      "Restoring model...\n",
      "epoch: 11, iter: 100/782, train_loss: 1.4089, val_loss: 1.5476, val_accuracy: 30.5223\n",
      "epoch: 11, iter: 200/782, train_loss: 1.1561, val_loss: 1.5456, val_accuracy: 30.7516\n",
      "epoch: 11, iter: 300/782, train_loss: 1.4212, val_loss: 1.5271, val_accuracy: 31.2357\n",
      "Saving model...\n",
      "epoch: 11, iter: 400/782, train_loss: 1.3025, val_loss: 1.5069, val_accuracy: 31.9299\n",
      "epoch: 11, iter: 500/782, train_loss: 1.4320, val_loss: 1.5407, val_accuracy: 31.0637\n",
      "epoch: 11, iter: 600/782, train_loss: 1.1515, val_loss: 1.5469, val_accuracy: 30.6815\n",
      "epoch: 11, iter: 700/782, train_loss: 1.1166, val_loss: 1.5204, val_accuracy: 31.1338\n",
      "Restoring model...\n",
      "epoch: 12, iter: 100/782, train_loss: 1.2696, val_loss: 1.5092, val_accuracy: 31.4140\n",
      "epoch: 12, iter: 200/782, train_loss: 1.2369, val_loss: 1.5373, val_accuracy: 31.5669\n",
      "epoch: 12, iter: 300/782, train_loss: 1.1975, val_loss: 1.4970, val_accuracy: 31.5860\n",
      "epoch: 12, iter: 400/782, train_loss: 1.1623, val_loss: 1.5280, val_accuracy: 31.4268\n",
      "epoch: 12, iter: 500/782, train_loss: 1.5094, val_loss: 1.6405, val_accuracy: 30.4522\n",
      "epoch: 12, iter: 600/782, train_loss: 1.2516, val_loss: 1.4902, val_accuracy: 31.8089\n",
      "epoch: 12, iter: 700/782, train_loss: 1.3792, val_loss: 1.4883, val_accuracy: 31.8344\n",
      "Restoring model...\n",
      "epoch: 13, iter: 100/782, train_loss: 1.1389, val_loss: 1.5510, val_accuracy: 30.8408\n",
      "epoch: 13, iter: 200/782, train_loss: 1.2869, val_loss: 1.5229, val_accuracy: 31.9236\n",
      "epoch: 13, iter: 300/782, train_loss: 1.1904, val_loss: 1.4824, val_accuracy: 31.9236\n",
      "epoch: 13, iter: 400/782, train_loss: 1.2796, val_loss: 1.5349, val_accuracy: 31.4968\n",
      "epoch: 13, iter: 500/782, train_loss: 1.6073, val_loss: 1.5472, val_accuracy: 31.2994\n",
      "epoch: 13, iter: 600/782, train_loss: 1.2692, val_loss: 1.5642, val_accuracy: 31.1019\n",
      "epoch: 13, iter: 700/782, train_loss: 1.2938, val_loss: 1.5602, val_accuracy: 30.5159\n",
      "Restoring model...\n",
      "epoch: 14, iter: 100/782, train_loss: 1.5541, val_loss: 1.5228, val_accuracy: 31.7389\n",
      "epoch: 14, iter: 200/782, train_loss: 1.2595, val_loss: 1.6039, val_accuracy: 29.9299\n",
      "epoch: 14, iter: 300/782, train_loss: 1.3183, val_loss: 1.5798, val_accuracy: 30.2548\n",
      "epoch: 14, iter: 400/782, train_loss: 1.3170, val_loss: 1.5165, val_accuracy: 31.5159\n",
      "epoch: 14, iter: 500/782, train_loss: 1.2506, val_loss: 1.6422, val_accuracy: 30.9490\n",
      "epoch: 14, iter: 600/782, train_loss: 1.1322, val_loss: 1.5096, val_accuracy: 31.8854\n",
      "Saving model...\n",
      "epoch: 14, iter: 700/782, train_loss: 1.2828, val_loss: 1.4885, val_accuracy: 32.1146\n",
      "Restoring model...\n",
      "epoch: 15, iter: 100/782, train_loss: 1.1888, val_loss: 1.5170, val_accuracy: 31.7070\n",
      "Saving model...\n",
      "epoch: 15, iter: 200/782, train_loss: 1.2818, val_loss: 1.4883, val_accuracy: 32.2102\n",
      "epoch: 15, iter: 300/782, train_loss: 1.2329, val_loss: 1.4973, val_accuracy: 31.7516\n",
      "epoch: 15, iter: 400/782, train_loss: 1.3400, val_loss: 1.5297, val_accuracy: 31.5605\n",
      "epoch: 15, iter: 500/782, train_loss: 1.1639, val_loss: 1.4983, val_accuracy: 31.9936\n",
      "epoch: 15, iter: 600/782, train_loss: 1.1702, val_loss: 1.5291, val_accuracy: 31.5860\n",
      "epoch: 15, iter: 700/782, train_loss: 1.2025, val_loss: 1.6011, val_accuracy: 30.7452\n",
      "Restoring model...\n",
      "epoch: 16, iter: 100/782, train_loss: 1.2126, val_loss: 1.5339, val_accuracy: 32.0892\n",
      "epoch: 16, iter: 200/782, train_loss: 1.3685, val_loss: 1.6307, val_accuracy: 30.1401\n",
      "epoch: 16, iter: 300/782, train_loss: 1.1970, val_loss: 1.5270, val_accuracy: 31.4013\n",
      "epoch: 16, iter: 400/782, train_loss: 1.3619, val_loss: 1.5593, val_accuracy: 31.2994\n",
      "epoch: 16, iter: 500/782, train_loss: 1.2658, val_loss: 1.5379, val_accuracy: 31.4777\n",
      "epoch: 16, iter: 600/782, train_loss: 1.1596, val_loss: 1.6381, val_accuracy: 30.9045\n",
      "epoch: 16, iter: 700/782, train_loss: 1.4974, val_loss: 1.5024, val_accuracy: 32.0382\n",
      "Restoring model...\n",
      "epoch: 17, iter: 100/782, train_loss: 0.9201, val_loss: 1.5123, val_accuracy: 31.9108\n",
      "epoch: 17, iter: 200/782, train_loss: 1.4192, val_loss: 1.5512, val_accuracy: 31.5924\n",
      "epoch: 17, iter: 300/782, train_loss: 1.2348, val_loss: 1.6023, val_accuracy: 30.8662\n",
      "epoch: 17, iter: 400/782, train_loss: 1.2680, val_loss: 1.5593, val_accuracy: 31.4459\n",
      "epoch: 17, iter: 500/782, train_loss: 1.0720, val_loss: 1.5139, val_accuracy: 32.0637\n",
      "Saving model...\n",
      "epoch: 17, iter: 600/782, train_loss: 1.6456, val_loss: 1.4960, val_accuracy: 32.2548\n",
      "epoch: 17, iter: 700/782, train_loss: 1.2628, val_loss: 1.5022, val_accuracy: 31.5924\n",
      "Restoring model...\n",
      "epoch: 18, iter: 100/782, train_loss: 1.0901, val_loss: 1.5189, val_accuracy: 31.8535\n",
      "epoch: 18, iter: 200/782, train_loss: 1.3286, val_loss: 1.5436, val_accuracy: 31.3439\n",
      "epoch: 18, iter: 300/782, train_loss: 1.1907, val_loss: 1.5659, val_accuracy: 31.4968\n",
      "epoch: 18, iter: 400/782, train_loss: 1.2539, val_loss: 1.5322, val_accuracy: 32.0064\n",
      "epoch: 18, iter: 500/782, train_loss: 1.2313, val_loss: 1.5439, val_accuracy: 32.1146\n",
      "Saving model...\n",
      "epoch: 18, iter: 600/782, train_loss: 1.2301, val_loss: 1.4934, val_accuracy: 32.4395\n",
      "epoch: 18, iter: 700/782, train_loss: 1.3298, val_loss: 1.5794, val_accuracy: 31.9618\n",
      "Restoring model...\n",
      "Saving model...\n",
      "epoch: 19, iter: 100/782, train_loss: 1.3539, val_loss: 1.4995, val_accuracy: 33.0255\n",
      "epoch: 19, iter: 200/782, train_loss: 1.0276, val_loss: 1.5563, val_accuracy: 32.5350\n",
      "epoch: 19, iter: 300/782, train_loss: 1.2831, val_loss: 1.5839, val_accuracy: 31.6943\n",
      "epoch: 19, iter: 400/782, train_loss: 1.0878, val_loss: 1.5553, val_accuracy: 32.5732\n",
      "epoch: 19, iter: 500/782, train_loss: 1.2377, val_loss: 1.5792, val_accuracy: 31.8408\n",
      "epoch: 19, iter: 600/782, train_loss: 1.3367, val_loss: 1.6229, val_accuracy: 30.7389\n",
      "epoch: 19, iter: 700/782, train_loss: 1.2336, val_loss: 1.5682, val_accuracy: 31.5223\n",
      "Restoring model...\n",
      "epoch: 20, iter: 100/782, train_loss: 1.5827, val_loss: 1.6161, val_accuracy: 31.8535\n",
      "epoch: 20, iter: 200/782, train_loss: 1.2441, val_loss: 1.5998, val_accuracy: 31.8408\n",
      "epoch: 20, iter: 300/782, train_loss: 1.1797, val_loss: 1.6210, val_accuracy: 31.0764\n",
      "epoch: 20, iter: 400/782, train_loss: 1.0409, val_loss: 1.5456, val_accuracy: 32.4076\n",
      "epoch: 20, iter: 500/782, train_loss: 1.3433, val_loss: 1.6361, val_accuracy: 31.2611\n",
      "epoch: 20, iter: 600/782, train_loss: 1.1996, val_loss: 1.5951, val_accuracy: 31.7325\n",
      "epoch: 20, iter: 700/782, train_loss: 1.2053, val_loss: 1.5684, val_accuracy: 31.9682\n",
      "Training log is saved to ./checkpoints/121923_fc2_cocktail_party_cifar10_pretraining_wout_bias.pth\n"
     ]
    }
   ],
   "source": [
    "train_loss_arr, val_loss_arr, val_accuracy_arr = train_all(model_config, optimizer_type, learning_rate, criterion_type, num_epochs, train_loader, val_loader=val_loader, save_path=save_path, save_interval=save_interval, linearize=linearize)"
   ],
   "metadata": {
    "collapsed": false,
    "ExecuteTime": {
     "end_time": "2023-12-20T00:26:56.869494237Z",
     "start_time": "2023-12-20T00:24:28.584569164Z"
    }
   },
   "id": "12439c4eb3573f2d"
  }
 ],
 "metadata": {
  "kernelspec": {
   "display_name": "Python 3",
   "language": "python",
   "name": "python3"
  },
  "language_info": {
   "codemirror_mode": {
    "name": "ipython",
    "version": 2
   },
   "file_extension": ".py",
   "mimetype": "text/x-python",
   "name": "python",
   "nbconvert_exporter": "python",
   "pygments_lexer": "ipython2",
   "version": "2.7.6"
  }
 },
 "nbformat": 4,
 "nbformat_minor": 5
}
