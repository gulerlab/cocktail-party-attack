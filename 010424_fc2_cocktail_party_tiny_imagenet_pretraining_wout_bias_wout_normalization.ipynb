{
 "cells": [
  {
   "cell_type": "code",
   "execution_count": 1,
   "outputs": [],
   "source": [
    "from train import train_all\n",
    "from data import load_tiny_imagenet_dataloaders"
   ],
   "metadata": {
    "collapsed": false,
    "ExecuteTime": {
     "end_time": "2024-01-04T23:29:53.428095114Z",
     "start_time": "2024-01-04T23:29:51.688004921Z"
    }
   },
   "id": "c6a348ba109107b5"
  },
  {
   "cell_type": "code",
   "execution_count": 2,
   "outputs": [],
   "source": [
    "batch_size = 64\n",
    "model_config = './model_config/fc2_cocktail_party_tiny_imagenet_instance.json'\n",
    "optimizer_type = 'Adam'\n",
    "learning_rate = 0.001\n",
    "criterion_type = 'CrossEntropyLoss'\n",
    "num_epochs = 20\n",
    "save_path = './checkpoints/010424_fc1_cocktail_party_tiny_imagenet_pretraining_wout_bias_wout_normalization.pth'\n",
    "save_interval = 100\n",
    "linearize = True"
   ],
   "metadata": {
    "collapsed": false,
    "ExecuteTime": {
     "end_time": "2024-01-04T23:29:54.318255881Z",
     "start_time": "2024-01-04T23:29:54.311220738Z"
    }
   },
   "id": "75b482cb3415ff10"
  },
  {
   "cell_type": "code",
   "execution_count": 3,
   "outputs": [
    {
     "name": "stdout",
     "output_type": "stream",
     "text": [
      "The dataset is already installed\n"
     ]
    }
   ],
   "source": [
    "train_loader, val_loader = load_tiny_imagenet_dataloaders(batch_size)"
   ],
   "metadata": {
    "collapsed": false,
    "ExecuteTime": {
     "end_time": "2024-01-04T23:29:55.200323421Z",
     "start_time": "2024-01-04T23:29:55.146317503Z"
    }
   },
   "id": "36484cfaf87561f7"
  },
  {
   "cell_type": "code",
   "execution_count": null,
   "outputs": [
    {
     "name": "stdout",
     "output_type": "stream",
     "text": [
      "Saving model...\n",
      "epoch: 1, iter: 100/1563, train_loss: 5.2928, val_loss: 5.2994, val_accuracy: 0.3121\n",
      "Saving model...\n",
      "epoch: 1, iter: 200/1563, train_loss: 5.2983, val_loss: 5.2975, val_accuracy: 0.3376\n",
      "Saving model...\n",
      "epoch: 1, iter: 300/1563, train_loss: 5.2906, val_loss: 5.2593, val_accuracy: 0.5605\n",
      "epoch: 1, iter: 400/1563, train_loss: 5.2822, val_loss: 5.2221, val_accuracy: 0.5605\n",
      "Saving model...\n",
      "epoch: 1, iter: 500/1563, train_loss: 5.2292, val_loss: 5.2149, val_accuracy: 0.5796\n",
      "epoch: 1, iter: 600/1563, train_loss: 5.1097, val_loss: 5.2059, val_accuracy: 0.5732\n",
      "epoch: 1, iter: 700/1563, train_loss: 5.2091, val_loss: 5.2028, val_accuracy: 0.5605\n",
      "epoch: 1, iter: 800/1563, train_loss: 5.2721, val_loss: 5.2023, val_accuracy: 0.5605\n",
      "epoch: 1, iter: 900/1563, train_loss: 5.2093, val_loss: 5.2021, val_accuracy: 0.5478\n",
      "epoch: 1, iter: 1000/1563, train_loss: 5.2941, val_loss: 5.2273, val_accuracy: 0.5350\n",
      "Saving model...\n",
      "epoch: 1, iter: 1100/1563, train_loss: 5.2191, val_loss: 5.2126, val_accuracy: 0.5924\n",
      "epoch: 1, iter: 1200/1563, train_loss: 5.1531, val_loss: 5.1982, val_accuracy: 0.5732\n"
     ]
    }
   ],
   "source": [
    "train_loss_arr, val_loss_arr, val_accuracy_arr = train_all(model_config, optimizer_type, learning_rate, criterion_type, num_epochs, train_loader, val_loader=val_loader, save_path=save_path, save_interval=save_interval, linearize=linearize, fetch_from_dict=True)"
   ],
   "metadata": {
    "collapsed": false,
    "is_executing": true,
    "ExecuteTime": {
     "start_time": "2024-01-04T23:30:15.109914069Z"
    }
   },
   "id": "12439c4eb3573f2d"
  }
 ],
 "metadata": {
  "kernelspec": {
   "display_name": "Python 3",
   "language": "python",
   "name": "python3"
  },
  "language_info": {
   "codemirror_mode": {
    "name": "ipython",
    "version": 2
   },
   "file_extension": ".py",
   "mimetype": "text/x-python",
   "name": "python",
   "nbconvert_exporter": "python",
   "pygments_lexer": "ipython2",
   "version": "2.7.6"
  }
 },
 "nbformat": 4,
 "nbformat_minor": 5
}
