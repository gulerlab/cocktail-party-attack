{
 "cells": [
  {
   "cell_type": "code",
   "execution_count": 1,
   "outputs": [],
   "source": [
    "from model import Network\n",
    "from data import load_cifar10_dataloaders, WhiteningTransformation\n",
    "import torch\n",
    "import torchvision.transforms as transforms\n",
    "import torch.nn as nn\n",
    "from criterion import ReconstructImageFromFCLoss\n",
    "import numpy as np\n",
    "import matplotlib.pyplot as plt "
   ],
   "metadata": {
    "collapsed": false,
    "ExecuteTime": {
     "end_time": "2023-12-22T01:27:18.706138538Z",
     "start_time": "2023-12-22T01:27:17.203994851Z"
    }
   },
   "id": "42eb36ed57ad71e5"
  },
  {
   "cell_type": "code",
   "execution_count": 2,
   "id": "initial_id",
   "metadata": {
    "collapsed": true,
    "ExecuteTime": {
     "end_time": "2023-12-22T01:27:21.535453453Z",
     "start_time": "2023-12-22T01:27:19.875021556Z"
    }
   },
   "outputs": [
    {
     "name": "stdout",
     "output_type": "stream",
     "text": [
      "Files already downloaded and verified\n",
      "Files already downloaded and verified\n"
     ]
    }
   ],
   "source": [
    "# load to model\n",
    "model_config = './model_config/fc2_cocktail_party_instance_wout_bias.json'\n",
    "checkpoint_path = './checkpoints/121923_fc2_cocktail_party_cifar10_pretraining_wout_bias.pth'\n",
    "device = 'cuda' if torch.cuda.is_available() else 'cpu'\n",
    "model = Network(model_config)\n",
    "checkpoint = torch.load(checkpoint_path)\n",
    "model.load_state_dict(checkpoint['state_dict'])\n",
    "model = model.to(device)\n",
    "\n",
    "# get val loader\n",
    "normalize_mean, normalize_std = (0.4914, 0.4822, 0.4465), (0.247, 0.243, 0.261)\n",
    "batch_size = 4\n",
    "data_path = './data'\n",
    "transform = transforms.Compose([\n",
    "    transforms.ToTensor(),\n",
    "    transforms.Normalize(normalize_mean, normalize_std),\n",
    "])\n",
    "\n",
    "_, val_dataloader = load_cifar10_dataloaders(data_path, batch_size, transform)\n",
    "selected_val_batch_data, selected_val_batch_label = next(iter(val_dataloader))\n",
    "selected_val_batch_data = selected_val_batch_data.to(device)\n",
    "selected_val_batch_label = selected_val_batch_label.to(device)"
   ]
  },
  {
   "cell_type": "code",
   "execution_count": 3,
   "outputs": [
    {
     "name": "stdout",
     "output_type": "stream",
     "text": [
      "[torch.Size([256, 3072]), torch.Size([10, 256])]\n"
     ]
    }
   ],
   "source": [
    "# receiving gradients\n",
    "model.zero_grad()\n",
    "criterion = nn.CrossEntropyLoss()\n",
    "output = model(selected_val_batch_data.reshape(batch_size, -1))\n",
    "loss = criterion(output, selected_val_batch_label)\n",
    "loss.backward()\n",
    "gradient_of_layers = []\n",
    "for param in model.parameters():\n",
    "    gradient_of_layers.append(param.grad.data.clone().to('cpu'))\n",
    "print([x.size() for x in gradient_of_layers])"
   ],
   "metadata": {
    "collapsed": false,
    "ExecuteTime": {
     "end_time": "2023-12-22T01:27:22.536032381Z",
     "start_time": "2023-12-22T01:27:21.536556691Z"
    }
   },
   "id": "9fd43b89714d7e39"
  },
  {
   "cell_type": "code",
   "execution_count": 4,
   "outputs": [],
   "source": [
    "whitening_transform = WhiteningTransformation()\n",
    "whitened_gradient = torch.from_numpy(whitening_transform.transform(gradient_of_layers[0].detach().numpy().T)).to(torch.float32).T\n",
    "whitened_gradient = whitened_gradient.to(device)"
   ],
   "metadata": {
    "collapsed": false,
    "ExecuteTime": {
     "end_time": "2023-12-22T01:27:24.527380696Z",
     "start_time": "2023-12-22T01:27:24.091870037Z"
    }
   },
   "id": "6db76726297c0ab2"
  },
  {
   "cell_type": "code",
   "execution_count": 5,
   "outputs": [
    {
     "name": "stdout",
     "output_type": "stream",
     "text": [
      "loss: 1.8995347023010254\n",
      "loss: 0.8788036704063416\n",
      "loss: 0.7862465977668762\n",
      "loss: 0.7507825493812561\n",
      "loss: 0.7505691647529602\n",
      "loss: 0.7504043579101562\n",
      "loss: 0.750610888004303\n",
      "loss: 0.7502849698066711\n",
      "loss: 0.7506489753723145\n",
      "loss: 0.7504467964172363\n",
      "loss: 0.7504922151565552\n",
      "loss: 0.7506571412086487\n",
      "loss: 0.7505530714988708\n",
      "loss: 0.7505476474761963\n",
      "loss: 0.7504472136497498\n",
      "loss: 0.7504239082336426\n",
      "loss: 0.7503676414489746\n",
      "loss: 0.7504879832267761\n",
      "loss: 0.7505031824111938\n",
      "loss: 0.7504636645317078\n",
      "loss: 0.7503194808959961\n",
      "loss: 0.7504571676254272\n",
      "loss: 0.7503634691238403\n",
      "loss: 0.750187873840332\n",
      "loss: 0.7503383755683899\n",
      "loss: 0.7503258585929871\n"
     ]
    }
   ],
   "source": [
    "# criterion output testing\n",
    "unmixing_matrix = torch.rand((selected_val_batch_data.size(0), gradient_of_layers[0].size(0)), requires_grad=True, device=device)\n",
    "reconstruction_loss = ReconstructImageFromFCLoss(32, 32, 3, 1, 1, 1)\n",
    "optimizer = torch.optim.Adam([unmixing_matrix])\n",
    "\n",
    "for iter_idx in range(25000):\n",
    "    optimizer.zero_grad()\n",
    "    # out_score, non_gaussianity_score, total_variance_score, mutual_independence_score\n",
    "    loss, _, _, _ = reconstruction_loss(unmixing_matrix, whitened_gradient)\n",
    "    loss.backward()\n",
    "    optimizer.step()\n",
    "    \n",
    "    if (iter_idx + 1) % 1000 == 0 or iter_idx == 0:\n",
    "        print('loss: {}'.format(loss.item()))"
   ],
   "metadata": {
    "collapsed": false,
    "ExecuteTime": {
     "end_time": "2023-12-22T01:27:57.139927865Z",
     "start_time": "2023-12-22T01:27:25.813358800Z"
    }
   },
   "id": "271ed464941bfd3a"
  },
  {
   "cell_type": "markdown",
   "source": [
    "## Estimated images"
   ],
   "metadata": {
    "collapsed": false
   },
   "id": "4554820f3fb44cee"
  },
  {
   "cell_type": "code",
   "outputs": [
    {
     "data": {
      "text/plain": "<Figure size 640x480 with 4 Axes>",
      "image/png": "[encoded data removed]"
     },
     "metadata": {},
     "output_type": "display_data"
    }
   ],
   "source": [
    "with torch.no_grad():\n",
    "    unmixing_matrix = unmixing_matrix.detach().to('cpu')\n",
    "    whitened_gradient = whitened_gradient.detach().to('cpu')\n",
    "    estimated_img = unmixing_matrix @ whitened_gradient\n",
    "    fig, axes = plt.subplots(2, 2)\n",
    "    \n",
    "    for estimate, ax in zip(estimated_img, axes.flatten()):\n",
    "        img = transforms.ToPILImage()(torch.clamp(estimate.reshape(3, 32, 32), min=-1, max=1))\n",
    "        img = np.asarray(img)\n",
    "        ax.imshow(img)\n",
    "    plt.show()"
   ],
   "metadata": {
    "collapsed": false,
    "ExecuteTime": {
     "end_time": "2023-12-22T01:30:56.340066394Z",
     "start_time": "2023-12-22T01:30:56.166252881Z"
    }
   },
   "id": "6a98f3aed5bf5ca5",
   "execution_count": 13
  },
  {
   "cell_type": "markdown",
   "source": [
    "## Original images"
   ],
   "metadata": {
    "collapsed": false
   },
   "id": "74a112c7a21e3419"
  },
  {
   "cell_type": "code",
   "outputs": [
    {
     "data": {
      "text/plain": "<Figure size 640x480 with 4 Axes>",
      "image/png": "[encoded data removed]"
     },
     "metadata": {},
     "output_type": "display_data"
    }
   ],
   "source": [
    "with torch.no_grad():\n",
    "    fig, axes = plt.subplots(2, 2)\n",
    "    \n",
    "    for estimate, ax in zip(selected_val_batch_data, axes.flatten()):\n",
    "        img = transforms.ToPILImage()(torch.clamp(estimate.reshape(3, 32, 32), min=-1, max=1))\n",
    "        img = np.asarray(img)\n",
    "        ax.imshow(img)\n",
    "    plt.show()"
   ],
   "metadata": {
    "collapsed": false,
    "ExecuteTime": {
     "end_time": "2023-12-22T01:25:49.489007490Z",
     "start_time": "2023-12-22T01:25:49.349000217Z"
    }
   },
   "id": "bb0693fb75c62547",
   "execution_count": 19
  }
 ],
 "metadata": {
  "kernelspec": {
   "display_name": "Python 3",
   "language": "python",
   "name": "python3"
  },
  "language_info": {
   "codemirror_mode": {
    "name": "ipython",
    "version": 2
   },
   "file_extension": ".py",
   "mimetype": "text/x-python",
   "name": "python",
   "nbconvert_exporter": "python",
   "pygments_lexer": "ipython2",
   "version": "2.7.6"
  }
 },
 "nbformat": 4,
 "nbformat_minor": 5
}
