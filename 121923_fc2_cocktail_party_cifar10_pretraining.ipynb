{
 "cells": [
  {
   "cell_type": "code",
   "execution_count": 1,
   "outputs": [],
   "source": [
    "from train import train_all\n",
    "from data import load_cifar10_dataloaders\n",
    "import torchvision.transforms as transforms"
   ],
   "metadata": {
    "collapsed": false,
    "ExecuteTime": {
     "end_time": "2023-12-19T23:17:45.881004896Z",
     "start_time": "2023-12-19T23:17:45.173181729Z"
    }
   },
   "id": "c6a348ba109107b5"
  },
  {
   "cell_type": "code",
   "execution_count": 2,
   "outputs": [],
   "source": [
    "batch_size = 64\n",
    "data_path = './data'\n",
    "normalize_mean, normalize_std = (0.4914, 0.4822, 0.4465), (0.247, 0.243, 0.261) \n",
    "\n",
    "model_config = './model_config/fc2_cocktail_party_instance.json'\n",
    "optimizer_type = 'Adam'\n",
    "learning_rate = 0.001\n",
    "criterion_type = 'CrossEntropyLoss'\n",
    "num_epochs = 20\n",
    "save_path = './checkpoints/121923_fc2_cocktail_party_cifar10_pretraining.pth'\n",
    "save_interval = 100\n",
    "linearize = True"
   ],
   "metadata": {
    "collapsed": false,
    "ExecuteTime": {
     "end_time": "2023-12-19T23:17:46.368979240Z",
     "start_time": "2023-12-19T23:17:46.366233023Z"
    }
   },
   "id": "75b482cb3415ff10"
  },
  {
   "cell_type": "code",
   "execution_count": 3,
   "outputs": [],
   "source": [
    "transform = transforms.Compose([\n",
    "    transforms.ToTensor(),\n",
    "    transforms.Normalize(normalize_mean, normalize_std),\n",
    "])"
   ],
   "metadata": {
    "collapsed": false,
    "ExecuteTime": {
     "end_time": "2023-12-19T23:17:47.217505752Z",
     "start_time": "2023-12-19T23:17:47.214306040Z"
    }
   },
   "id": "f4942066bc53047b"
  },
  {
   "cell_type": "code",
   "execution_count": 4,
   "outputs": [
    {
     "name": "stdout",
     "output_type": "stream",
     "text": [
      "Files already downloaded and verified\n",
      "Files already downloaded and verified\n"
     ]
    }
   ],
   "source": [
    "train_loader, val_loader = load_cifar10_dataloaders(data_path, batch_size, transform)"
   ],
   "metadata": {
    "collapsed": false,
    "ExecuteTime": {
     "end_time": "2023-12-19T23:17:49.945246516Z",
     "start_time": "2023-12-19T23:17:48.923006695Z"
    }
   },
   "id": "36484cfaf87561f7"
  },
  {
   "cell_type": "code",
   "execution_count": null,
   "outputs": [
    {
     "name": "stdout",
     "output_type": "stream",
     "text": [
      "Saving model...\n",
      "epoch: 1, iter: 100/782, train_loss: 2.0176, val_loss: 1.8210, val_accuracy: 24.9618\n",
      "Saving model...\n",
      "epoch: 1, iter: 200/782, train_loss: 1.5824, val_loss: 1.7545, val_accuracy: 25.1210\n",
      "Saving model...\n",
      "epoch: 1, iter: 300/782, train_loss: 1.6198, val_loss: 1.6808, val_accuracy: 25.9936\n",
      "Saving model...\n",
      "epoch: 1, iter: 400/782, train_loss: 1.8459, val_loss: 1.6429, val_accuracy: 27.3121\n",
      "Saving model...\n",
      "epoch: 1, iter: 500/782, train_loss: 1.5364, val_loss: 1.6082, val_accuracy: 27.8790\n",
      "Saving model...\n",
      "epoch: 1, iter: 600/782, train_loss: 1.8673, val_loss: 1.5646, val_accuracy: 28.1911\n",
      "Saving model...\n",
      "epoch: 1, iter: 700/782, train_loss: 1.5547, val_loss: 1.5514, val_accuracy: 29.1146\n",
      "Restoring model...\n",
      "epoch: 2, iter: 100/782, train_loss: 1.4736, val_loss: 1.6088, val_accuracy: 27.7197\n",
      "Saving model...\n",
      "epoch: 2, iter: 200/782, train_loss: 1.6963, val_loss: 1.5448, val_accuracy: 29.2930\n",
      "Saving model...\n",
      "epoch: 2, iter: 300/782, train_loss: 1.7046, val_loss: 1.5514, val_accuracy: 29.4968\n",
      "Saving model...\n",
      "epoch: 2, iter: 400/782, train_loss: 1.4514, val_loss: 1.5141, val_accuracy: 29.8726\n",
      "Saving model...\n",
      "epoch: 2, iter: 500/782, train_loss: 1.6334, val_loss: 1.5229, val_accuracy: 29.9873\n",
      "epoch: 2, iter: 600/782, train_loss: 1.4290, val_loss: 1.5747, val_accuracy: 28.8089\n",
      "Saving model...\n",
      "epoch: 2, iter: 700/782, train_loss: 1.4003, val_loss: 1.5005, val_accuracy: 30.1720\n",
      "Restoring model...\n",
      "Saving model...\n",
      "epoch: 3, iter: 100/782, train_loss: 1.3420, val_loss: 1.5008, val_accuracy: 30.3248\n",
      "Saving model...\n",
      "epoch: 3, iter: 200/782, train_loss: 1.5531, val_loss: 1.5110, val_accuracy: 30.6879\n",
      "epoch: 3, iter: 300/782, train_loss: 1.6212, val_loss: 1.5662, val_accuracy: 29.7389\n",
      "epoch: 3, iter: 400/782, train_loss: 1.2578, val_loss: 1.5002, val_accuracy: 30.6115\n",
      "Saving model...\n",
      "epoch: 3, iter: 500/782, train_loss: 1.3947, val_loss: 1.4647, val_accuracy: 31.1720\n",
      "epoch: 3, iter: 600/782, train_loss: 1.3650, val_loss: 1.4826, val_accuracy: 30.4968\n",
      "epoch: 3, iter: 700/782, train_loss: 1.6799, val_loss: 1.5324, val_accuracy: 30.0191\n",
      "Restoring model...\n",
      "epoch: 4, iter: 100/782, train_loss: 1.5485, val_loss: 1.5568, val_accuracy: 29.6115\n",
      "epoch: 4, iter: 200/782, train_loss: 1.3811, val_loss: 1.5152, val_accuracy: 30.8917\n",
      "epoch: 4, iter: 300/782, train_loss: 1.4177, val_loss: 1.5771, val_accuracy: 30.3885\n",
      "epoch: 4, iter: 400/782, train_loss: 1.2559, val_loss: 1.5418, val_accuracy: 30.0382\n",
      "epoch: 4, iter: 500/782, train_loss: 1.3132, val_loss: 1.5594, val_accuracy: 30.1338\n",
      "epoch: 4, iter: 600/782, train_loss: 1.2031, val_loss: 1.4970, val_accuracy: 30.6815\n",
      "Saving model...\n",
      "epoch: 4, iter: 700/782, train_loss: 1.3950, val_loss: 1.4611, val_accuracy: 31.5159\n",
      "Restoring model...\n",
      "epoch: 5, iter: 100/782, train_loss: 1.6113, val_loss: 1.5392, val_accuracy: 30.3503\n",
      "epoch: 5, iter: 200/782, train_loss: 1.2946, val_loss: 1.4853, val_accuracy: 31.4841\n",
      "Saving model...\n",
      "epoch: 5, iter: 300/782, train_loss: 1.5468, val_loss: 1.4776, val_accuracy: 31.6178\n",
      "epoch: 5, iter: 400/782, train_loss: 1.1326, val_loss: 1.5253, val_accuracy: 30.6943\n",
      "Saving model...\n",
      "epoch: 5, iter: 500/782, train_loss: 1.4631, val_loss: 1.4915, val_accuracy: 32.0191\n",
      "epoch: 5, iter: 600/782, train_loss: 1.0810, val_loss: 1.4908, val_accuracy: 31.2866\n",
      "Saving model...\n",
      "epoch: 5, iter: 700/782, train_loss: 1.4191, val_loss: 1.4666, val_accuracy: 32.0382\n",
      "Restoring model...\n",
      "epoch: 6, iter: 100/782, train_loss: 1.0700, val_loss: 1.4495, val_accuracy: 31.9682\n",
      "epoch: 6, iter: 200/782, train_loss: 1.1435, val_loss: 1.5106, val_accuracy: 31.1146\n",
      "epoch: 6, iter: 300/782, train_loss: 1.3244, val_loss: 1.5265, val_accuracy: 30.9108\n",
      "epoch: 6, iter: 400/782, train_loss: 1.3634, val_loss: 1.5065, val_accuracy: 31.1210\n",
      "epoch: 6, iter: 500/782, train_loss: 1.5529, val_loss: 1.5154, val_accuracy: 31.2038\n",
      "Saving model...\n",
      "epoch: 6, iter: 600/782, train_loss: 1.1286, val_loss: 1.4458, val_accuracy: 32.2739\n",
      "epoch: 6, iter: 700/782, train_loss: 1.2439, val_loss: 1.4783, val_accuracy: 31.7197\n",
      "Restoring model...\n",
      "epoch: 7, iter: 100/782, train_loss: 1.0661, val_loss: 1.4895, val_accuracy: 31.9299\n",
      "epoch: 7, iter: 200/782, train_loss: 1.1008, val_loss: 1.5511, val_accuracy: 30.5796\n",
      "epoch: 7, iter: 300/782, train_loss: 1.1049, val_loss: 1.5053, val_accuracy: 31.7134\n",
      "epoch: 7, iter: 400/782, train_loss: 1.1561, val_loss: 1.4957, val_accuracy: 31.4140\n",
      "epoch: 7, iter: 500/782, train_loss: 1.1371, val_loss: 1.5211, val_accuracy: 31.5605\n",
      "epoch: 7, iter: 600/782, train_loss: 1.5202, val_loss: 1.5299, val_accuracy: 31.4841\n",
      "Saving model...\n",
      "epoch: 7, iter: 700/782, train_loss: 1.4180, val_loss: 1.4548, val_accuracy: 32.9045\n",
      "Restoring model...\n",
      "epoch: 8, iter: 100/782, train_loss: 0.9172, val_loss: 1.5181, val_accuracy: 32.6306\n",
      "epoch: 8, iter: 200/782, train_loss: 1.0882, val_loss: 1.5185, val_accuracy: 32.1911\n",
      "epoch: 8, iter: 300/782, train_loss: 1.0241, val_loss: 1.6082, val_accuracy: 30.9682\n",
      "epoch: 8, iter: 400/782, train_loss: 1.3379, val_loss: 1.5386, val_accuracy: 31.2611\n",
      "epoch: 8, iter: 500/782, train_loss: 1.1862, val_loss: 1.4881, val_accuracy: 32.4459\n",
      "epoch: 8, iter: 600/782, train_loss: 1.2619, val_loss: 1.5148, val_accuracy: 31.8471\n",
      "epoch: 8, iter: 700/782, train_loss: 1.1270, val_loss: 1.5052, val_accuracy: 31.9936\n",
      "Restoring model...\n",
      "epoch: 9, iter: 100/782, train_loss: 1.1461, val_loss: 1.4764, val_accuracy: 32.4522\n",
      "epoch: 9, iter: 200/782, train_loss: 1.1614, val_loss: 1.4816, val_accuracy: 32.3248\n",
      "epoch: 9, iter: 300/782, train_loss: 1.1058, val_loss: 1.5835, val_accuracy: 31.4268\n",
      "epoch: 9, iter: 400/782, train_loss: 1.4957, val_loss: 1.4944, val_accuracy: 32.5605\n",
      "epoch: 9, iter: 500/782, train_loss: 1.3888, val_loss: 1.5358, val_accuracy: 31.9809\n",
      "epoch: 9, iter: 600/782, train_loss: 1.4128, val_loss: 1.5456, val_accuracy: 32.3758\n",
      "epoch: 9, iter: 700/782, train_loss: 1.0761, val_loss: 1.4867, val_accuracy: 32.7389\n",
      "Restoring model...\n",
      "Saving model...\n",
      "epoch: 10, iter: 100/782, train_loss: 1.0823, val_loss: 1.4429, val_accuracy: 33.2611\n",
      "epoch: 10, iter: 200/782, train_loss: 1.2395, val_loss: 1.4899, val_accuracy: 32.4650\n",
      "epoch: 10, iter: 300/782, train_loss: 1.5823, val_loss: 1.4842, val_accuracy: 31.9490\n",
      "epoch: 10, iter: 400/782, train_loss: 1.1794, val_loss: 1.6060, val_accuracy: 30.4904\n",
      "epoch: 10, iter: 500/782, train_loss: 1.4078, val_loss: 1.5250, val_accuracy: 32.4204\n",
      "epoch: 10, iter: 600/782, train_loss: 0.9956, val_loss: 1.5130, val_accuracy: 31.9873\n",
      "epoch: 10, iter: 700/782, train_loss: 1.2279, val_loss: 1.5294, val_accuracy: 31.6752\n",
      "Restoring model...\n",
      "epoch: 11, iter: 100/782, train_loss: 1.1697, val_loss: 1.5233, val_accuracy: 31.6815\n",
      "epoch: 11, iter: 200/782, train_loss: 1.2406, val_loss: 1.5226, val_accuracy: 31.7006\n",
      "epoch: 11, iter: 300/782, train_loss: 1.3995, val_loss: 1.5685, val_accuracy: 31.4841\n",
      "epoch: 11, iter: 400/782, train_loss: 0.9791, val_loss: 1.4928, val_accuracy: 32.4904\n",
      "epoch: 11, iter: 500/782, train_loss: 1.6405, val_loss: 1.5646, val_accuracy: 31.6306\n",
      "epoch: 11, iter: 600/782, train_loss: 1.1521, val_loss: 1.5480, val_accuracy: 31.9873\n",
      "epoch: 11, iter: 700/782, train_loss: 1.3677, val_loss: 1.5413, val_accuracy: 31.4140\n",
      "Restoring model...\n",
      "epoch: 12, iter: 100/782, train_loss: 0.9853, val_loss: 1.5115, val_accuracy: 31.9172\n",
      "epoch: 12, iter: 200/782, train_loss: 1.3887, val_loss: 1.5584, val_accuracy: 31.9682\n",
      "epoch: 12, iter: 300/782, train_loss: 1.4044, val_loss: 1.5003, val_accuracy: 31.9363\n",
      "epoch: 12, iter: 400/782, train_loss: 1.3308, val_loss: 1.5249, val_accuracy: 31.8981\n",
      "epoch: 12, iter: 500/782, train_loss: 1.2419, val_loss: 1.5269, val_accuracy: 31.8408\n",
      "epoch: 12, iter: 600/782, train_loss: 1.1239, val_loss: 1.4916, val_accuracy: 32.9554\n",
      "epoch: 12, iter: 700/782, train_loss: 0.9119, val_loss: 1.5248, val_accuracy: 32.0127\n",
      "Restoring model...\n",
      "epoch: 13, iter: 100/782, train_loss: 1.0595, val_loss: 1.5103, val_accuracy: 32.0701\n",
      "epoch: 13, iter: 200/782, train_loss: 0.9551, val_loss: 1.5300, val_accuracy: 32.1656\n",
      "epoch: 13, iter: 300/782, train_loss: 1.1283, val_loss: 1.5023, val_accuracy: 31.8089\n",
      "epoch: 13, iter: 400/782, train_loss: 1.0528, val_loss: 1.5088, val_accuracy: 31.7516\n",
      "epoch: 13, iter: 500/782, train_loss: 1.0625, val_loss: 1.5430, val_accuracy: 31.3185\n",
      "epoch: 13, iter: 600/782, train_loss: 0.9517, val_loss: 1.4689, val_accuracy: 32.7070\n",
      "epoch: 13, iter: 700/782, train_loss: 0.9830, val_loss: 1.4740, val_accuracy: 32.4013\n",
      "Restoring model...\n",
      "epoch: 14, iter: 100/782, train_loss: 1.6411, val_loss: 1.5786, val_accuracy: 31.0255\n",
      "epoch: 14, iter: 200/782, train_loss: 1.2428, val_loss: 1.5171, val_accuracy: 32.2484\n",
      "epoch: 14, iter: 300/782, train_loss: 1.0825, val_loss: 1.4433, val_accuracy: 32.9172\n",
      "epoch: 14, iter: 400/782, train_loss: 1.1259, val_loss: 1.4895, val_accuracy: 31.9490\n",
      "epoch: 14, iter: 500/782, train_loss: 1.2631, val_loss: 1.4948, val_accuracy: 32.5860\n",
      "epoch: 14, iter: 600/782, train_loss: 1.4607, val_loss: 1.5191, val_accuracy: 31.7261\n",
      "epoch: 14, iter: 700/782, train_loss: 1.5387, val_loss: 1.4376, val_accuracy: 33.1529\n",
      "Restoring model...\n",
      "epoch: 15, iter: 100/782, train_loss: 1.1242, val_loss: 1.5115, val_accuracy: 31.7389\n",
      "epoch: 15, iter: 200/782, train_loss: 1.2390, val_loss: 1.5128, val_accuracy: 31.8025\n",
      "epoch: 15, iter: 300/782, train_loss: 1.2668, val_loss: 1.4841, val_accuracy: 32.5605\n",
      "epoch: 15, iter: 400/782, train_loss: 1.0491, val_loss: 1.4911, val_accuracy: 32.9554\n",
      "epoch: 15, iter: 500/782, train_loss: 1.4034, val_loss: 1.4939, val_accuracy: 32.4204\n",
      "epoch: 15, iter: 600/782, train_loss: 0.7843, val_loss: 1.4657, val_accuracy: 32.9299\n",
      "epoch: 15, iter: 700/782, train_loss: 1.1438, val_loss: 1.4851, val_accuracy: 32.1338\n",
      "Restoring model...\n",
      "epoch: 16, iter: 100/782, train_loss: 0.9786, val_loss: 1.5469, val_accuracy: 31.7516\n",
      "epoch: 16, iter: 200/782, train_loss: 1.2374, val_loss: 1.5330, val_accuracy: 31.6178\n",
      "epoch: 16, iter: 300/782, train_loss: 1.1225, val_loss: 1.4614, val_accuracy: 33.0637\n",
      "epoch: 16, iter: 400/782, train_loss: 1.1333, val_loss: 1.5313, val_accuracy: 32.1274\n",
      "epoch: 16, iter: 500/782, train_loss: 1.1219, val_loss: 1.5242, val_accuracy: 32.3248\n",
      "epoch: 16, iter: 600/782, train_loss: 1.0843, val_loss: 1.5260, val_accuracy: 31.6943\n",
      "epoch: 16, iter: 700/782, train_loss: 1.2325, val_loss: 1.5032, val_accuracy: 31.9745\n",
      "Restoring model...\n",
      "epoch: 17, iter: 100/782, train_loss: 1.1095, val_loss: 1.5345, val_accuracy: 31.8089\n",
      "epoch: 17, iter: 200/782, train_loss: 1.0131, val_loss: 1.5461, val_accuracy: 31.6178\n",
      "epoch: 17, iter: 300/782, train_loss: 1.2369, val_loss: 1.5495, val_accuracy: 31.9682\n",
      "epoch: 17, iter: 400/782, train_loss: 0.8724, val_loss: 1.4893, val_accuracy: 32.2803\n",
      "epoch: 17, iter: 500/782, train_loss: 1.0959, val_loss: 1.5113, val_accuracy: 32.1529\n",
      "epoch: 17, iter: 600/782, train_loss: 1.0774, val_loss: 1.4916, val_accuracy: 32.3949\n"
     ]
    }
   ],
   "source": [
    "train_loss_arr, val_loss_arr, val_accuracy_arr = train_all(model_config, optimizer_type, learning_rate, criterion_type, num_epochs, train_loader, val_loader=val_loader, save_path=save_path, save_interval=save_interval, linearize=linearize)"
   ],
   "metadata": {
    "collapsed": false,
    "is_executing": true,
    "ExecuteTime": {
     "start_time": "2023-12-19T23:17:51.101954837Z"
    }
   },
   "id": "12439c4eb3573f2d"
  }
 ],
 "metadata": {
  "kernelspec": {
   "display_name": "Python 3",
   "language": "python",
   "name": "python3"
  },
  "language_info": {
   "codemirror_mode": {
    "name": "ipython",
    "version": 2
   },
   "file_extension": ".py",
   "mimetype": "text/x-python",
   "name": "python",
   "nbconvert_exporter": "python",
   "pygments_lexer": "ipython2",
   "version": "2.7.6"
  }
 },
 "nbformat": 4,
 "nbformat_minor": 5
}
